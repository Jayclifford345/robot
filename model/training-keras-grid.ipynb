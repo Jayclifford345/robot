{
 "cells": [
  {
   "attachments": {},
   "cell_type": "markdown",
   "metadata": {},
   "source": [
    "# ML Model Example\n",
    "\n",
    "This example provides a simply query tutorial for InfluxDB Cloud Dedicated. "
   ]
  },
  {
   "cell_type": "code",
   "execution_count": 15,
   "metadata": {},
   "outputs": [
    {
     "name": "stdout",
     "output_type": "stream",
     "text": [
      "Requirement already satisfied: scikeras in /Users/jayclifford/Documents/repos/robot/.venv/lib/python3.11/site-packages (0.11.0)\n",
      "Requirement already satisfied: grpcio<1.50.0 in /Users/jayclifford/Documents/repos/robot/.venv/lib/python3.11/site-packages (from scikeras) (1.49.1)\n",
      "Requirement already satisfied: packaging>=0.21 in /Users/jayclifford/Documents/repos/robot/.venv/lib/python3.11/site-packages (from scikeras) (23.1)\n",
      "Requirement already satisfied: scikit-learn>=1.0.0 in /Users/jayclifford/Documents/repos/robot/.venv/lib/python3.11/site-packages (from scikeras) (1.2.2)\n",
      "Requirement already satisfied: six>=1.5.2 in /Users/jayclifford/Documents/repos/robot/.venv/lib/python3.11/site-packages (from grpcio<1.50.0->scikeras) (1.16.0)\n",
      "Requirement already satisfied: numpy>=1.17.3 in /Users/jayclifford/Documents/repos/robot/.venv/lib/python3.11/site-packages (from scikit-learn>=1.0.0->scikeras) (1.23.5)\n",
      "Requirement already satisfied: scipy>=1.3.2 in /Users/jayclifford/Documents/repos/robot/.venv/lib/python3.11/site-packages (from scikit-learn>=1.0.0->scikeras) (1.10.1)\n",
      "Requirement already satisfied: joblib>=1.1.1 in /Users/jayclifford/Documents/repos/robot/.venv/lib/python3.11/site-packages (from scikit-learn>=1.0.0->scikeras) (1.2.0)\n",
      "Requirement already satisfied: threadpoolctl>=2.0.0 in /Users/jayclifford/Documents/repos/robot/.venv/lib/python3.11/site-packages (from scikit-learn>=1.0.0->scikeras) (3.1.0)\n",
      "\n",
      "\u001b[1m[\u001b[0m\u001b[34;49mnotice\u001b[0m\u001b[1;39;49m]\u001b[0m\u001b[39;49m A new release of pip is available: \u001b[0m\u001b[31;49m23.1.2\u001b[0m\u001b[39;49m -> \u001b[0m\u001b[32;49m23.2.1\u001b[0m\n",
      "\u001b[1m[\u001b[0m\u001b[34;49mnotice\u001b[0m\u001b[1;39;49m]\u001b[0m\u001b[39;49m To update, run: \u001b[0m\u001b[32;49mpip install --upgrade pip\u001b[0m\n",
      "Note: you may need to restart the kernel to use updated packages.\n"
     ]
    }
   ],
   "source": [
    "%pip install scikeras"
   ]
  },
  {
   "cell_type": "code",
   "execution_count": 16,
   "metadata": {},
   "outputs": [],
   "source": [
    "import influxdb_client_3 as InfluxDBClient3\n",
    "import numpy as np\n",
    "from keras.layers import Input, Dense, BatchNormalization, Normalization, LeakyReLU, Dropout\n",
    "from keras.models import Model\n",
    "from keras.regularizers import L1L2\n",
    "from keras.callbacks import TensorBoard\n",
    "from keras import Sequential\n",
    "\n",
    "import plotly.io as pio\n",
    "import plotly.express as px\n",
    "from huggingface_hub import push_to_hub_keras\n",
    "\n",
    "from keras.regularizers import L1L2\n",
    "from scikeras.wrappers import KerasRegressor\n",
    "from sklearn.model_selection import GridSearchCV, RandomizedSearchCV\n",
    "\n",
    "pio.renderers.default = \"vscode\"\n",
    "import os, datetime\n"
   ]
  },
  {
   "cell_type": "code",
   "execution_count": 17,
   "metadata": {},
   "outputs": [],
   "source": [
    "token = 'dzfx2CLrpmGjbTHmdbnw1cSB7Op89g6cQ2VD7EVRJYHiF8UN8bRqIaBK92TxnCa906qWjjV6KVk_TQrW0uH5IA=='\n",
    "host = 'eu-central-1-1.aws.cloud2.influxdata.com'    \n",
    "org = 'Jay-IOx'\n",
    "db = 'robot'\n",
    "\n",
    "client = InfluxDBClient3.InfluxDBClient3(token=token,\n",
    "                         host=host,\n",
    "                         org=org,\n",
    "                         database=db) \n",
    "    \n",
    "    \n"
   ]
  },
  {
   "cell_type": "code",
   "execution_count": 18,
   "metadata": {},
   "outputs": [
    {
     "data": {
      "application/vnd.plotly.v1+json": {
       "config": {
        "plotlyServerURL": "https://plot.ly"
       },
       "data": [
        {
         "hovertemplate": "variable=coord<br>time=%{x}<br>value=%{y}<extra></extra>",
         "legendgroup": "coord",
         "line": {
          "color": "#636efa",
          "dash": "solid"
         },
         "marker": {
          "symbol": "circle"
         },
         "mode": "lines",
         "name": "coord",
         "orientation": "v",
         "showlegend": true,
         "type": "scatter",
         "x": [
          "2023-10-06T10:16:52",
          "2023-10-06T10:16:54",
          "2023-10-06T10:16:56",
          "2023-10-06T10:16:58",
          "2023-10-06T10:17:00",
          "2023-10-06T10:17:02",
          "2023-10-06T10:17:04",
          "2023-10-06T10:17:06",
          "2023-10-06T10:17:08",
          "2023-10-06T10:17:10",
          "2023-10-06T10:17:12",
          "2023-10-06T10:17:14",
          "2023-10-06T10:17:16",
          "2023-10-06T10:17:18",
          "2023-10-06T10:17:20",
          "2023-10-06T10:17:22",
          "2023-10-06T10:17:24",
          "2023-10-06T10:17:26",
          "2023-10-06T10:17:28",
          "2023-10-06T10:17:30",
          "2023-10-06T10:17:32",
          "2023-10-06T10:17:34",
          "2023-10-06T10:17:36",
          "2023-10-06T10:17:38",
          "2023-10-06T10:17:40",
          "2023-10-06T10:17:42",
          "2023-10-06T10:17:44",
          "2023-10-06T10:17:46",
          "2023-10-06T10:17:48",
          "2023-10-06T10:17:50",
          "2023-10-06T10:17:52",
          "2023-10-06T10:17:54",
          "2023-10-06T10:17:56",
          "2023-10-06T10:17:58",
          "2023-10-06T10:18:00",
          "2023-10-06T10:18:02",
          "2023-10-06T10:18:04",
          "2023-10-06T10:18:06",
          "2023-10-06T10:18:08",
          "2023-10-06T10:18:10",
          "2023-10-06T10:18:12",
          "2023-10-06T10:18:14",
          "2023-10-06T10:18:16",
          "2023-10-06T10:18:18",
          "2023-10-06T10:18:20",
          "2023-10-06T10:18:22",
          "2023-10-06T10:18:24",
          "2023-10-06T10:18:26",
          "2023-10-06T10:18:28",
          "2023-10-06T10:18:30",
          "2023-10-06T10:18:32",
          "2023-10-06T10:18:34",
          "2023-10-06T10:18:36",
          "2023-10-06T10:18:38",
          "2023-10-06T10:18:40",
          "2023-10-06T10:18:42",
          "2023-10-06T10:18:44",
          "2023-10-06T10:18:46",
          "2023-10-06T10:18:48",
          "2023-10-06T10:18:50",
          "2023-10-06T10:18:52",
          "2023-10-06T10:18:54",
          "2023-10-06T10:18:56",
          "2023-10-06T10:18:58",
          "2023-10-06T10:19:00",
          "2023-10-06T10:19:02",
          "2023-10-06T10:19:04",
          "2023-10-06T10:19:06",
          "2023-10-06T10:19:08",
          "2023-10-06T10:19:10",
          "2023-10-06T10:19:12",
          "2023-10-06T10:19:14",
          "2023-10-06T10:19:16",
          "2023-10-06T10:19:18",
          "2023-10-06T10:19:20",
          "2023-10-06T10:19:22",
          "2023-10-06T10:19:24",
          "2023-10-06T10:19:26",
          "2023-10-06T10:19:28",
          "2023-10-06T10:19:30",
          "2023-10-06T10:19:32",
          "2023-10-06T10:19:34",
          "2023-10-06T10:19:36",
          "2023-10-06T10:19:38",
          "2023-10-06T10:19:40",
          "2023-10-06T10:19:42",
          "2023-10-06T10:19:44",
          "2023-10-06T10:19:46",
          "2023-10-06T10:19:48",
          "2023-10-06T10:19:50",
          "2023-10-06T10:19:52",
          "2023-10-06T10:19:54",
          "2023-10-06T10:19:56",
          "2023-10-06T10:19:58",
          "2023-10-06T10:20:00",
          "2023-10-06T10:20:02",
          "2023-10-06T10:20:04",
          "2023-10-06T10:20:06",
          "2023-10-06T10:20:08",
          "2023-10-06T10:20:10",
          "2023-10-06T10:20:12",
          "2023-10-06T10:20:14",
          "2023-10-06T10:20:16",
          "2023-10-06T10:20:18",
          "2023-10-06T10:20:20",
          "2023-10-06T10:20:22",
          "2023-10-06T10:20:24",
          "2023-10-06T10:20:26",
          "2023-10-06T10:20:28",
          "2023-10-06T10:20:30",
          "2023-10-06T10:20:32",
          "2023-10-06T10:20:34",
          "2023-10-06T10:20:36",
          "2023-10-06T10:20:38",
          "2023-10-06T10:20:40",
          "2023-10-06T10:20:42",
          "2023-10-06T10:20:44",
          "2023-10-06T10:20:46",
          "2023-10-06T10:20:48",
          "2023-10-06T10:20:50",
          "2023-10-06T10:20:52",
          "2023-10-06T10:20:54",
          "2023-10-06T10:20:56",
          "2023-10-06T10:20:58",
          "2023-10-06T10:21:00",
          "2023-10-06T10:21:02",
          "2023-10-06T10:21:04",
          "2023-10-06T10:21:06",
          "2023-10-06T10:21:08",
          "2023-10-06T10:21:10",
          "2023-10-06T10:21:12",
          "2023-10-06T10:21:14",
          "2023-10-06T10:21:16",
          "2023-10-06T10:21:18",
          "2023-10-06T10:21:20",
          "2023-10-06T10:21:22",
          "2023-10-06T10:21:24",
          "2023-10-06T10:21:26",
          "2023-10-06T10:21:28",
          "2023-10-06T10:21:30",
          "2023-10-06T10:21:32",
          "2023-10-06T10:21:34",
          "2023-10-06T10:21:36",
          "2023-10-06T10:21:38",
          "2023-10-06T10:21:40",
          "2023-10-06T10:21:42",
          "2023-10-06T10:21:44",
          "2023-10-06T10:21:46",
          "2023-10-06T10:21:48",
          "2023-10-06T10:21:50",
          "2023-10-06T10:21:52",
          "2023-10-06T10:21:54",
          "2023-10-06T10:21:56",
          "2023-10-06T10:21:58",
          "2023-10-06T10:22:00",
          "2023-10-06T10:22:02",
          "2023-10-06T10:22:04",
          "2023-10-06T10:22:06",
          "2023-10-06T10:22:08",
          "2023-10-06T10:22:10",
          "2023-10-06T10:22:12",
          "2023-10-06T10:22:14",
          "2023-10-06T10:22:16",
          "2023-10-06T10:22:18",
          "2023-10-06T10:22:20",
          "2023-10-06T10:22:22",
          "2023-10-06T10:22:24",
          "2023-10-06T10:22:26",
          "2023-10-06T10:22:28",
          "2023-10-06T10:22:30",
          "2023-10-06T10:22:32",
          "2023-10-06T10:22:34",
          "2023-10-06T10:22:36",
          "2023-10-06T10:22:38",
          "2023-10-06T10:22:40",
          "2023-10-06T10:22:42",
          "2023-10-06T10:22:44",
          "2023-10-06T10:22:46",
          "2023-10-06T10:22:48",
          "2023-10-06T10:22:50",
          "2023-10-06T10:22:52",
          "2023-10-06T10:22:54",
          "2023-10-06T10:22:56",
          "2023-10-06T10:22:58",
          "2023-10-06T10:23:00",
          "2023-10-06T10:23:02",
          "2023-10-06T10:23:04",
          "2023-10-06T10:23:06",
          "2023-10-06T10:23:08",
          "2023-10-06T10:23:10",
          "2023-10-06T10:23:12",
          "2023-10-06T10:23:14",
          "2023-10-06T10:23:16",
          "2023-10-06T10:23:18",
          "2023-10-06T10:23:20",
          "2023-10-06T10:23:22",
          "2023-10-06T10:23:24",
          "2023-10-06T10:23:26",
          "2023-10-06T10:23:28",
          "2023-10-06T10:23:30",
          "2023-10-06T10:23:32",
          "2023-10-06T10:23:34",
          "2023-10-06T10:23:36",
          "2023-10-06T10:23:38",
          "2023-10-06T10:23:40",
          "2023-10-06T10:23:42",
          "2023-10-06T10:23:44",
          "2023-10-06T10:23:46",
          "2023-10-06T10:23:48",
          "2023-10-06T10:23:50",
          "2023-10-06T10:23:52",
          "2023-10-06T10:23:54",
          "2023-10-06T10:23:56",
          "2023-10-06T10:23:58",
          "2023-10-06T10:24:00",
          "2023-10-06T10:24:02",
          "2023-10-06T10:24:04",
          "2023-10-06T10:24:06",
          "2023-10-06T10:24:08",
          "2023-10-06T10:24:10",
          "2023-10-06T10:24:12",
          "2023-10-06T10:24:14",
          "2023-10-06T10:24:16",
          "2023-10-06T10:24:18",
          "2023-10-06T10:24:20",
          "2023-10-06T10:24:22",
          "2023-10-06T10:24:24",
          "2023-10-06T10:24:26",
          "2023-10-06T10:24:28",
          "2023-10-06T10:24:30",
          "2023-10-06T10:24:32",
          "2023-10-06T10:24:34",
          "2023-10-06T10:24:36",
          "2023-10-06T10:24:38",
          "2023-10-06T10:24:40",
          "2023-10-06T10:24:42",
          "2023-10-06T10:24:44",
          "2023-10-06T10:24:46",
          "2023-10-06T10:24:48",
          "2023-10-06T10:24:50",
          "2023-10-06T10:24:52",
          "2023-10-06T10:24:54",
          "2023-10-06T10:24:56",
          "2023-10-06T10:24:58",
          "2023-10-06T10:25:00",
          "2023-10-06T10:25:02",
          "2023-10-06T10:25:04",
          "2023-10-06T10:25:06",
          "2023-10-06T10:25:08",
          "2023-10-06T10:25:10",
          "2023-10-06T10:25:12",
          "2023-10-06T10:25:14",
          "2023-10-06T10:25:16",
          "2023-10-06T10:25:18",
          "2023-10-06T10:25:20",
          "2023-10-06T10:25:22",
          "2023-10-06T10:25:24",
          "2023-10-06T10:25:26",
          "2023-10-06T10:25:28",
          "2023-10-06T10:25:30",
          "2023-10-06T10:25:32",
          "2023-10-06T10:25:34",
          "2023-10-06T10:25:36",
          "2023-10-06T10:25:38",
          "2023-10-06T10:25:40",
          "2023-10-06T10:25:42",
          "2023-10-06T10:25:44",
          "2023-10-06T10:25:46",
          "2023-10-06T10:25:48",
          "2023-10-06T10:25:50"
         ],
         "xaxis": "x",
         "y": [
          -158.01,
          -158.03,
          -158.04,
          -158.03,
          -158.02,
          -82.42,
          -64.79,
          -64.73,
          -80.98,
          -104.57,
          -113.4,
          -126.43,
          -139.46,
          172.94,
          172.91,
          76.55,
          -126.48,
          -126.26,
          -126,
          -126.09,
          78.06,
          77.46,
          -159.44,
          -99.37,
          -88.86500000000001,
          -78.36,
          -78.27,
          -81.69,
          -96.49,
          -113.17,
          -119.33,
          173.17,
          173.18,
          176.8,
          -126.01,
          -125.41,
          -125.24,
          -125.37,
          -152.515,
          -179.66,
          179.69,
          -158.99,
          -108.81,
          -64.82,
          -64.75,
          -81.08,
          121.7,
          -113.46,
          -113.8,
          173.13,
          172.91,
          2.6850000000000023,
          -167.54,
          -126.08,
          -126,
          -125.73,
          -125.63,
          -165.29,
          -166.4,
          -158.91,
          -108.59,
          -78.3,
          -78.19,
          -81.62,
          -90.15,
          -101.695,
          -113.24,
          -117.89,
          173.24,
          173.02,
          82.68,
          -126.14,
          -125.59,
          -125.33,
          -125.53,
          84.34,
          83.61,
          -158.91,
          -132.825,
          -106.74,
          -64.62,
          -64.57,
          -80.89,
          -89.45,
          -113.45,
          -113.28,
          172.93,
          172.89,
          165.25,
          -126.13,
          -125.66,
          -125.57,
          -125.48,
          -125.36,
          -179.71,
          179.74,
          -158.96,
          -117.32,
          -78.39,
          -78.21,
          -81.6,
          -78.91,
          -113.29,
          -113.15,
          173.16,
          173.03,
          124.745,
          76.46,
          -126.32,
          -125.97,
          -125.7,
          -125.79,
          77.73,
          77.56,
          -159.43,
          -119.72,
          -64.58,
          -64.61,
          -80.8,
          -77.85,
          -74.9,
          -113.49,
          -113.32,
          173.19,
          172.98,
          -172.51,
          -126.16,
          -125.86,
          -125.6,
          -125.45,
          -164.88,
          -166.1,
          -158.92,
          -141.29,
          -123.66,
          -78.37,
          -78.19,
          -81.69,
          -58.36,
          -113.16,
          -112.99,
          173.13,
          172.91,
          82.38,
          -142.34,
          -125.92,
          -125.61,
          -125.62,
          -125.63,
          95.63,
          83.58,
          -159,
          -133.3,
          -64.87,
          -64.73,
          -80.79,
          -64.38,
          -113.45,
          -113.28,
          172.87,
          172.89,
          82.57,
          -35.775000000000006,
          -154.12,
          -126.01,
          -125.66,
          -125.62,
          93.27,
          77.66,
          -159.25,
          -131.13,
          -78.36,
          -78.18,
          -81.6,
          -65.16,
          -89.16499999999999,
          -113.17,
          -112.99,
          172.98,
          172.89,
          120.9,
          -125.42,
          -125.76,
          -125.49,
          -125.34,
          179.12,
          179.73,
          -158.88,
          -144.03,
          -129.18,
          -64.69,
          -64.63,
          -80.8,
          -67.33,
          -113.54,
          -113.37,
          173.08,
          172.92,
          82.15,
          -141.34,
          -125.84,
          -125.58,
          -125.645,
          -125.71,
          93.95,
          83.66,
          -159,
          -131.3,
          -78.19,
          -78.01,
          -81.69,
          -54.73,
          -113.4,
          -113.22,
          172.98,
          172.935,
          172.89,
          163.72,
          -125.01,
          -125.72,
          -125.54,
          -125.47,
          179.6,
          179.73,
          -158.87,
          -138.82,
          -64.76,
          -64.62,
          -80.89,
          -68.56,
          -56.23,
          -113.53,
          -113.44,
          173.05,
          172.89,
          88.86,
          -153.42,
          -125.89,
          -125.71,
          -125.76,
          108.08,
          83.58,
          -37.755000000000024,
          -159.09,
          -135.84,
          -78.35,
          -78.17,
          -81.16,
          -57.58,
          -113.43,
          -113.22,
          172.98,
          172.95,
          92.15,
          -170.06,
          -125.87,
          -125.69,
          -125.735,
          -125.78,
          116.5,
          77.66,
          -159.43,
          -140.58,
          -64.77,
          -64.76,
          -81.35,
          -55.96,
          -113.42,
          -113.24,
          173.28
         ],
         "yaxis": "y"
        }
       ],
       "layout": {
        "legend": {
         "title": {
          "text": "variable"
         },
         "tracegroupgap": 0
        },
        "template": {
         "data": {
          "bar": [
           {
            "error_x": {
             "color": "#2a3f5f"
            },
            "error_y": {
             "color": "#2a3f5f"
            },
            "marker": {
             "line": {
              "color": "#E5ECF6",
              "width": 0.5
             },
             "pattern": {
              "fillmode": "overlay",
              "size": 10,
              "solidity": 0.2
             }
            },
            "type": "bar"
           }
          ],
          "barpolar": [
           {
            "marker": {
             "line": {
              "color": "#E5ECF6",
              "width": 0.5
             },
             "pattern": {
              "fillmode": "overlay",
              "size": 10,
              "solidity": 0.2
             }
            },
            "type": "barpolar"
           }
          ],
          "carpet": [
           {
            "aaxis": {
             "endlinecolor": "#2a3f5f",
             "gridcolor": "white",
             "linecolor": "white",
             "minorgridcolor": "white",
             "startlinecolor": "#2a3f5f"
            },
            "baxis": {
             "endlinecolor": "#2a3f5f",
             "gridcolor": "white",
             "linecolor": "white",
             "minorgridcolor": "white",
             "startlinecolor": "#2a3f5f"
            },
            "type": "carpet"
           }
          ],
          "choropleth": [
           {
            "colorbar": {
             "outlinewidth": 0,
             "ticks": ""
            },
            "type": "choropleth"
           }
          ],
          "contour": [
           {
            "colorbar": {
             "outlinewidth": 0,
             "ticks": ""
            },
            "colorscale": [
             [
              0,
              "#0d0887"
             ],
             [
              0.1111111111111111,
              "#46039f"
             ],
             [
              0.2222222222222222,
              "#7201a8"
             ],
             [
              0.3333333333333333,
              "#9c179e"
             ],
             [
              0.4444444444444444,
              "#bd3786"
             ],
             [
              0.5555555555555556,
              "#d8576b"
             ],
             [
              0.6666666666666666,
              "#ed7953"
             ],
             [
              0.7777777777777778,
              "#fb9f3a"
             ],
             [
              0.8888888888888888,
              "#fdca26"
             ],
             [
              1,
              "#f0f921"
             ]
            ],
            "type": "contour"
           }
          ],
          "contourcarpet": [
           {
            "colorbar": {
             "outlinewidth": 0,
             "ticks": ""
            },
            "type": "contourcarpet"
           }
          ],
          "heatmap": [
           {
            "colorbar": {
             "outlinewidth": 0,
             "ticks": ""
            },
            "colorscale": [
             [
              0,
              "#0d0887"
             ],
             [
              0.1111111111111111,
              "#46039f"
             ],
             [
              0.2222222222222222,
              "#7201a8"
             ],
             [
              0.3333333333333333,
              "#9c179e"
             ],
             [
              0.4444444444444444,
              "#bd3786"
             ],
             [
              0.5555555555555556,
              "#d8576b"
             ],
             [
              0.6666666666666666,
              "#ed7953"
             ],
             [
              0.7777777777777778,
              "#fb9f3a"
             ],
             [
              0.8888888888888888,
              "#fdca26"
             ],
             [
              1,
              "#f0f921"
             ]
            ],
            "type": "heatmap"
           }
          ],
          "heatmapgl": [
           {
            "colorbar": {
             "outlinewidth": 0,
             "ticks": ""
            },
            "colorscale": [
             [
              0,
              "#0d0887"
             ],
             [
              0.1111111111111111,
              "#46039f"
             ],
             [
              0.2222222222222222,
              "#7201a8"
             ],
             [
              0.3333333333333333,
              "#9c179e"
             ],
             [
              0.4444444444444444,
              "#bd3786"
             ],
             [
              0.5555555555555556,
              "#d8576b"
             ],
             [
              0.6666666666666666,
              "#ed7953"
             ],
             [
              0.7777777777777778,
              "#fb9f3a"
             ],
             [
              0.8888888888888888,
              "#fdca26"
             ],
             [
              1,
              "#f0f921"
             ]
            ],
            "type": "heatmapgl"
           }
          ],
          "histogram": [
           {
            "marker": {
             "pattern": {
              "fillmode": "overlay",
              "size": 10,
              "solidity": 0.2
             }
            },
            "type": "histogram"
           }
          ],
          "histogram2d": [
           {
            "colorbar": {
             "outlinewidth": 0,
             "ticks": ""
            },
            "colorscale": [
             [
              0,
              "#0d0887"
             ],
             [
              0.1111111111111111,
              "#46039f"
             ],
             [
              0.2222222222222222,
              "#7201a8"
             ],
             [
              0.3333333333333333,
              "#9c179e"
             ],
             [
              0.4444444444444444,
              "#bd3786"
             ],
             [
              0.5555555555555556,
              "#d8576b"
             ],
             [
              0.6666666666666666,
              "#ed7953"
             ],
             [
              0.7777777777777778,
              "#fb9f3a"
             ],
             [
              0.8888888888888888,
              "#fdca26"
             ],
             [
              1,
              "#f0f921"
             ]
            ],
            "type": "histogram2d"
           }
          ],
          "histogram2dcontour": [
           {
            "colorbar": {
             "outlinewidth": 0,
             "ticks": ""
            },
            "colorscale": [
             [
              0,
              "#0d0887"
             ],
             [
              0.1111111111111111,
              "#46039f"
             ],
             [
              0.2222222222222222,
              "#7201a8"
             ],
             [
              0.3333333333333333,
              "#9c179e"
             ],
             [
              0.4444444444444444,
              "#bd3786"
             ],
             [
              0.5555555555555556,
              "#d8576b"
             ],
             [
              0.6666666666666666,
              "#ed7953"
             ],
             [
              0.7777777777777778,
              "#fb9f3a"
             ],
             [
              0.8888888888888888,
              "#fdca26"
             ],
             [
              1,
              "#f0f921"
             ]
            ],
            "type": "histogram2dcontour"
           }
          ],
          "mesh3d": [
           {
            "colorbar": {
             "outlinewidth": 0,
             "ticks": ""
            },
            "type": "mesh3d"
           }
          ],
          "parcoords": [
           {
            "line": {
             "colorbar": {
              "outlinewidth": 0,
              "ticks": ""
             }
            },
            "type": "parcoords"
           }
          ],
          "pie": [
           {
            "automargin": true,
            "type": "pie"
           }
          ],
          "scatter": [
           {
            "fillpattern": {
             "fillmode": "overlay",
             "size": 10,
             "solidity": 0.2
            },
            "type": "scatter"
           }
          ],
          "scatter3d": [
           {
            "line": {
             "colorbar": {
              "outlinewidth": 0,
              "ticks": ""
             }
            },
            "marker": {
             "colorbar": {
              "outlinewidth": 0,
              "ticks": ""
             }
            },
            "type": "scatter3d"
           }
          ],
          "scattercarpet": [
           {
            "marker": {
             "colorbar": {
              "outlinewidth": 0,
              "ticks": ""
             }
            },
            "type": "scattercarpet"
           }
          ],
          "scattergeo": [
           {
            "marker": {
             "colorbar": {
              "outlinewidth": 0,
              "ticks": ""
             }
            },
            "type": "scattergeo"
           }
          ],
          "scattergl": [
           {
            "marker": {
             "colorbar": {
              "outlinewidth": 0,
              "ticks": ""
             }
            },
            "type": "scattergl"
           }
          ],
          "scattermapbox": [
           {
            "marker": {
             "colorbar": {
              "outlinewidth": 0,
              "ticks": ""
             }
            },
            "type": "scattermapbox"
           }
          ],
          "scatterpolar": [
           {
            "marker": {
             "colorbar": {
              "outlinewidth": 0,
              "ticks": ""
             }
            },
            "type": "scatterpolar"
           }
          ],
          "scatterpolargl": [
           {
            "marker": {
             "colorbar": {
              "outlinewidth": 0,
              "ticks": ""
             }
            },
            "type": "scatterpolargl"
           }
          ],
          "scatterternary": [
           {
            "marker": {
             "colorbar": {
              "outlinewidth": 0,
              "ticks": ""
             }
            },
            "type": "scatterternary"
           }
          ],
          "surface": [
           {
            "colorbar": {
             "outlinewidth": 0,
             "ticks": ""
            },
            "colorscale": [
             [
              0,
              "#0d0887"
             ],
             [
              0.1111111111111111,
              "#46039f"
             ],
             [
              0.2222222222222222,
              "#7201a8"
             ],
             [
              0.3333333333333333,
              "#9c179e"
             ],
             [
              0.4444444444444444,
              "#bd3786"
             ],
             [
              0.5555555555555556,
              "#d8576b"
             ],
             [
              0.6666666666666666,
              "#ed7953"
             ],
             [
              0.7777777777777778,
              "#fb9f3a"
             ],
             [
              0.8888888888888888,
              "#fdca26"
             ],
             [
              1,
              "#f0f921"
             ]
            ],
            "type": "surface"
           }
          ],
          "table": [
           {
            "cells": {
             "fill": {
              "color": "#EBF0F8"
             },
             "line": {
              "color": "white"
             }
            },
            "header": {
             "fill": {
              "color": "#C8D4E3"
             },
             "line": {
              "color": "white"
             }
            },
            "type": "table"
           }
          ]
         },
         "layout": {
          "annotationdefaults": {
           "arrowcolor": "#2a3f5f",
           "arrowhead": 0,
           "arrowwidth": 1
          },
          "autotypenumbers": "strict",
          "coloraxis": {
           "colorbar": {
            "outlinewidth": 0,
            "ticks": ""
           }
          },
          "colorscale": {
           "diverging": [
            [
             0,
             "#8e0152"
            ],
            [
             0.1,
             "#c51b7d"
            ],
            [
             0.2,
             "#de77ae"
            ],
            [
             0.3,
             "#f1b6da"
            ],
            [
             0.4,
             "#fde0ef"
            ],
            [
             0.5,
             "#f7f7f7"
            ],
            [
             0.6,
             "#e6f5d0"
            ],
            [
             0.7,
             "#b8e186"
            ],
            [
             0.8,
             "#7fbc41"
            ],
            [
             0.9,
             "#4d9221"
            ],
            [
             1,
             "#276419"
            ]
           ],
           "sequential": [
            [
             0,
             "#0d0887"
            ],
            [
             0.1111111111111111,
             "#46039f"
            ],
            [
             0.2222222222222222,
             "#7201a8"
            ],
            [
             0.3333333333333333,
             "#9c179e"
            ],
            [
             0.4444444444444444,
             "#bd3786"
            ],
            [
             0.5555555555555556,
             "#d8576b"
            ],
            [
             0.6666666666666666,
             "#ed7953"
            ],
            [
             0.7777777777777778,
             "#fb9f3a"
            ],
            [
             0.8888888888888888,
             "#fdca26"
            ],
            [
             1,
             "#f0f921"
            ]
           ],
           "sequentialminus": [
            [
             0,
             "#0d0887"
            ],
            [
             0.1111111111111111,
             "#46039f"
            ],
            [
             0.2222222222222222,
             "#7201a8"
            ],
            [
             0.3333333333333333,
             "#9c179e"
            ],
            [
             0.4444444444444444,
             "#bd3786"
            ],
            [
             0.5555555555555556,
             "#d8576b"
            ],
            [
             0.6666666666666666,
             "#ed7953"
            ],
            [
             0.7777777777777778,
             "#fb9f3a"
            ],
            [
             0.8888888888888888,
             "#fdca26"
            ],
            [
             1,
             "#f0f921"
            ]
           ]
          },
          "colorway": [
           "#636efa",
           "#EF553B",
           "#00cc96",
           "#ab63fa",
           "#FFA15A",
           "#19d3f3",
           "#FF6692",
           "#B6E880",
           "#FF97FF",
           "#FECB52"
          ],
          "font": {
           "color": "#2a3f5f"
          },
          "geo": {
           "bgcolor": "white",
           "lakecolor": "white",
           "landcolor": "#E5ECF6",
           "showlakes": true,
           "showland": true,
           "subunitcolor": "white"
          },
          "hoverlabel": {
           "align": "left"
          },
          "hovermode": "closest",
          "mapbox": {
           "style": "light"
          },
          "paper_bgcolor": "white",
          "plot_bgcolor": "#E5ECF6",
          "polar": {
           "angularaxis": {
            "gridcolor": "white",
            "linecolor": "white",
            "ticks": ""
           },
           "bgcolor": "#E5ECF6",
           "radialaxis": {
            "gridcolor": "white",
            "linecolor": "white",
            "ticks": ""
           }
          },
          "scene": {
           "xaxis": {
            "backgroundcolor": "#E5ECF6",
            "gridcolor": "white",
            "gridwidth": 2,
            "linecolor": "white",
            "showbackground": true,
            "ticks": "",
            "zerolinecolor": "white"
           },
           "yaxis": {
            "backgroundcolor": "#E5ECF6",
            "gridcolor": "white",
            "gridwidth": 2,
            "linecolor": "white",
            "showbackground": true,
            "ticks": "",
            "zerolinecolor": "white"
           },
           "zaxis": {
            "backgroundcolor": "#E5ECF6",
            "gridcolor": "white",
            "gridwidth": 2,
            "linecolor": "white",
            "showbackground": true,
            "ticks": "",
            "zerolinecolor": "white"
           }
          },
          "shapedefaults": {
           "line": {
            "color": "#2a3f5f"
           }
          },
          "ternary": {
           "aaxis": {
            "gridcolor": "white",
            "linecolor": "white",
            "ticks": ""
           },
           "baxis": {
            "gridcolor": "white",
            "linecolor": "white",
            "ticks": ""
           },
           "bgcolor": "#E5ECF6",
           "caxis": {
            "gridcolor": "white",
            "linecolor": "white",
            "ticks": ""
           }
          },
          "title": {
           "x": 0.05
          },
          "xaxis": {
           "automargin": true,
           "gridcolor": "white",
           "linecolor": "white",
           "ticks": "",
           "title": {
            "standoff": 15
           },
           "zerolinecolor": "white",
           "zerolinewidth": 2
          },
          "yaxis": {
           "automargin": true,
           "gridcolor": "white",
           "linecolor": "white",
           "ticks": "",
           "title": {
            "standoff": 15
           },
           "zerolinecolor": "white",
           "zerolinewidth": 2
          }
         }
        },
        "title": {
         "text": "raw coord"
        },
        "xaxis": {
         "anchor": "y",
         "domain": [
          0,
          1
         ],
         "title": {
          "text": "time"
         }
        },
        "yaxis": {
         "anchor": "x",
         "domain": [
          0,
          1
         ],
         "title": {
          "text": "value"
         }
        }
       }
      }
     },
     "metadata": {},
     "output_type": "display_data"
    }
   ],
   "source": [
    "query = '''SELECT last(\"coord\") as coord FROM \"joints\" WHERE time >= 1696587404700ms and time <= 1696587952888ms  GROUP BY time(2s) fill(linear)'''\n",
    "table = client.query(query=query, language=\"influxql\")\n",
    "normal_data = table.to_pandas().drop(columns=['iox::measurement']).set_index('time').dropna(how='all')\n",
    "fig = px.line(normal_data, y=[\"coord\"], title='raw coord' )\n",
    "fig.show()"
   ]
  },
  {
   "cell_type": "code",
   "execution_count": 19,
   "metadata": {},
   "outputs": [
    {
     "data": {
      "application/vnd.plotly.v1+json": {
       "config": {
        "plotlyServerURL": "https://plot.ly"
       },
       "data": [
        {
         "hovertemplate": "variable=coord<br>time=%{x}<br>value=%{y}<extra></extra>",
         "legendgroup": "coord",
         "line": {
          "color": "#636efa",
          "dash": "solid"
         },
         "marker": {
          "symbol": "circle"
         },
         "mode": "lines",
         "name": "coord",
         "orientation": "v",
         "showlegend": true,
         "type": "scatter",
         "x": [
          "2023-10-06T10:25:36",
          "2023-10-06T10:25:38",
          "2023-10-06T10:25:40",
          "2023-10-06T10:25:42",
          "2023-10-06T10:25:44",
          "2023-10-06T10:25:46",
          "2023-10-06T10:25:48",
          "2023-10-06T10:25:50",
          "2023-10-06T10:25:52",
          "2023-10-06T10:25:54",
          "2023-10-06T10:25:56",
          "2023-10-06T10:25:58",
          "2023-10-06T10:26:00",
          "2023-10-06T10:26:02",
          "2023-10-06T10:26:04",
          "2023-10-06T10:26:06",
          "2023-10-06T10:26:08",
          "2023-10-06T10:26:10",
          "2023-10-06T10:26:12",
          "2023-10-06T10:26:14",
          "2023-10-06T10:26:16",
          "2023-10-06T10:26:18",
          "2023-10-06T10:26:20",
          "2023-10-06T10:26:22",
          "2023-10-06T10:26:24",
          "2023-10-06T10:26:26",
          "2023-10-06T10:26:28",
          "2023-10-06T10:26:30",
          "2023-10-06T10:26:32",
          "2023-10-06T10:26:34",
          "2023-10-06T10:26:36",
          "2023-10-06T10:26:38",
          "2023-10-06T10:26:40",
          "2023-10-06T10:26:42",
          "2023-10-06T10:26:44",
          "2023-10-06T10:26:46",
          "2023-10-06T10:26:48",
          "2023-10-06T10:26:50",
          "2023-10-06T10:26:52",
          "2023-10-06T10:26:54",
          "2023-10-06T10:26:56",
          "2023-10-06T10:26:58",
          "2023-10-06T10:27:00",
          "2023-10-06T10:27:02",
          "2023-10-06T10:27:04",
          "2023-10-06T10:27:06",
          "2023-10-06T10:27:08",
          "2023-10-06T10:27:10",
          "2023-10-06T10:27:12",
          "2023-10-06T10:27:14",
          "2023-10-06T10:27:16",
          "2023-10-06T10:27:18",
          "2023-10-06T10:27:20",
          "2023-10-06T10:27:22",
          "2023-10-06T10:27:24",
          "2023-10-06T10:27:26",
          "2023-10-06T10:27:28",
          "2023-10-06T10:27:30",
          "2023-10-06T10:27:32",
          "2023-10-06T10:27:34",
          "2023-10-06T10:27:36",
          "2023-10-06T10:27:38",
          "2023-10-06T10:27:40",
          "2023-10-06T10:27:42",
          "2023-10-06T10:27:44",
          "2023-10-06T10:27:46",
          "2023-10-06T10:27:48",
          "2023-10-06T10:27:50",
          "2023-10-06T10:27:52",
          "2023-10-06T10:27:54",
          "2023-10-06T10:27:56",
          "2023-10-06T10:27:58",
          "2023-10-06T10:28:00",
          "2023-10-06T10:28:02",
          "2023-10-06T10:28:04",
          "2023-10-06T10:28:06",
          "2023-10-06T10:28:08",
          "2023-10-06T10:28:10",
          "2023-10-06T10:28:12",
          "2023-10-06T10:28:14",
          "2023-10-06T10:28:16",
          "2023-10-06T10:28:18",
          "2023-10-06T10:28:20",
          "2023-10-06T10:28:22",
          "2023-10-06T10:28:24",
          "2023-10-06T10:28:26",
          "2023-10-06T10:28:28",
          "2023-10-06T10:28:30",
          "2023-10-06T10:28:32",
          "2023-10-06T10:28:34",
          "2023-10-06T10:28:36",
          "2023-10-06T10:28:38",
          "2023-10-06T10:28:40",
          "2023-10-06T10:28:42",
          "2023-10-06T10:28:44",
          "2023-10-06T10:28:46",
          "2023-10-06T10:28:48",
          "2023-10-06T10:28:50",
          "2023-10-06T10:28:52",
          "2023-10-06T10:28:54",
          "2023-10-06T10:28:56",
          "2023-10-06T10:28:58",
          "2023-10-06T10:29:00",
          "2023-10-06T10:29:02",
          "2023-10-06T10:29:04",
          "2023-10-06T10:29:06",
          "2023-10-06T10:29:08",
          "2023-10-06T10:29:10",
          "2023-10-06T10:29:12",
          "2023-10-06T10:29:14",
          "2023-10-06T10:29:16",
          "2023-10-06T10:29:18",
          "2023-10-06T10:29:20",
          "2023-10-06T10:29:22",
          "2023-10-06T10:29:24",
          "2023-10-06T10:29:26",
          "2023-10-06T10:29:28",
          "2023-10-06T10:29:30",
          "2023-10-06T10:29:32",
          "2023-10-06T10:29:34",
          "2023-10-06T10:29:36",
          "2023-10-06T10:29:38",
          "2023-10-06T10:29:40",
          "2023-10-06T10:29:42",
          "2023-10-06T10:29:44",
          "2023-10-06T10:29:46",
          "2023-10-06T10:29:48",
          "2023-10-06T10:29:50",
          "2023-10-06T10:29:52",
          "2023-10-06T10:29:54",
          "2023-10-06T10:29:56",
          "2023-10-06T10:29:58",
          "2023-10-06T10:30:00",
          "2023-10-06T10:30:02",
          "2023-10-06T10:30:04",
          "2023-10-06T10:30:06",
          "2023-10-06T10:30:08",
          "2023-10-06T10:30:10",
          "2023-10-06T10:30:12",
          "2023-10-06T10:30:14",
          "2023-10-06T10:30:16",
          "2023-10-06T10:30:18",
          "2023-10-06T10:30:20",
          "2023-10-06T10:30:22",
          "2023-10-06T10:30:24",
          "2023-10-06T10:30:26",
          "2023-10-06T10:30:28",
          "2023-10-06T10:30:30",
          "2023-10-06T10:30:32",
          "2023-10-06T10:30:34",
          "2023-10-06T10:30:36",
          "2023-10-06T10:30:38",
          "2023-10-06T10:30:40",
          "2023-10-06T10:30:42",
          "2023-10-06T10:30:44",
          "2023-10-06T10:30:46",
          "2023-10-06T10:30:48",
          "2023-10-06T10:30:50",
          "2023-10-06T10:30:52",
          "2023-10-06T10:30:54",
          "2023-10-06T10:30:56",
          "2023-10-06T10:30:58",
          "2023-10-06T10:31:00",
          "2023-10-06T10:31:02",
          "2023-10-06T10:31:04",
          "2023-10-06T10:31:06",
          "2023-10-06T10:31:08",
          "2023-10-06T10:31:10",
          "2023-10-06T10:31:12",
          "2023-10-06T10:31:14",
          "2023-10-06T10:31:16",
          "2023-10-06T10:31:18",
          "2023-10-06T10:31:20",
          "2023-10-06T10:31:22",
          "2023-10-06T10:31:24",
          "2023-10-06T10:31:26",
          "2023-10-06T10:31:28",
          "2023-10-06T10:31:30",
          "2023-10-06T10:31:32",
          "2023-10-06T10:31:34",
          "2023-10-06T10:31:36",
          "2023-10-06T10:31:38",
          "2023-10-06T10:31:40",
          "2023-10-06T10:31:42",
          "2023-10-06T10:31:44",
          "2023-10-06T10:31:46",
          "2023-10-06T10:31:48",
          "2023-10-06T10:31:50",
          "2023-10-06T10:31:52",
          "2023-10-06T10:31:54",
          "2023-10-06T10:31:56",
          "2023-10-06T10:31:58",
          "2023-10-06T10:32:00",
          "2023-10-06T10:32:02"
         ],
         "xaxis": "x",
         "y": [
          -140.58,
          -64.77,
          -64.76,
          -81.35,
          -55.96,
          -113.42,
          -113.24,
          173.28,
          173.03,
          3.8950000000000102,
          -165.24,
          -79.32,
          -79.14,
          -81.37,
          -57.38,
          -113.42,
          -113.21,
          173.28,
          172.69,
          -161.14,
          -64.9,
          -64.72,
          -72.935,
          -81.15,
          -58.7,
          -113.38,
          -113.21,
          173.28,
          173.06,
          -159.17,
          -79.31,
          -79.13,
          -81.61,
          -62.06,
          -113.39,
          -113.21,
          30.08,
          173.37,
          173.03,
          -152.6,
          -64.97,
          -64.82,
          -81.33,
          -63.74,
          -113.38,
          -113.21,
          173.34,
          173.06,
          -152.89,
          -116.06,
          -79.23,
          -79.12,
          -81.53,
          -67.04,
          -113.35,
          -113.18,
          173.14,
          172.86,
          -151.7,
          -65.11,
          -64.89,
          -81.34,
          -68.65,
          -90.95500000000001,
          -113.26,
          -113.18,
          173.16,
          172.89,
          -151.42,
          -79.31,
          -79.14,
          -81.53,
          -57.22,
          -113.21,
          -113.12,
          173.46,
          173.09,
          11.245000000000005,
          -150.6,
          -65.07,
          -64.81,
          -81.42,
          -70.19,
          -113.26,
          -113.17,
          173.28,
          172.97,
          -149.03,
          -79.31,
          -79.14,
          -81.53,
          -76.14500000000001,
          -70.76,
          -113.23,
          -113.14,
          173.16,
          172.91,
          -150.21,
          -65.1,
          -64.89,
          -81.33,
          -64.43,
          -113.35,
          -113.17,
          173.39,
          173.255,
          173.12,
          -153.16,
          -79.33,
          -79.14,
          -81.52,
          -67.43,
          -113.23,
          -113.14,
          173.35,
          173.14,
          -152.1,
          -65.09,
          -64.84,
          -73.08500000000001,
          -81.33,
          -67.72,
          -113.31,
          -113.14,
          173.35,
          173.14,
          -152.63,
          -79.35,
          -79.15,
          -81.52,
          -68.21,
          -113.19,
          -113.11,
          30.11999999999999,
          173.35,
          173.14,
          -154.47,
          -65.09,
          -64.83,
          -81.33,
          -65.64,
          -113.39,
          -113.18,
          173.29,
          172.93,
          -153.57,
          -79.34,
          -79.24000000000001,
          -79.14,
          -81.62,
          -66.34,
          -113.19,
          -113.11,
          173.21,
          172.9,
          -152.8,
          -65.09,
          -64.84,
          -81.31,
          -56.01,
          -113.37,
          -113.305,
          -113.24,
          173.41,
          173.05,
          -154.77,
          -79.26,
          -79.15,
          -81.52,
          -64.54,
          -113.23,
          -113.1,
          173.19,
          173.05,
          -154.66,
          -109.88499999999999,
          -65.11,
          -64.88,
          -81.31,
          -62.02,
          -113.24,
          -113.03,
          173.43,
          173.23,
          -155,
          -79.36,
          -79.16,
          -81.62,
          -66.82,
          -90.025,
          -113.23,
          -113.1,
          173.28,
          173.08
         ],
         "yaxis": "y"
        }
       ],
       "layout": {
        "legend": {
         "title": {
          "text": "variable"
         },
         "tracegroupgap": 0
        },
        "template": {
         "data": {
          "bar": [
           {
            "error_x": {
             "color": "#2a3f5f"
            },
            "error_y": {
             "color": "#2a3f5f"
            },
            "marker": {
             "line": {
              "color": "#E5ECF6",
              "width": 0.5
             },
             "pattern": {
              "fillmode": "overlay",
              "size": 10,
              "solidity": 0.2
             }
            },
            "type": "bar"
           }
          ],
          "barpolar": [
           {
            "marker": {
             "line": {
              "color": "#E5ECF6",
              "width": 0.5
             },
             "pattern": {
              "fillmode": "overlay",
              "size": 10,
              "solidity": 0.2
             }
            },
            "type": "barpolar"
           }
          ],
          "carpet": [
           {
            "aaxis": {
             "endlinecolor": "#2a3f5f",
             "gridcolor": "white",
             "linecolor": "white",
             "minorgridcolor": "white",
             "startlinecolor": "#2a3f5f"
            },
            "baxis": {
             "endlinecolor": "#2a3f5f",
             "gridcolor": "white",
             "linecolor": "white",
             "minorgridcolor": "white",
             "startlinecolor": "#2a3f5f"
            },
            "type": "carpet"
           }
          ],
          "choropleth": [
           {
            "colorbar": {
             "outlinewidth": 0,
             "ticks": ""
            },
            "type": "choropleth"
           }
          ],
          "contour": [
           {
            "colorbar": {
             "outlinewidth": 0,
             "ticks": ""
            },
            "colorscale": [
             [
              0,
              "#0d0887"
             ],
             [
              0.1111111111111111,
              "#46039f"
             ],
             [
              0.2222222222222222,
              "#7201a8"
             ],
             [
              0.3333333333333333,
              "#9c179e"
             ],
             [
              0.4444444444444444,
              "#bd3786"
             ],
             [
              0.5555555555555556,
              "#d8576b"
             ],
             [
              0.6666666666666666,
              "#ed7953"
             ],
             [
              0.7777777777777778,
              "#fb9f3a"
             ],
             [
              0.8888888888888888,
              "#fdca26"
             ],
             [
              1,
              "#f0f921"
             ]
            ],
            "type": "contour"
           }
          ],
          "contourcarpet": [
           {
            "colorbar": {
             "outlinewidth": 0,
             "ticks": ""
            },
            "type": "contourcarpet"
           }
          ],
          "heatmap": [
           {
            "colorbar": {
             "outlinewidth": 0,
             "ticks": ""
            },
            "colorscale": [
             [
              0,
              "#0d0887"
             ],
             [
              0.1111111111111111,
              "#46039f"
             ],
             [
              0.2222222222222222,
              "#7201a8"
             ],
             [
              0.3333333333333333,
              "#9c179e"
             ],
             [
              0.4444444444444444,
              "#bd3786"
             ],
             [
              0.5555555555555556,
              "#d8576b"
             ],
             [
              0.6666666666666666,
              "#ed7953"
             ],
             [
              0.7777777777777778,
              "#fb9f3a"
             ],
             [
              0.8888888888888888,
              "#fdca26"
             ],
             [
              1,
              "#f0f921"
             ]
            ],
            "type": "heatmap"
           }
          ],
          "heatmapgl": [
           {
            "colorbar": {
             "outlinewidth": 0,
             "ticks": ""
            },
            "colorscale": [
             [
              0,
              "#0d0887"
             ],
             [
              0.1111111111111111,
              "#46039f"
             ],
             [
              0.2222222222222222,
              "#7201a8"
             ],
             [
              0.3333333333333333,
              "#9c179e"
             ],
             [
              0.4444444444444444,
              "#bd3786"
             ],
             [
              0.5555555555555556,
              "#d8576b"
             ],
             [
              0.6666666666666666,
              "#ed7953"
             ],
             [
              0.7777777777777778,
              "#fb9f3a"
             ],
             [
              0.8888888888888888,
              "#fdca26"
             ],
             [
              1,
              "#f0f921"
             ]
            ],
            "type": "heatmapgl"
           }
          ],
          "histogram": [
           {
            "marker": {
             "pattern": {
              "fillmode": "overlay",
              "size": 10,
              "solidity": 0.2
             }
            },
            "type": "histogram"
           }
          ],
          "histogram2d": [
           {
            "colorbar": {
             "outlinewidth": 0,
             "ticks": ""
            },
            "colorscale": [
             [
              0,
              "#0d0887"
             ],
             [
              0.1111111111111111,
              "#46039f"
             ],
             [
              0.2222222222222222,
              "#7201a8"
             ],
             [
              0.3333333333333333,
              "#9c179e"
             ],
             [
              0.4444444444444444,
              "#bd3786"
             ],
             [
              0.5555555555555556,
              "#d8576b"
             ],
             [
              0.6666666666666666,
              "#ed7953"
             ],
             [
              0.7777777777777778,
              "#fb9f3a"
             ],
             [
              0.8888888888888888,
              "#fdca26"
             ],
             [
              1,
              "#f0f921"
             ]
            ],
            "type": "histogram2d"
           }
          ],
          "histogram2dcontour": [
           {
            "colorbar": {
             "outlinewidth": 0,
             "ticks": ""
            },
            "colorscale": [
             [
              0,
              "#0d0887"
             ],
             [
              0.1111111111111111,
              "#46039f"
             ],
             [
              0.2222222222222222,
              "#7201a8"
             ],
             [
              0.3333333333333333,
              "#9c179e"
             ],
             [
              0.4444444444444444,
              "#bd3786"
             ],
             [
              0.5555555555555556,
              "#d8576b"
             ],
             [
              0.6666666666666666,
              "#ed7953"
             ],
             [
              0.7777777777777778,
              "#fb9f3a"
             ],
             [
              0.8888888888888888,
              "#fdca26"
             ],
             [
              1,
              "#f0f921"
             ]
            ],
            "type": "histogram2dcontour"
           }
          ],
          "mesh3d": [
           {
            "colorbar": {
             "outlinewidth": 0,
             "ticks": ""
            },
            "type": "mesh3d"
           }
          ],
          "parcoords": [
           {
            "line": {
             "colorbar": {
              "outlinewidth": 0,
              "ticks": ""
             }
            },
            "type": "parcoords"
           }
          ],
          "pie": [
           {
            "automargin": true,
            "type": "pie"
           }
          ],
          "scatter": [
           {
            "fillpattern": {
             "fillmode": "overlay",
             "size": 10,
             "solidity": 0.2
            },
            "type": "scatter"
           }
          ],
          "scatter3d": [
           {
            "line": {
             "colorbar": {
              "outlinewidth": 0,
              "ticks": ""
             }
            },
            "marker": {
             "colorbar": {
              "outlinewidth": 0,
              "ticks": ""
             }
            },
            "type": "scatter3d"
           }
          ],
          "scattercarpet": [
           {
            "marker": {
             "colorbar": {
              "outlinewidth": 0,
              "ticks": ""
             }
            },
            "type": "scattercarpet"
           }
          ],
          "scattergeo": [
           {
            "marker": {
             "colorbar": {
              "outlinewidth": 0,
              "ticks": ""
             }
            },
            "type": "scattergeo"
           }
          ],
          "scattergl": [
           {
            "marker": {
             "colorbar": {
              "outlinewidth": 0,
              "ticks": ""
             }
            },
            "type": "scattergl"
           }
          ],
          "scattermapbox": [
           {
            "marker": {
             "colorbar": {
              "outlinewidth": 0,
              "ticks": ""
             }
            },
            "type": "scattermapbox"
           }
          ],
          "scatterpolar": [
           {
            "marker": {
             "colorbar": {
              "outlinewidth": 0,
              "ticks": ""
             }
            },
            "type": "scatterpolar"
           }
          ],
          "scatterpolargl": [
           {
            "marker": {
             "colorbar": {
              "outlinewidth": 0,
              "ticks": ""
             }
            },
            "type": "scatterpolargl"
           }
          ],
          "scatterternary": [
           {
            "marker": {
             "colorbar": {
              "outlinewidth": 0,
              "ticks": ""
             }
            },
            "type": "scatterternary"
           }
          ],
          "surface": [
           {
            "colorbar": {
             "outlinewidth": 0,
             "ticks": ""
            },
            "colorscale": [
             [
              0,
              "#0d0887"
             ],
             [
              0.1111111111111111,
              "#46039f"
             ],
             [
              0.2222222222222222,
              "#7201a8"
             ],
             [
              0.3333333333333333,
              "#9c179e"
             ],
             [
              0.4444444444444444,
              "#bd3786"
             ],
             [
              0.5555555555555556,
              "#d8576b"
             ],
             [
              0.6666666666666666,
              "#ed7953"
             ],
             [
              0.7777777777777778,
              "#fb9f3a"
             ],
             [
              0.8888888888888888,
              "#fdca26"
             ],
             [
              1,
              "#f0f921"
             ]
            ],
            "type": "surface"
           }
          ],
          "table": [
           {
            "cells": {
             "fill": {
              "color": "#EBF0F8"
             },
             "line": {
              "color": "white"
             }
            },
            "header": {
             "fill": {
              "color": "#C8D4E3"
             },
             "line": {
              "color": "white"
             }
            },
            "type": "table"
           }
          ]
         },
         "layout": {
          "annotationdefaults": {
           "arrowcolor": "#2a3f5f",
           "arrowhead": 0,
           "arrowwidth": 1
          },
          "autotypenumbers": "strict",
          "coloraxis": {
           "colorbar": {
            "outlinewidth": 0,
            "ticks": ""
           }
          },
          "colorscale": {
           "diverging": [
            [
             0,
             "#8e0152"
            ],
            [
             0.1,
             "#c51b7d"
            ],
            [
             0.2,
             "#de77ae"
            ],
            [
             0.3,
             "#f1b6da"
            ],
            [
             0.4,
             "#fde0ef"
            ],
            [
             0.5,
             "#f7f7f7"
            ],
            [
             0.6,
             "#e6f5d0"
            ],
            [
             0.7,
             "#b8e186"
            ],
            [
             0.8,
             "#7fbc41"
            ],
            [
             0.9,
             "#4d9221"
            ],
            [
             1,
             "#276419"
            ]
           ],
           "sequential": [
            [
             0,
             "#0d0887"
            ],
            [
             0.1111111111111111,
             "#46039f"
            ],
            [
             0.2222222222222222,
             "#7201a8"
            ],
            [
             0.3333333333333333,
             "#9c179e"
            ],
            [
             0.4444444444444444,
             "#bd3786"
            ],
            [
             0.5555555555555556,
             "#d8576b"
            ],
            [
             0.6666666666666666,
             "#ed7953"
            ],
            [
             0.7777777777777778,
             "#fb9f3a"
            ],
            [
             0.8888888888888888,
             "#fdca26"
            ],
            [
             1,
             "#f0f921"
            ]
           ],
           "sequentialminus": [
            [
             0,
             "#0d0887"
            ],
            [
             0.1111111111111111,
             "#46039f"
            ],
            [
             0.2222222222222222,
             "#7201a8"
            ],
            [
             0.3333333333333333,
             "#9c179e"
            ],
            [
             0.4444444444444444,
             "#bd3786"
            ],
            [
             0.5555555555555556,
             "#d8576b"
            ],
            [
             0.6666666666666666,
             "#ed7953"
            ],
            [
             0.7777777777777778,
             "#fb9f3a"
            ],
            [
             0.8888888888888888,
             "#fdca26"
            ],
            [
             1,
             "#f0f921"
            ]
           ]
          },
          "colorway": [
           "#636efa",
           "#EF553B",
           "#00cc96",
           "#ab63fa",
           "#FFA15A",
           "#19d3f3",
           "#FF6692",
           "#B6E880",
           "#FF97FF",
           "#FECB52"
          ],
          "font": {
           "color": "#2a3f5f"
          },
          "geo": {
           "bgcolor": "white",
           "lakecolor": "white",
           "landcolor": "#E5ECF6",
           "showlakes": true,
           "showland": true,
           "subunitcolor": "white"
          },
          "hoverlabel": {
           "align": "left"
          },
          "hovermode": "closest",
          "mapbox": {
           "style": "light"
          },
          "paper_bgcolor": "white",
          "plot_bgcolor": "#E5ECF6",
          "polar": {
           "angularaxis": {
            "gridcolor": "white",
            "linecolor": "white",
            "ticks": ""
           },
           "bgcolor": "#E5ECF6",
           "radialaxis": {
            "gridcolor": "white",
            "linecolor": "white",
            "ticks": ""
           }
          },
          "scene": {
           "xaxis": {
            "backgroundcolor": "#E5ECF6",
            "gridcolor": "white",
            "gridwidth": 2,
            "linecolor": "white",
            "showbackground": true,
            "ticks": "",
            "zerolinecolor": "white"
           },
           "yaxis": {
            "backgroundcolor": "#E5ECF6",
            "gridcolor": "white",
            "gridwidth": 2,
            "linecolor": "white",
            "showbackground": true,
            "ticks": "",
            "zerolinecolor": "white"
           },
           "zaxis": {
            "backgroundcolor": "#E5ECF6",
            "gridcolor": "white",
            "gridwidth": 2,
            "linecolor": "white",
            "showbackground": true,
            "ticks": "",
            "zerolinecolor": "white"
           }
          },
          "shapedefaults": {
           "line": {
            "color": "#2a3f5f"
           }
          },
          "ternary": {
           "aaxis": {
            "gridcolor": "white",
            "linecolor": "white",
            "ticks": ""
           },
           "baxis": {
            "gridcolor": "white",
            "linecolor": "white",
            "ticks": ""
           },
           "bgcolor": "#E5ECF6",
           "caxis": {
            "gridcolor": "white",
            "linecolor": "white",
            "ticks": ""
           }
          },
          "title": {
           "x": 0.05
          },
          "xaxis": {
           "automargin": true,
           "gridcolor": "white",
           "linecolor": "white",
           "ticks": "",
           "title": {
            "standoff": 15
           },
           "zerolinecolor": "white",
           "zerolinewidth": 2
          },
          "yaxis": {
           "automargin": true,
           "gridcolor": "white",
           "linecolor": "white",
           "ticks": "",
           "title": {
            "standoff": 15
           },
           "zerolinecolor": "white",
           "zerolinewidth": 2
          }
         }
        },
        "title": {
         "text": "raw coord"
        },
        "xaxis": {
         "anchor": "y",
         "domain": [
          0,
          1
         ],
         "title": {
          "text": "time"
         }
        },
        "yaxis": {
         "anchor": "x",
         "domain": [
          0,
          1
         ],
         "title": {
          "text": "value"
         }
        }
       }
      }
     },
     "metadata": {},
     "output_type": "display_data"
    }
   ],
   "source": [
    "query = '''SELECT last(\"coord\") as coord FROM \"joints\" WHERE time >= 1696587936049ms and time <= 1696588323944ms  GROUP BY time(2s) fill(linear)'''\n",
    "table = client.query(query=query, language=\"influxql\")\n",
    "anom_data = table.to_pandas().drop(columns=['iox::measurement']).set_index('time').dropna(how='all')\n",
    "fig2 = px.line(anom_data, y=[\"coord\"], title='raw coord')\n",
    "fig2.show()"
   ]
  },
  {
   "cell_type": "code",
   "execution_count": 20,
   "metadata": {},
   "outputs": [],
   "source": [
    "def get_model(l1_l2_tuple):\n",
    "    def create_model():\n",
    "        l1, l2 = l1_l2_tuple\n",
    "        model = Sequential([\n",
    "            Dense(8, activation='relu', activity_regularizer=L1L2(l1=l1, l2=l2)),\n",
    "            BatchNormalization(),\n",
    "            Dense(4, activation='relu'),\n",
    "            Dense(4, activation='relu'),\n",
    "            BatchNormalization(),\n",
    "            Dense(1, activation='sigmoid')\n",
    "        ])\n",
    "        return model\n",
    "    return create_model\n",
    "\n",
    "param_grid = {'l1_l2_tuple': [(0.0, 0.0), (0.01, 0.0), (0.0, 0.01), (0.01, 0.01), (0.1, 0.0), (0.0, 0.1)]}\n",
    "\n",
    "def get_estimator(l1_l2_tuple=(0.0, 0.0)):\n",
    "    model = get_model(l1_l2_tuple)\n",
    "    estimator = KerasRegressor(model=model, epochs=100, batch_size=32, verbose=0,\n",
    "                               optimizer='adam', loss='mean_squared_error')\n",
    "    return estimator"
   ]
  },
  {
   "cell_type": "code",
   "execution_count": 21,
   "metadata": {},
   "outputs": [
    {
     "ename": "ValueError",
     "evalue": "Invalid parameter l1_l2_tuple for estimator KerasRegressor.\nThis issue can likely be resolved by setting this parameter in the KerasRegressor constructor:\n`KerasRegressor(l1_l2_tuple=(0.0, 0.0))`\nCheck the list of available parameters with `estimator.get_params().keys()`",
     "output_type": "error",
     "traceback": [
      "\u001b[0;31m---------------------------------------------------------------------------\u001b[0m",
      "\u001b[0;31m_RemoteTraceback\u001b[0m                          Traceback (most recent call last)",
      "\u001b[0;31m_RemoteTraceback\u001b[0m: \n\"\"\"\nTraceback (most recent call last):\n  File \"/Users/jayclifford/Documents/repos/robot/.venv/lib/python3.11/site-packages/joblib/externals/loky/process_executor.py\", line 428, in _process_worker\n    r = call_item()\n        ^^^^^^^^^^^\n  File \"/Users/jayclifford/Documents/repos/robot/.venv/lib/python3.11/site-packages/joblib/externals/loky/process_executor.py\", line 275, in __call__\n    return self.fn(*self.args, **self.kwargs)\n           ^^^^^^^^^^^^^^^^^^^^^^^^^^^^^^^^^^\n  File \"/Users/jayclifford/Documents/repos/robot/.venv/lib/python3.11/site-packages/joblib/_parallel_backends.py\", line 620, in __call__\n    return self.func(*args, **kwargs)\n           ^^^^^^^^^^^^^^^^^^^^^^^^^^\n  File \"/Users/jayclifford/Documents/repos/robot/.venv/lib/python3.11/site-packages/joblib/parallel.py\", line 288, in __call__\n    return [func(*args, **kwargs)\n           ^^^^^^^^^^^^^^^^^^^^^^\n  File \"/Users/jayclifford/Documents/repos/robot/.venv/lib/python3.11/site-packages/joblib/parallel.py\", line 288, in <listcomp>\n    return [func(*args, **kwargs)\n            ^^^^^^^^^^^^^^^^^^^^^\n  File \"/Users/jayclifford/Documents/repos/robot/.venv/lib/python3.11/site-packages/sklearn/utils/parallel.py\", line 123, in __call__\n    return self.function(*args, **kwargs)\n           ^^^^^^^^^^^^^^^^^^^^^^^^^^^^^^\n  File \"/Users/jayclifford/Documents/repos/robot/.venv/lib/python3.11/site-packages/sklearn/model_selection/_validation.py\", line 674, in _fit_and_score\n    estimator = estimator.set_params(**cloned_parameters)\n                ^^^^^^^^^^^^^^^^^^^^^^^^^^^^^^^^^^^^^^^^^\n  File \"/Users/jayclifford/Documents/repos/robot/.venv/lib/python3.11/site-packages/scikeras/wrappers.py\", line 1165, in set_params\n    raise ValueError(\nValueError: Invalid parameter l1_l2_tuple for estimator KerasRegressor.\nThis issue can likely be resolved by setting this parameter in the KerasRegressor constructor:\n`KerasRegressor(l1_l2_tuple=(0.0, 0.0))`\nCheck the list of available parameters with `estimator.get_params().keys()`\n\"\"\"",
      "\nThe above exception was the direct cause of the following exception:\n",
      "\u001b[0;31mValueError\u001b[0m                                Traceback (most recent call last)",
      "\u001b[1;32m/Users/jayclifford/Documents/repos/robot/model/training-keras-grid.ipynb Cell 8\u001b[0m line \u001b[0;36m2\n\u001b[1;32m      <a href='vscode-notebook-cell:/Users/jayclifford/Documents/repos/robot/model/training-keras-grid.ipynb#W6sZmlsZQ%3D%3D?line=0'>1</a>\u001b[0m grid \u001b[39m=\u001b[39m GridSearchCV(estimator\u001b[39m=\u001b[39mget_estimator(), param_grid\u001b[39m=\u001b[39mparam_grid, n_jobs\u001b[39m=\u001b[39m\u001b[39m-\u001b[39m\u001b[39m1\u001b[39m)\n\u001b[0;32m----> <a href='vscode-notebook-cell:/Users/jayclifford/Documents/repos/robot/model/training-keras-grid.ipynb#W6sZmlsZQ%3D%3D?line=1'>2</a>\u001b[0m grid_result \u001b[39m=\u001b[39m grid\u001b[39m.\u001b[39;49mfit(normal_data, normal_data)\n\u001b[1;32m      <a href='vscode-notebook-cell:/Users/jayclifford/Documents/repos/robot/model/training-keras-grid.ipynb#W6sZmlsZQ%3D%3D?line=3'>4</a>\u001b[0m \u001b[39mprint\u001b[39m(\u001b[39mf\u001b[39m\u001b[39m\"\u001b[39m\u001b[39mBest: \u001b[39m\u001b[39m{\u001b[39;00mgrid_result\u001b[39m.\u001b[39mbest_score_\u001b[39m}\u001b[39;00m\u001b[39m using \u001b[39m\u001b[39m{\u001b[39;00mgrid_result\u001b[39m.\u001b[39mbest_params_\u001b[39m}\u001b[39;00m\u001b[39m\"\u001b[39m)\n",
      "File \u001b[0;32m~/Documents/repos/robot/.venv/lib/python3.11/site-packages/sklearn/model_selection/_search.py:874\u001b[0m, in \u001b[0;36mBaseSearchCV.fit\u001b[0;34m(self, X, y, groups, **fit_params)\u001b[0m\n\u001b[1;32m    868\u001b[0m     results \u001b[39m=\u001b[39m \u001b[39mself\u001b[39m\u001b[39m.\u001b[39m_format_results(\n\u001b[1;32m    869\u001b[0m         all_candidate_params, n_splits, all_out, all_more_results\n\u001b[1;32m    870\u001b[0m     )\n\u001b[1;32m    872\u001b[0m     \u001b[39mreturn\u001b[39;00m results\n\u001b[0;32m--> 874\u001b[0m \u001b[39mself\u001b[39;49m\u001b[39m.\u001b[39;49m_run_search(evaluate_candidates)\n\u001b[1;32m    876\u001b[0m \u001b[39m# multimetric is determined here because in the case of a callable\u001b[39;00m\n\u001b[1;32m    877\u001b[0m \u001b[39m# self.scoring the return type is only known after calling\u001b[39;00m\n\u001b[1;32m    878\u001b[0m first_test_score \u001b[39m=\u001b[39m all_out[\u001b[39m0\u001b[39m][\u001b[39m\"\u001b[39m\u001b[39mtest_scores\u001b[39m\u001b[39m\"\u001b[39m]\n",
      "File \u001b[0;32m~/Documents/repos/robot/.venv/lib/python3.11/site-packages/sklearn/model_selection/_search.py:1388\u001b[0m, in \u001b[0;36mGridSearchCV._run_search\u001b[0;34m(self, evaluate_candidates)\u001b[0m\n\u001b[1;32m   1386\u001b[0m \u001b[39mdef\u001b[39;00m \u001b[39m_run_search\u001b[39m(\u001b[39mself\u001b[39m, evaluate_candidates):\n\u001b[1;32m   1387\u001b[0m \u001b[39m    \u001b[39m\u001b[39m\"\"\"Search all candidates in param_grid\"\"\"\u001b[39;00m\n\u001b[0;32m-> 1388\u001b[0m     evaluate_candidates(ParameterGrid(\u001b[39mself\u001b[39;49m\u001b[39m.\u001b[39;49mparam_grid))\n",
      "File \u001b[0;32m~/Documents/repos/robot/.venv/lib/python3.11/site-packages/sklearn/model_selection/_search.py:821\u001b[0m, in \u001b[0;36mBaseSearchCV.fit.<locals>.evaluate_candidates\u001b[0;34m(candidate_params, cv, more_results)\u001b[0m\n\u001b[1;32m    813\u001b[0m \u001b[39mif\u001b[39;00m \u001b[39mself\u001b[39m\u001b[39m.\u001b[39mverbose \u001b[39m>\u001b[39m \u001b[39m0\u001b[39m:\n\u001b[1;32m    814\u001b[0m     \u001b[39mprint\u001b[39m(\n\u001b[1;32m    815\u001b[0m         \u001b[39m\"\u001b[39m\u001b[39mFitting \u001b[39m\u001b[39m{0}\u001b[39;00m\u001b[39m folds for each of \u001b[39m\u001b[39m{1}\u001b[39;00m\u001b[39m candidates,\u001b[39m\u001b[39m\"\u001b[39m\n\u001b[1;32m    816\u001b[0m         \u001b[39m\"\u001b[39m\u001b[39m totalling \u001b[39m\u001b[39m{2}\u001b[39;00m\u001b[39m fits\u001b[39m\u001b[39m\"\u001b[39m\u001b[39m.\u001b[39mformat(\n\u001b[1;32m    817\u001b[0m             n_splits, n_candidates, n_candidates \u001b[39m*\u001b[39m n_splits\n\u001b[1;32m    818\u001b[0m         )\n\u001b[1;32m    819\u001b[0m     )\n\u001b[0;32m--> 821\u001b[0m out \u001b[39m=\u001b[39m parallel(\n\u001b[1;32m    822\u001b[0m     delayed(_fit_and_score)(\n\u001b[1;32m    823\u001b[0m         clone(base_estimator),\n\u001b[1;32m    824\u001b[0m         X,\n\u001b[1;32m    825\u001b[0m         y,\n\u001b[1;32m    826\u001b[0m         train\u001b[39m=\u001b[39;49mtrain,\n\u001b[1;32m    827\u001b[0m         test\u001b[39m=\u001b[39;49mtest,\n\u001b[1;32m    828\u001b[0m         parameters\u001b[39m=\u001b[39;49mparameters,\n\u001b[1;32m    829\u001b[0m         split_progress\u001b[39m=\u001b[39;49m(split_idx, n_splits),\n\u001b[1;32m    830\u001b[0m         candidate_progress\u001b[39m=\u001b[39;49m(cand_idx, n_candidates),\n\u001b[1;32m    831\u001b[0m         \u001b[39m*\u001b[39;49m\u001b[39m*\u001b[39;49mfit_and_score_kwargs,\n\u001b[1;32m    832\u001b[0m     )\n\u001b[1;32m    833\u001b[0m     \u001b[39mfor\u001b[39;49;00m (cand_idx, parameters), (split_idx, (train, test)) \u001b[39min\u001b[39;49;00m product(\n\u001b[1;32m    834\u001b[0m         \u001b[39menumerate\u001b[39;49m(candidate_params), \u001b[39menumerate\u001b[39;49m(cv\u001b[39m.\u001b[39;49msplit(X, y, groups))\n\u001b[1;32m    835\u001b[0m     )\n\u001b[1;32m    836\u001b[0m )\n\u001b[1;32m    838\u001b[0m \u001b[39mif\u001b[39;00m \u001b[39mlen\u001b[39m(out) \u001b[39m<\u001b[39m \u001b[39m1\u001b[39m:\n\u001b[1;32m    839\u001b[0m     \u001b[39mraise\u001b[39;00m \u001b[39mValueError\u001b[39;00m(\n\u001b[1;32m    840\u001b[0m         \u001b[39m\"\u001b[39m\u001b[39mNo fits were performed. \u001b[39m\u001b[39m\"\u001b[39m\n\u001b[1;32m    841\u001b[0m         \u001b[39m\"\u001b[39m\u001b[39mWas the CV iterator empty? \u001b[39m\u001b[39m\"\u001b[39m\n\u001b[1;32m    842\u001b[0m         \u001b[39m\"\u001b[39m\u001b[39mWere there no candidates?\u001b[39m\u001b[39m\"\u001b[39m\n\u001b[1;32m    843\u001b[0m     )\n",
      "File \u001b[0;32m~/Documents/repos/robot/.venv/lib/python3.11/site-packages/sklearn/utils/parallel.py:63\u001b[0m, in \u001b[0;36mParallel.__call__\u001b[0;34m(self, iterable)\u001b[0m\n\u001b[1;32m     58\u001b[0m config \u001b[39m=\u001b[39m get_config()\n\u001b[1;32m     59\u001b[0m iterable_with_config \u001b[39m=\u001b[39m (\n\u001b[1;32m     60\u001b[0m     (_with_config(delayed_func, config), args, kwargs)\n\u001b[1;32m     61\u001b[0m     \u001b[39mfor\u001b[39;00m delayed_func, args, kwargs \u001b[39min\u001b[39;00m iterable\n\u001b[1;32m     62\u001b[0m )\n\u001b[0;32m---> 63\u001b[0m \u001b[39mreturn\u001b[39;00m \u001b[39msuper\u001b[39;49m()\u001b[39m.\u001b[39;49m\u001b[39m__call__\u001b[39;49m(iterable_with_config)\n",
      "File \u001b[0;32m~/Documents/repos/robot/.venv/lib/python3.11/site-packages/joblib/parallel.py:1098\u001b[0m, in \u001b[0;36mParallel.__call__\u001b[0;34m(self, iterable)\u001b[0m\n\u001b[1;32m   1095\u001b[0m     \u001b[39mself\u001b[39m\u001b[39m.\u001b[39m_iterating \u001b[39m=\u001b[39m \u001b[39mFalse\u001b[39;00m\n\u001b[1;32m   1097\u001b[0m \u001b[39mwith\u001b[39;00m \u001b[39mself\u001b[39m\u001b[39m.\u001b[39m_backend\u001b[39m.\u001b[39mretrieval_context():\n\u001b[0;32m-> 1098\u001b[0m     \u001b[39mself\u001b[39;49m\u001b[39m.\u001b[39;49mretrieve()\n\u001b[1;32m   1099\u001b[0m \u001b[39m# Make sure that we get a last message telling us we are done\u001b[39;00m\n\u001b[1;32m   1100\u001b[0m elapsed_time \u001b[39m=\u001b[39m time\u001b[39m.\u001b[39mtime() \u001b[39m-\u001b[39m \u001b[39mself\u001b[39m\u001b[39m.\u001b[39m_start_time\n",
      "File \u001b[0;32m~/Documents/repos/robot/.venv/lib/python3.11/site-packages/joblib/parallel.py:975\u001b[0m, in \u001b[0;36mParallel.retrieve\u001b[0;34m(self)\u001b[0m\n\u001b[1;32m    973\u001b[0m \u001b[39mtry\u001b[39;00m:\n\u001b[1;32m    974\u001b[0m     \u001b[39mif\u001b[39;00m \u001b[39mgetattr\u001b[39m(\u001b[39mself\u001b[39m\u001b[39m.\u001b[39m_backend, \u001b[39m'\u001b[39m\u001b[39msupports_timeout\u001b[39m\u001b[39m'\u001b[39m, \u001b[39mFalse\u001b[39;00m):\n\u001b[0;32m--> 975\u001b[0m         \u001b[39mself\u001b[39m\u001b[39m.\u001b[39m_output\u001b[39m.\u001b[39mextend(job\u001b[39m.\u001b[39;49mget(timeout\u001b[39m=\u001b[39;49m\u001b[39mself\u001b[39;49m\u001b[39m.\u001b[39;49mtimeout))\n\u001b[1;32m    976\u001b[0m     \u001b[39melse\u001b[39;00m:\n\u001b[1;32m    977\u001b[0m         \u001b[39mself\u001b[39m\u001b[39m.\u001b[39m_output\u001b[39m.\u001b[39mextend(job\u001b[39m.\u001b[39mget())\n",
      "File \u001b[0;32m~/Documents/repos/robot/.venv/lib/python3.11/site-packages/joblib/_parallel_backends.py:567\u001b[0m, in \u001b[0;36mLokyBackend.wrap_future_result\u001b[0;34m(future, timeout)\u001b[0m\n\u001b[1;32m    564\u001b[0m \u001b[39m\u001b[39m\u001b[39m\"\"\"Wrapper for Future.result to implement the same behaviour as\u001b[39;00m\n\u001b[1;32m    565\u001b[0m \u001b[39mAsyncResults.get from multiprocessing.\"\"\"\u001b[39;00m\n\u001b[1;32m    566\u001b[0m \u001b[39mtry\u001b[39;00m:\n\u001b[0;32m--> 567\u001b[0m     \u001b[39mreturn\u001b[39;00m future\u001b[39m.\u001b[39;49mresult(timeout\u001b[39m=\u001b[39;49mtimeout)\n\u001b[1;32m    568\u001b[0m \u001b[39mexcept\u001b[39;00m CfTimeoutError \u001b[39mas\u001b[39;00m e:\n\u001b[1;32m    569\u001b[0m     \u001b[39mraise\u001b[39;00m \u001b[39mTimeoutError\u001b[39;00m \u001b[39mfrom\u001b[39;00m \u001b[39me\u001b[39;00m\n",
      "File \u001b[0;32m/usr/local/Cellar/python@3.11/3.11.5/Frameworks/Python.framework/Versions/3.11/lib/python3.11/concurrent/futures/_base.py:456\u001b[0m, in \u001b[0;36mFuture.result\u001b[0;34m(self, timeout)\u001b[0m\n\u001b[1;32m    454\u001b[0m     \u001b[39mraise\u001b[39;00m CancelledError()\n\u001b[1;32m    455\u001b[0m \u001b[39melif\u001b[39;00m \u001b[39mself\u001b[39m\u001b[39m.\u001b[39m_state \u001b[39m==\u001b[39m FINISHED:\n\u001b[0;32m--> 456\u001b[0m     \u001b[39mreturn\u001b[39;00m \u001b[39mself\u001b[39;49m\u001b[39m.\u001b[39;49m__get_result()\n\u001b[1;32m    457\u001b[0m \u001b[39melse\u001b[39;00m:\n\u001b[1;32m    458\u001b[0m     \u001b[39mraise\u001b[39;00m \u001b[39mTimeoutError\u001b[39;00m()\n",
      "File \u001b[0;32m/usr/local/Cellar/python@3.11/3.11.5/Frameworks/Python.framework/Versions/3.11/lib/python3.11/concurrent/futures/_base.py:401\u001b[0m, in \u001b[0;36mFuture.__get_result\u001b[0;34m(self)\u001b[0m\n\u001b[1;32m    399\u001b[0m \u001b[39mif\u001b[39;00m \u001b[39mself\u001b[39m\u001b[39m.\u001b[39m_exception:\n\u001b[1;32m    400\u001b[0m     \u001b[39mtry\u001b[39;00m:\n\u001b[0;32m--> 401\u001b[0m         \u001b[39mraise\u001b[39;00m \u001b[39mself\u001b[39m\u001b[39m.\u001b[39m_exception\n\u001b[1;32m    402\u001b[0m     \u001b[39mfinally\u001b[39;00m:\n\u001b[1;32m    403\u001b[0m         \u001b[39m# Break a reference cycle with the exception in self._exception\u001b[39;00m\n\u001b[1;32m    404\u001b[0m         \u001b[39mself\u001b[39m \u001b[39m=\u001b[39m \u001b[39mNone\u001b[39;00m\n",
      "\u001b[0;31mValueError\u001b[0m: Invalid parameter l1_l2_tuple for estimator KerasRegressor.\nThis issue can likely be resolved by setting this parameter in the KerasRegressor constructor:\n`KerasRegressor(l1_l2_tuple=(0.0, 0.0))`\nCheck the list of available parameters with `estimator.get_params().keys()`"
     ]
    }
   ],
   "source": [
    "grid = GridSearchCV(estimator=get_estimator(), param_grid=param_grid, n_jobs=-1)\n",
    "grid_result = grid.fit(normal_data, normal_data)\n",
    "\n",
    "print(f\"Best: {grid_result.best_score_} using {grid_result.best_params_}\")"
   ]
  }
 ],
 "metadata": {
  "kernelspec": {
   "display_name": ".venv",
   "language": "python",
   "name": "python3"
  },
  "language_info": {
   "codemirror_mode": {
    "name": "ipython",
    "version": 3
   },
   "file_extension": ".py",
   "mimetype": "text/x-python",
   "name": "python",
   "nbconvert_exporter": "python",
   "pygments_lexer": "ipython3",
   "version": "3.11.5"
  },
  "orig_nbformat": 4
 },
 "nbformat": 4,
 "nbformat_minor": 2
}
