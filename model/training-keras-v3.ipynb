{
 "cells": [
  {
   "attachments": {},
   "cell_type": "markdown",
   "metadata": {},
   "source": [
    "# ML Model Example\n",
    "\n",
    "This example provides a simply query tutorial for InfluxDB Cloud Dedicated. "
   ]
  },
  {
   "cell_type": "code",
   "execution_count": 58,
   "metadata": {},
   "outputs": [],
   "source": [
    "import influxdb_client_3 as InfluxDBClient3\n",
    "import numpy as np\n",
    "from keras.layers import Input, Dense, Conv1D, Flatten, Reshape, TimeDistributed, Normalization\n",
    "from keras.models import Model\n",
    "from keras.optimizers import Adam\n",
    "from sklearn.preprocessing import MinMaxScaler\n",
    "from sklearn.model_selection import train_test_split\n",
    "\n",
    "import datetime\n",
    "from keras.callbacks import TensorBoard\n",
    "from huggingface_hub import push_to_hub_keras\n",
    "import plotly.io as pio\n",
    "import plotly.express as px\n",
    "import plotly.graph_objects as go\n",
    "pio.renderers.default = \"vscode\"\n",
    "import os, datetime\n"
   ]
  },
  {
   "cell_type": "code",
   "execution_count": 59,
   "metadata": {},
   "outputs": [],
   "source": [
    "token = 'dzfx2CLrpmGjbTHmdbnw1cSB7Op89g6cQ2VD7EVRJYHiF8UN8bRqIaBK92TxnCa906qWjjV6KVk_TQrW0uH5IA=='\n",
    "host = 'eu-central-1-1.aws.cloud2.influxdata.com'    \n",
    "org = 'Jay-IOx'\n",
    "db = 'robot'\n",
    "\n",
    "client = InfluxDBClient3.InfluxDBClient3(token=token,\n",
    "                         host=host,\n",
    "                         org=org,\n",
    "                         database=db) \n",
    "    \n",
    "    \n"
   ]
  },
  {
   "cell_type": "code",
   "execution_count": 60,
   "metadata": {},
   "outputs": [
    {
     "data": {
      "application/vnd.plotly.v1+json": {
       "config": {
        "plotlyServerURL": "https://plot.ly"
       },
       "data": [
        {
         "hovertemplate": "variable=coord<br>time=%{x}<br>value=%{y}<extra></extra>",
         "legendgroup": "coord",
         "line": {
          "color": "#636efa",
          "dash": "solid"
         },
         "marker": {
          "symbol": "circle"
         },
         "mode": "lines",
         "name": "coord",
         "orientation": "v",
         "showlegend": true,
         "type": "scatter",
         "x": [
          "2023-10-11T13:16:30",
          "2023-10-11T13:16:33",
          "2023-10-11T13:16:36",
          "2023-10-11T13:16:39",
          "2023-10-11T13:16:42",
          "2023-10-11T13:16:45",
          "2023-10-11T13:16:48",
          "2023-10-11T13:16:51",
          "2023-10-11T13:16:54",
          "2023-10-11T13:16:57",
          "2023-10-11T13:17:00",
          "2023-10-11T13:17:03",
          "2023-10-11T13:17:06",
          "2023-10-11T13:17:09",
          "2023-10-11T13:17:12",
          "2023-10-11T13:17:15",
          "2023-10-11T13:17:18",
          "2023-10-11T13:17:21",
          "2023-10-11T13:17:24",
          "2023-10-11T13:17:27",
          "2023-10-11T13:17:30",
          "2023-10-11T13:17:33",
          "2023-10-11T13:17:36",
          "2023-10-11T13:17:39",
          "2023-10-11T13:17:42",
          "2023-10-11T13:17:45",
          "2023-10-11T13:17:48",
          "2023-10-11T13:17:51",
          "2023-10-11T13:17:54",
          "2023-10-11T13:17:57",
          "2023-10-11T13:18:00",
          "2023-10-11T13:18:03",
          "2023-10-11T13:18:06",
          "2023-10-11T13:18:09",
          "2023-10-11T13:18:12",
          "2023-10-11T13:18:15",
          "2023-10-11T13:18:18",
          "2023-10-11T13:18:21",
          "2023-10-11T13:18:24",
          "2023-10-11T13:18:27",
          "2023-10-11T13:18:30",
          "2023-10-11T13:18:33",
          "2023-10-11T13:18:36",
          "2023-10-11T13:18:39",
          "2023-10-11T13:18:42",
          "2023-10-11T13:18:45",
          "2023-10-11T13:18:48",
          "2023-10-11T13:18:51",
          "2023-10-11T13:18:54",
          "2023-10-11T13:18:57",
          "2023-10-11T13:19:00",
          "2023-10-11T13:19:03",
          "2023-10-11T13:19:06",
          "2023-10-11T13:19:09",
          "2023-10-11T13:19:12",
          "2023-10-11T13:19:15",
          "2023-10-11T13:19:18",
          "2023-10-11T13:19:21",
          "2023-10-11T13:19:24",
          "2023-10-11T13:19:27",
          "2023-10-11T13:19:30",
          "2023-10-11T13:19:33",
          "2023-10-11T13:19:36",
          "2023-10-11T13:19:39",
          "2023-10-11T13:19:42",
          "2023-10-11T13:19:45",
          "2023-10-11T13:19:48",
          "2023-10-11T13:19:51",
          "2023-10-11T13:19:54",
          "2023-10-11T13:19:57",
          "2023-10-11T13:20:00",
          "2023-10-11T13:20:03",
          "2023-10-11T13:20:06",
          "2023-10-11T13:20:09",
          "2023-10-11T13:20:12",
          "2023-10-11T13:20:15",
          "2023-10-11T13:20:18",
          "2023-10-11T13:20:21",
          "2023-10-11T13:20:24",
          "2023-10-11T13:20:27",
          "2023-10-11T13:20:30",
          "2023-10-11T13:20:33",
          "2023-10-11T13:20:36",
          "2023-10-11T13:20:39",
          "2023-10-11T13:20:42",
          "2023-10-11T13:20:45",
          "2023-10-11T13:20:48",
          "2023-10-11T13:20:51",
          "2023-10-11T13:20:54",
          "2023-10-11T13:20:57",
          "2023-10-11T13:21:00"
         ],
         "xaxis": "x",
         "y": [
          -156.57657142857144,
          -152.38771428571428,
          -146.15942857142858,
          -137.8757142857143,
          -127.5185714285714,
          -117.16142857142859,
          -106.80428571428573,
          -94.12457142857143,
          -86.90828571428571,
          -84.99142857142859,
          -92.082,
          -40.327999999999996,
          8.201999999999993,
          -0.7379999999999995,
          -6.380000000000001,
          -5.051999999999995,
          -75.53999999999999,
          -143.018,
          -138.762,
          -129.346,
          -120.61200000000001,
          -101.936,
          -92.804,
          -37.269999999999996,
          12.985999999999995,
          4.096000000000001,
          -3.7760000000000047,
          -6.213999999999999,
          -73.89000000000001,
          -141.73,
          -137.458,
          -125.23999999999998,
          -113.07800000000002,
          -97.214,
          -86.66600000000001,
          -31.105999999999995,
          16.381999999999998,
          45.803999999999995,
          37.87399999999999,
          35.53399999999998,
          17.767999999999994,
          -0.08799999999999955,
          -48.388,
          -38.96,
          -29.560000000000002,
          -62.718,
          -102.08800000000001,
          -92.90400000000001,
          -42.56800000000001,
          -11.569999999999997,
          -20.522,
          -23.028,
          -25.677999999999997,
          -44.816,
          -92.01200000000001,
          -88.66600000000001,
          -76.418,
          -67.356,
          -105.602,
          -96.44999999999999,
          -39.916,
          -60.489999999999995,
          -69.388,
          -71.69200000000001,
          -73.988,
          -141.594,
          -139.876,
          -137.71599999999998,
          -128.37000000000003,
          -119.68199999999999,
          -101.99600000000001,
          -92.83399999999999,
          -35.206,
          15.070000000000011,
          6.122,
          -3.6499999999999972,
          -6.126000000000007,
          -22.378,
          -41.446000000000005,
          -40.222,
          -28.088,
          -19.258000000000003,
          -51.934000000000005,
          -90.194,
          -31.574000000000005,
          15.895999999999997,
          5.871999999999997,
          -5.078000000000003,
          -7.474000000000009,
          -20.084000000000003,
          -37.89
         ],
         "yaxis": "y"
        }
       ],
       "layout": {
        "legend": {
         "title": {
          "text": "variable"
         },
         "tracegroupgap": 0
        },
        "template": {
         "data": {
          "bar": [
           {
            "error_x": {
             "color": "#2a3f5f"
            },
            "error_y": {
             "color": "#2a3f5f"
            },
            "marker": {
             "line": {
              "color": "#E5ECF6",
              "width": 0.5
             },
             "pattern": {
              "fillmode": "overlay",
              "size": 10,
              "solidity": 0.2
             }
            },
            "type": "bar"
           }
          ],
          "barpolar": [
           {
            "marker": {
             "line": {
              "color": "#E5ECF6",
              "width": 0.5
             },
             "pattern": {
              "fillmode": "overlay",
              "size": 10,
              "solidity": 0.2
             }
            },
            "type": "barpolar"
           }
          ],
          "carpet": [
           {
            "aaxis": {
             "endlinecolor": "#2a3f5f",
             "gridcolor": "white",
             "linecolor": "white",
             "minorgridcolor": "white",
             "startlinecolor": "#2a3f5f"
            },
            "baxis": {
             "endlinecolor": "#2a3f5f",
             "gridcolor": "white",
             "linecolor": "white",
             "minorgridcolor": "white",
             "startlinecolor": "#2a3f5f"
            },
            "type": "carpet"
           }
          ],
          "choropleth": [
           {
            "colorbar": {
             "outlinewidth": 0,
             "ticks": ""
            },
            "type": "choropleth"
           }
          ],
          "contour": [
           {
            "colorbar": {
             "outlinewidth": 0,
             "ticks": ""
            },
            "colorscale": [
             [
              0,
              "#0d0887"
             ],
             [
              0.1111111111111111,
              "#46039f"
             ],
             [
              0.2222222222222222,
              "#7201a8"
             ],
             [
              0.3333333333333333,
              "#9c179e"
             ],
             [
              0.4444444444444444,
              "#bd3786"
             ],
             [
              0.5555555555555556,
              "#d8576b"
             ],
             [
              0.6666666666666666,
              "#ed7953"
             ],
             [
              0.7777777777777778,
              "#fb9f3a"
             ],
             [
              0.8888888888888888,
              "#fdca26"
             ],
             [
              1,
              "#f0f921"
             ]
            ],
            "type": "contour"
           }
          ],
          "contourcarpet": [
           {
            "colorbar": {
             "outlinewidth": 0,
             "ticks": ""
            },
            "type": "contourcarpet"
           }
          ],
          "heatmap": [
           {
            "colorbar": {
             "outlinewidth": 0,
             "ticks": ""
            },
            "colorscale": [
             [
              0,
              "#0d0887"
             ],
             [
              0.1111111111111111,
              "#46039f"
             ],
             [
              0.2222222222222222,
              "#7201a8"
             ],
             [
              0.3333333333333333,
              "#9c179e"
             ],
             [
              0.4444444444444444,
              "#bd3786"
             ],
             [
              0.5555555555555556,
              "#d8576b"
             ],
             [
              0.6666666666666666,
              "#ed7953"
             ],
             [
              0.7777777777777778,
              "#fb9f3a"
             ],
             [
              0.8888888888888888,
              "#fdca26"
             ],
             [
              1,
              "#f0f921"
             ]
            ],
            "type": "heatmap"
           }
          ],
          "heatmapgl": [
           {
            "colorbar": {
             "outlinewidth": 0,
             "ticks": ""
            },
            "colorscale": [
             [
              0,
              "#0d0887"
             ],
             [
              0.1111111111111111,
              "#46039f"
             ],
             [
              0.2222222222222222,
              "#7201a8"
             ],
             [
              0.3333333333333333,
              "#9c179e"
             ],
             [
              0.4444444444444444,
              "#bd3786"
             ],
             [
              0.5555555555555556,
              "#d8576b"
             ],
             [
              0.6666666666666666,
              "#ed7953"
             ],
             [
              0.7777777777777778,
              "#fb9f3a"
             ],
             [
              0.8888888888888888,
              "#fdca26"
             ],
             [
              1,
              "#f0f921"
             ]
            ],
            "type": "heatmapgl"
           }
          ],
          "histogram": [
           {
            "marker": {
             "pattern": {
              "fillmode": "overlay",
              "size": 10,
              "solidity": 0.2
             }
            },
            "type": "histogram"
           }
          ],
          "histogram2d": [
           {
            "colorbar": {
             "outlinewidth": 0,
             "ticks": ""
            },
            "colorscale": [
             [
              0,
              "#0d0887"
             ],
             [
              0.1111111111111111,
              "#46039f"
             ],
             [
              0.2222222222222222,
              "#7201a8"
             ],
             [
              0.3333333333333333,
              "#9c179e"
             ],
             [
              0.4444444444444444,
              "#bd3786"
             ],
             [
              0.5555555555555556,
              "#d8576b"
             ],
             [
              0.6666666666666666,
              "#ed7953"
             ],
             [
              0.7777777777777778,
              "#fb9f3a"
             ],
             [
              0.8888888888888888,
              "#fdca26"
             ],
             [
              1,
              "#f0f921"
             ]
            ],
            "type": "histogram2d"
           }
          ],
          "histogram2dcontour": [
           {
            "colorbar": {
             "outlinewidth": 0,
             "ticks": ""
            },
            "colorscale": [
             [
              0,
              "#0d0887"
             ],
             [
              0.1111111111111111,
              "#46039f"
             ],
             [
              0.2222222222222222,
              "#7201a8"
             ],
             [
              0.3333333333333333,
              "#9c179e"
             ],
             [
              0.4444444444444444,
              "#bd3786"
             ],
             [
              0.5555555555555556,
              "#d8576b"
             ],
             [
              0.6666666666666666,
              "#ed7953"
             ],
             [
              0.7777777777777778,
              "#fb9f3a"
             ],
             [
              0.8888888888888888,
              "#fdca26"
             ],
             [
              1,
              "#f0f921"
             ]
            ],
            "type": "histogram2dcontour"
           }
          ],
          "mesh3d": [
           {
            "colorbar": {
             "outlinewidth": 0,
             "ticks": ""
            },
            "type": "mesh3d"
           }
          ],
          "parcoords": [
           {
            "line": {
             "colorbar": {
              "outlinewidth": 0,
              "ticks": ""
             }
            },
            "type": "parcoords"
           }
          ],
          "pie": [
           {
            "automargin": true,
            "type": "pie"
           }
          ],
          "scatter": [
           {
            "fillpattern": {
             "fillmode": "overlay",
             "size": 10,
             "solidity": 0.2
            },
            "type": "scatter"
           }
          ],
          "scatter3d": [
           {
            "line": {
             "colorbar": {
              "outlinewidth": 0,
              "ticks": ""
             }
            },
            "marker": {
             "colorbar": {
              "outlinewidth": 0,
              "ticks": ""
             }
            },
            "type": "scatter3d"
           }
          ],
          "scattercarpet": [
           {
            "marker": {
             "colorbar": {
              "outlinewidth": 0,
              "ticks": ""
             }
            },
            "type": "scattercarpet"
           }
          ],
          "scattergeo": [
           {
            "marker": {
             "colorbar": {
              "outlinewidth": 0,
              "ticks": ""
             }
            },
            "type": "scattergeo"
           }
          ],
          "scattergl": [
           {
            "marker": {
             "colorbar": {
              "outlinewidth": 0,
              "ticks": ""
             }
            },
            "type": "scattergl"
           }
          ],
          "scattermapbox": [
           {
            "marker": {
             "colorbar": {
              "outlinewidth": 0,
              "ticks": ""
             }
            },
            "type": "scattermapbox"
           }
          ],
          "scatterpolar": [
           {
            "marker": {
             "colorbar": {
              "outlinewidth": 0,
              "ticks": ""
             }
            },
            "type": "scatterpolar"
           }
          ],
          "scatterpolargl": [
           {
            "marker": {
             "colorbar": {
              "outlinewidth": 0,
              "ticks": ""
             }
            },
            "type": "scatterpolargl"
           }
          ],
          "scatterternary": [
           {
            "marker": {
             "colorbar": {
              "outlinewidth": 0,
              "ticks": ""
             }
            },
            "type": "scatterternary"
           }
          ],
          "surface": [
           {
            "colorbar": {
             "outlinewidth": 0,
             "ticks": ""
            },
            "colorscale": [
             [
              0,
              "#0d0887"
             ],
             [
              0.1111111111111111,
              "#46039f"
             ],
             [
              0.2222222222222222,
              "#7201a8"
             ],
             [
              0.3333333333333333,
              "#9c179e"
             ],
             [
              0.4444444444444444,
              "#bd3786"
             ],
             [
              0.5555555555555556,
              "#d8576b"
             ],
             [
              0.6666666666666666,
              "#ed7953"
             ],
             [
              0.7777777777777778,
              "#fb9f3a"
             ],
             [
              0.8888888888888888,
              "#fdca26"
             ],
             [
              1,
              "#f0f921"
             ]
            ],
            "type": "surface"
           }
          ],
          "table": [
           {
            "cells": {
             "fill": {
              "color": "#EBF0F8"
             },
             "line": {
              "color": "white"
             }
            },
            "header": {
             "fill": {
              "color": "#C8D4E3"
             },
             "line": {
              "color": "white"
             }
            },
            "type": "table"
           }
          ]
         },
         "layout": {
          "annotationdefaults": {
           "arrowcolor": "#2a3f5f",
           "arrowhead": 0,
           "arrowwidth": 1
          },
          "autotypenumbers": "strict",
          "coloraxis": {
           "colorbar": {
            "outlinewidth": 0,
            "ticks": ""
           }
          },
          "colorscale": {
           "diverging": [
            [
             0,
             "#8e0152"
            ],
            [
             0.1,
             "#c51b7d"
            ],
            [
             0.2,
             "#de77ae"
            ],
            [
             0.3,
             "#f1b6da"
            ],
            [
             0.4,
             "#fde0ef"
            ],
            [
             0.5,
             "#f7f7f7"
            ],
            [
             0.6,
             "#e6f5d0"
            ],
            [
             0.7,
             "#b8e186"
            ],
            [
             0.8,
             "#7fbc41"
            ],
            [
             0.9,
             "#4d9221"
            ],
            [
             1,
             "#276419"
            ]
           ],
           "sequential": [
            [
             0,
             "#0d0887"
            ],
            [
             0.1111111111111111,
             "#46039f"
            ],
            [
             0.2222222222222222,
             "#7201a8"
            ],
            [
             0.3333333333333333,
             "#9c179e"
            ],
            [
             0.4444444444444444,
             "#bd3786"
            ],
            [
             0.5555555555555556,
             "#d8576b"
            ],
            [
             0.6666666666666666,
             "#ed7953"
            ],
            [
             0.7777777777777778,
             "#fb9f3a"
            ],
            [
             0.8888888888888888,
             "#fdca26"
            ],
            [
             1,
             "#f0f921"
            ]
           ],
           "sequentialminus": [
            [
             0,
             "#0d0887"
            ],
            [
             0.1111111111111111,
             "#46039f"
            ],
            [
             0.2222222222222222,
             "#7201a8"
            ],
            [
             0.3333333333333333,
             "#9c179e"
            ],
            [
             0.4444444444444444,
             "#bd3786"
            ],
            [
             0.5555555555555556,
             "#d8576b"
            ],
            [
             0.6666666666666666,
             "#ed7953"
            ],
            [
             0.7777777777777778,
             "#fb9f3a"
            ],
            [
             0.8888888888888888,
             "#fdca26"
            ],
            [
             1,
             "#f0f921"
            ]
           ]
          },
          "colorway": [
           "#636efa",
           "#EF553B",
           "#00cc96",
           "#ab63fa",
           "#FFA15A",
           "#19d3f3",
           "#FF6692",
           "#B6E880",
           "#FF97FF",
           "#FECB52"
          ],
          "font": {
           "color": "#2a3f5f"
          },
          "geo": {
           "bgcolor": "white",
           "lakecolor": "white",
           "landcolor": "#E5ECF6",
           "showlakes": true,
           "showland": true,
           "subunitcolor": "white"
          },
          "hoverlabel": {
           "align": "left"
          },
          "hovermode": "closest",
          "mapbox": {
           "style": "light"
          },
          "paper_bgcolor": "white",
          "plot_bgcolor": "#E5ECF6",
          "polar": {
           "angularaxis": {
            "gridcolor": "white",
            "linecolor": "white",
            "ticks": ""
           },
           "bgcolor": "#E5ECF6",
           "radialaxis": {
            "gridcolor": "white",
            "linecolor": "white",
            "ticks": ""
           }
          },
          "scene": {
           "xaxis": {
            "backgroundcolor": "#E5ECF6",
            "gridcolor": "white",
            "gridwidth": 2,
            "linecolor": "white",
            "showbackground": true,
            "ticks": "",
            "zerolinecolor": "white"
           },
           "yaxis": {
            "backgroundcolor": "#E5ECF6",
            "gridcolor": "white",
            "gridwidth": 2,
            "linecolor": "white",
            "showbackground": true,
            "ticks": "",
            "zerolinecolor": "white"
           },
           "zaxis": {
            "backgroundcolor": "#E5ECF6",
            "gridcolor": "white",
            "gridwidth": 2,
            "linecolor": "white",
            "showbackground": true,
            "ticks": "",
            "zerolinecolor": "white"
           }
          },
          "shapedefaults": {
           "line": {
            "color": "#2a3f5f"
           }
          },
          "ternary": {
           "aaxis": {
            "gridcolor": "white",
            "linecolor": "white",
            "ticks": ""
           },
           "baxis": {
            "gridcolor": "white",
            "linecolor": "white",
            "ticks": ""
           },
           "bgcolor": "#E5ECF6",
           "caxis": {
            "gridcolor": "white",
            "linecolor": "white",
            "ticks": ""
           }
          },
          "title": {
           "x": 0.05
          },
          "xaxis": {
           "automargin": true,
           "gridcolor": "white",
           "linecolor": "white",
           "ticks": "",
           "title": {
            "standoff": 15
           },
           "zerolinecolor": "white",
           "zerolinewidth": 2
          },
          "yaxis": {
           "automargin": true,
           "gridcolor": "white",
           "linecolor": "white",
           "ticks": "",
           "title": {
            "standoff": 15
           },
           "zerolinecolor": "white",
           "zerolinewidth": 2
          }
         }
        },
        "title": {
         "text": "raw coord"
        },
        "xaxis": {
         "anchor": "y",
         "domain": [
          0,
          1
         ],
         "title": {
          "text": "time"
         }
        },
        "yaxis": {
         "anchor": "x",
         "domain": [
          0,
          1
         ],
         "title": {
          "text": "value"
         }
        }
       }
      }
     },
     "metadata": {},
     "output_type": "display_data"
    }
   ],
   "source": [
    "query = '''SELECT MOVING_AVERAGE(last(\"coord\"), 5) as coord FROM \"joints\" WHERE time >= 1697030174180ms and time <= 1697030462986ms GROUP BY time(3s) fill(linear)'''\n",
    "table = client.query(query=query, language=\"influxql\")\n",
    "normal = table.to_pandas().drop(columns=['iox::measurement']).set_index('time').dropna(how='all')\n",
    "fig = px.line(normal, y=[\"coord\"], title='raw coord' )\n",
    "fig.show()"
   ]
  },
  {
   "cell_type": "code",
   "execution_count": 61,
   "metadata": {},
   "outputs": [
    {
     "data": {
      "application/vnd.plotly.v1+json": {
       "config": {
        "plotlyServerURL": "https://plot.ly"
       },
       "data": [
        {
         "hovertemplate": "variable=coord<br>time=%{x}<br>value=%{y}<extra></extra>",
         "legendgroup": "coord",
         "line": {
          "color": "#636efa",
          "dash": "solid"
         },
         "marker": {
          "symbol": "circle"
         },
         "mode": "lines",
         "name": "coord",
         "orientation": "v",
         "showlegend": true,
         "type": "scatter",
         "x": [
          "2023-10-11T13:24:30",
          "2023-10-11T13:24:33",
          "2023-10-11T13:24:36",
          "2023-10-11T13:24:39",
          "2023-10-11T13:24:42",
          "2023-10-11T13:24:45",
          "2023-10-11T13:24:48",
          "2023-10-11T13:24:51",
          "2023-10-11T13:24:54",
          "2023-10-11T13:24:57",
          "2023-10-11T13:25:00",
          "2023-10-11T13:25:03",
          "2023-10-11T13:25:06",
          "2023-10-11T13:25:09",
          "2023-10-11T13:25:12",
          "2023-10-11T13:25:15",
          "2023-10-11T13:25:18",
          "2023-10-11T13:25:21",
          "2023-10-11T13:25:24",
          "2023-10-11T13:25:27",
          "2023-10-11T13:25:30",
          "2023-10-11T13:25:33",
          "2023-10-11T13:25:36",
          "2023-10-11T13:25:39",
          "2023-10-11T13:25:42",
          "2023-10-11T13:25:45",
          "2023-10-11T13:25:48",
          "2023-10-11T13:25:51",
          "2023-10-11T13:25:54",
          "2023-10-11T13:25:57",
          "2023-10-11T13:26:00",
          "2023-10-11T13:26:03",
          "2023-10-11T13:26:06",
          "2023-10-11T13:26:09",
          "2023-10-11T13:26:12",
          "2023-10-11T13:26:15",
          "2023-10-11T13:26:18",
          "2023-10-11T13:26:21",
          "2023-10-11T13:26:24",
          "2023-10-11T13:26:27",
          "2023-10-11T13:26:30",
          "2023-10-11T13:26:33",
          "2023-10-11T13:26:36",
          "2023-10-11T13:26:39",
          "2023-10-11T13:26:42",
          "2023-10-11T13:26:45",
          "2023-10-11T13:26:48",
          "2023-10-11T13:26:51",
          "2023-10-11T13:26:54",
          "2023-10-11T13:26:57",
          "2023-10-11T13:27:00",
          "2023-10-11T13:27:03",
          "2023-10-11T13:27:06",
          "2023-10-11T13:27:09",
          "2023-10-11T13:27:12",
          "2023-10-11T13:27:15",
          "2023-10-11T13:27:18",
          "2023-10-11T13:27:21",
          "2023-10-11T13:27:24",
          "2023-10-11T13:27:27",
          "2023-10-11T13:27:30",
          "2023-10-11T13:27:33",
          "2023-10-11T13:27:36",
          "2023-10-11T13:27:39",
          "2023-10-11T13:27:42",
          "2023-10-11T13:27:45"
         ],
         "xaxis": "x",
         "y": [
          -87.036,
          -39.629999999999995,
          -4.999999999999995,
          -4.625999999999996,
          1.7320000000000022,
          11.719999999999992,
          -45.61,
          -32.85000000000001,
          17.678000000000004,
          20.99,
          20.639999999999997,
          27.107999999999993,
          -30.182,
          -87.47200000000001,
          -39.84599999999999,
          -57.38399999999999,
          -57.028,
          -50.681999999999995,
          -41.4,
          -98.65,
          -33.492000000000004,
          16.976000000000006,
          20.262,
          20.618000000000002,
          26.98799999999999,
          -30.3,
          -87.53,
          -39.92600000000001,
          -57.516,
          -57.108000000000004,
          -50.784,
          -39.824,
          -97.006,
          -31.778000000000002,
          18.690000000000005,
          21.988000000000003,
          20.662,
          29.534000000000002,
          -27.758000000000003,
          -84.98800000000001,
          -37.38200000000001,
          -54.302,
          -56.434000000000005,
          -50.118,
          -40.8,
          -97.99799999999999,
          -33.43599999999999,
          17.012,
          19.906000000000006,
          20.248000000000005,
          26.620000000000005,
          -30.69599999999999,
          -87.90799999999999,
          -39.895999999999994,
          -55.012,
          -54.602,
          -48.245999999999995,
          -40.65,
          -97.85,
          -35.14,
          15.278000000000002,
          18.562,
          20.602,
          28.079999999999995,
          -29.198,
          -86.404
         ],
         "yaxis": "y"
        }
       ],
       "layout": {
        "legend": {
         "title": {
          "text": "variable"
         },
         "tracegroupgap": 0
        },
        "template": {
         "data": {
          "bar": [
           {
            "error_x": {
             "color": "#2a3f5f"
            },
            "error_y": {
             "color": "#2a3f5f"
            },
            "marker": {
             "line": {
              "color": "#E5ECF6",
              "width": 0.5
             },
             "pattern": {
              "fillmode": "overlay",
              "size": 10,
              "solidity": 0.2
             }
            },
            "type": "bar"
           }
          ],
          "barpolar": [
           {
            "marker": {
             "line": {
              "color": "#E5ECF6",
              "width": 0.5
             },
             "pattern": {
              "fillmode": "overlay",
              "size": 10,
              "solidity": 0.2
             }
            },
            "type": "barpolar"
           }
          ],
          "carpet": [
           {
            "aaxis": {
             "endlinecolor": "#2a3f5f",
             "gridcolor": "white",
             "linecolor": "white",
             "minorgridcolor": "white",
             "startlinecolor": "#2a3f5f"
            },
            "baxis": {
             "endlinecolor": "#2a3f5f",
             "gridcolor": "white",
             "linecolor": "white",
             "minorgridcolor": "white",
             "startlinecolor": "#2a3f5f"
            },
            "type": "carpet"
           }
          ],
          "choropleth": [
           {
            "colorbar": {
             "outlinewidth": 0,
             "ticks": ""
            },
            "type": "choropleth"
           }
          ],
          "contour": [
           {
            "colorbar": {
             "outlinewidth": 0,
             "ticks": ""
            },
            "colorscale": [
             [
              0,
              "#0d0887"
             ],
             [
              0.1111111111111111,
              "#46039f"
             ],
             [
              0.2222222222222222,
              "#7201a8"
             ],
             [
              0.3333333333333333,
              "#9c179e"
             ],
             [
              0.4444444444444444,
              "#bd3786"
             ],
             [
              0.5555555555555556,
              "#d8576b"
             ],
             [
              0.6666666666666666,
              "#ed7953"
             ],
             [
              0.7777777777777778,
              "#fb9f3a"
             ],
             [
              0.8888888888888888,
              "#fdca26"
             ],
             [
              1,
              "#f0f921"
             ]
            ],
            "type": "contour"
           }
          ],
          "contourcarpet": [
           {
            "colorbar": {
             "outlinewidth": 0,
             "ticks": ""
            },
            "type": "contourcarpet"
           }
          ],
          "heatmap": [
           {
            "colorbar": {
             "outlinewidth": 0,
             "ticks": ""
            },
            "colorscale": [
             [
              0,
              "#0d0887"
             ],
             [
              0.1111111111111111,
              "#46039f"
             ],
             [
              0.2222222222222222,
              "#7201a8"
             ],
             [
              0.3333333333333333,
              "#9c179e"
             ],
             [
              0.4444444444444444,
              "#bd3786"
             ],
             [
              0.5555555555555556,
              "#d8576b"
             ],
             [
              0.6666666666666666,
              "#ed7953"
             ],
             [
              0.7777777777777778,
              "#fb9f3a"
             ],
             [
              0.8888888888888888,
              "#fdca26"
             ],
             [
              1,
              "#f0f921"
             ]
            ],
            "type": "heatmap"
           }
          ],
          "heatmapgl": [
           {
            "colorbar": {
             "outlinewidth": 0,
             "ticks": ""
            },
            "colorscale": [
             [
              0,
              "#0d0887"
             ],
             [
              0.1111111111111111,
              "#46039f"
             ],
             [
              0.2222222222222222,
              "#7201a8"
             ],
             [
              0.3333333333333333,
              "#9c179e"
             ],
             [
              0.4444444444444444,
              "#bd3786"
             ],
             [
              0.5555555555555556,
              "#d8576b"
             ],
             [
              0.6666666666666666,
              "#ed7953"
             ],
             [
              0.7777777777777778,
              "#fb9f3a"
             ],
             [
              0.8888888888888888,
              "#fdca26"
             ],
             [
              1,
              "#f0f921"
             ]
            ],
            "type": "heatmapgl"
           }
          ],
          "histogram": [
           {
            "marker": {
             "pattern": {
              "fillmode": "overlay",
              "size": 10,
              "solidity": 0.2
             }
            },
            "type": "histogram"
           }
          ],
          "histogram2d": [
           {
            "colorbar": {
             "outlinewidth": 0,
             "ticks": ""
            },
            "colorscale": [
             [
              0,
              "#0d0887"
             ],
             [
              0.1111111111111111,
              "#46039f"
             ],
             [
              0.2222222222222222,
              "#7201a8"
             ],
             [
              0.3333333333333333,
              "#9c179e"
             ],
             [
              0.4444444444444444,
              "#bd3786"
             ],
             [
              0.5555555555555556,
              "#d8576b"
             ],
             [
              0.6666666666666666,
              "#ed7953"
             ],
             [
              0.7777777777777778,
              "#fb9f3a"
             ],
             [
              0.8888888888888888,
              "#fdca26"
             ],
             [
              1,
              "#f0f921"
             ]
            ],
            "type": "histogram2d"
           }
          ],
          "histogram2dcontour": [
           {
            "colorbar": {
             "outlinewidth": 0,
             "ticks": ""
            },
            "colorscale": [
             [
              0,
              "#0d0887"
             ],
             [
              0.1111111111111111,
              "#46039f"
             ],
             [
              0.2222222222222222,
              "#7201a8"
             ],
             [
              0.3333333333333333,
              "#9c179e"
             ],
             [
              0.4444444444444444,
              "#bd3786"
             ],
             [
              0.5555555555555556,
              "#d8576b"
             ],
             [
              0.6666666666666666,
              "#ed7953"
             ],
             [
              0.7777777777777778,
              "#fb9f3a"
             ],
             [
              0.8888888888888888,
              "#fdca26"
             ],
             [
              1,
              "#f0f921"
             ]
            ],
            "type": "histogram2dcontour"
           }
          ],
          "mesh3d": [
           {
            "colorbar": {
             "outlinewidth": 0,
             "ticks": ""
            },
            "type": "mesh3d"
           }
          ],
          "parcoords": [
           {
            "line": {
             "colorbar": {
              "outlinewidth": 0,
              "ticks": ""
             }
            },
            "type": "parcoords"
           }
          ],
          "pie": [
           {
            "automargin": true,
            "type": "pie"
           }
          ],
          "scatter": [
           {
            "fillpattern": {
             "fillmode": "overlay",
             "size": 10,
             "solidity": 0.2
            },
            "type": "scatter"
           }
          ],
          "scatter3d": [
           {
            "line": {
             "colorbar": {
              "outlinewidth": 0,
              "ticks": ""
             }
            },
            "marker": {
             "colorbar": {
              "outlinewidth": 0,
              "ticks": ""
             }
            },
            "type": "scatter3d"
           }
          ],
          "scattercarpet": [
           {
            "marker": {
             "colorbar": {
              "outlinewidth": 0,
              "ticks": ""
             }
            },
            "type": "scattercarpet"
           }
          ],
          "scattergeo": [
           {
            "marker": {
             "colorbar": {
              "outlinewidth": 0,
              "ticks": ""
             }
            },
            "type": "scattergeo"
           }
          ],
          "scattergl": [
           {
            "marker": {
             "colorbar": {
              "outlinewidth": 0,
              "ticks": ""
             }
            },
            "type": "scattergl"
           }
          ],
          "scattermapbox": [
           {
            "marker": {
             "colorbar": {
              "outlinewidth": 0,
              "ticks": ""
             }
            },
            "type": "scattermapbox"
           }
          ],
          "scatterpolar": [
           {
            "marker": {
             "colorbar": {
              "outlinewidth": 0,
              "ticks": ""
             }
            },
            "type": "scatterpolar"
           }
          ],
          "scatterpolargl": [
           {
            "marker": {
             "colorbar": {
              "outlinewidth": 0,
              "ticks": ""
             }
            },
            "type": "scatterpolargl"
           }
          ],
          "scatterternary": [
           {
            "marker": {
             "colorbar": {
              "outlinewidth": 0,
              "ticks": ""
             }
            },
            "type": "scatterternary"
           }
          ],
          "surface": [
           {
            "colorbar": {
             "outlinewidth": 0,
             "ticks": ""
            },
            "colorscale": [
             [
              0,
              "#0d0887"
             ],
             [
              0.1111111111111111,
              "#46039f"
             ],
             [
              0.2222222222222222,
              "#7201a8"
             ],
             [
              0.3333333333333333,
              "#9c179e"
             ],
             [
              0.4444444444444444,
              "#bd3786"
             ],
             [
              0.5555555555555556,
              "#d8576b"
             ],
             [
              0.6666666666666666,
              "#ed7953"
             ],
             [
              0.7777777777777778,
              "#fb9f3a"
             ],
             [
              0.8888888888888888,
              "#fdca26"
             ],
             [
              1,
              "#f0f921"
             ]
            ],
            "type": "surface"
           }
          ],
          "table": [
           {
            "cells": {
             "fill": {
              "color": "#EBF0F8"
             },
             "line": {
              "color": "white"
             }
            },
            "header": {
             "fill": {
              "color": "#C8D4E3"
             },
             "line": {
              "color": "white"
             }
            },
            "type": "table"
           }
          ]
         },
         "layout": {
          "annotationdefaults": {
           "arrowcolor": "#2a3f5f",
           "arrowhead": 0,
           "arrowwidth": 1
          },
          "autotypenumbers": "strict",
          "coloraxis": {
           "colorbar": {
            "outlinewidth": 0,
            "ticks": ""
           }
          },
          "colorscale": {
           "diverging": [
            [
             0,
             "#8e0152"
            ],
            [
             0.1,
             "#c51b7d"
            ],
            [
             0.2,
             "#de77ae"
            ],
            [
             0.3,
             "#f1b6da"
            ],
            [
             0.4,
             "#fde0ef"
            ],
            [
             0.5,
             "#f7f7f7"
            ],
            [
             0.6,
             "#e6f5d0"
            ],
            [
             0.7,
             "#b8e186"
            ],
            [
             0.8,
             "#7fbc41"
            ],
            [
             0.9,
             "#4d9221"
            ],
            [
             1,
             "#276419"
            ]
           ],
           "sequential": [
            [
             0,
             "#0d0887"
            ],
            [
             0.1111111111111111,
             "#46039f"
            ],
            [
             0.2222222222222222,
             "#7201a8"
            ],
            [
             0.3333333333333333,
             "#9c179e"
            ],
            [
             0.4444444444444444,
             "#bd3786"
            ],
            [
             0.5555555555555556,
             "#d8576b"
            ],
            [
             0.6666666666666666,
             "#ed7953"
            ],
            [
             0.7777777777777778,
             "#fb9f3a"
            ],
            [
             0.8888888888888888,
             "#fdca26"
            ],
            [
             1,
             "#f0f921"
            ]
           ],
           "sequentialminus": [
            [
             0,
             "#0d0887"
            ],
            [
             0.1111111111111111,
             "#46039f"
            ],
            [
             0.2222222222222222,
             "#7201a8"
            ],
            [
             0.3333333333333333,
             "#9c179e"
            ],
            [
             0.4444444444444444,
             "#bd3786"
            ],
            [
             0.5555555555555556,
             "#d8576b"
            ],
            [
             0.6666666666666666,
             "#ed7953"
            ],
            [
             0.7777777777777778,
             "#fb9f3a"
            ],
            [
             0.8888888888888888,
             "#fdca26"
            ],
            [
             1,
             "#f0f921"
            ]
           ]
          },
          "colorway": [
           "#636efa",
           "#EF553B",
           "#00cc96",
           "#ab63fa",
           "#FFA15A",
           "#19d3f3",
           "#FF6692",
           "#B6E880",
           "#FF97FF",
           "#FECB52"
          ],
          "font": {
           "color": "#2a3f5f"
          },
          "geo": {
           "bgcolor": "white",
           "lakecolor": "white",
           "landcolor": "#E5ECF6",
           "showlakes": true,
           "showland": true,
           "subunitcolor": "white"
          },
          "hoverlabel": {
           "align": "left"
          },
          "hovermode": "closest",
          "mapbox": {
           "style": "light"
          },
          "paper_bgcolor": "white",
          "plot_bgcolor": "#E5ECF6",
          "polar": {
           "angularaxis": {
            "gridcolor": "white",
            "linecolor": "white",
            "ticks": ""
           },
           "bgcolor": "#E5ECF6",
           "radialaxis": {
            "gridcolor": "white",
            "linecolor": "white",
            "ticks": ""
           }
          },
          "scene": {
           "xaxis": {
            "backgroundcolor": "#E5ECF6",
            "gridcolor": "white",
            "gridwidth": 2,
            "linecolor": "white",
            "showbackground": true,
            "ticks": "",
            "zerolinecolor": "white"
           },
           "yaxis": {
            "backgroundcolor": "#E5ECF6",
            "gridcolor": "white",
            "gridwidth": 2,
            "linecolor": "white",
            "showbackground": true,
            "ticks": "",
            "zerolinecolor": "white"
           },
           "zaxis": {
            "backgroundcolor": "#E5ECF6",
            "gridcolor": "white",
            "gridwidth": 2,
            "linecolor": "white",
            "showbackground": true,
            "ticks": "",
            "zerolinecolor": "white"
           }
          },
          "shapedefaults": {
           "line": {
            "color": "#2a3f5f"
           }
          },
          "ternary": {
           "aaxis": {
            "gridcolor": "white",
            "linecolor": "white",
            "ticks": ""
           },
           "baxis": {
            "gridcolor": "white",
            "linecolor": "white",
            "ticks": ""
           },
           "bgcolor": "#E5ECF6",
           "caxis": {
            "gridcolor": "white",
            "linecolor": "white",
            "ticks": ""
           }
          },
          "title": {
           "x": 0.05
          },
          "xaxis": {
           "automargin": true,
           "gridcolor": "white",
           "linecolor": "white",
           "ticks": "",
           "title": {
            "standoff": 15
           },
           "zerolinecolor": "white",
           "zerolinewidth": 2
          },
          "yaxis": {
           "automargin": true,
           "gridcolor": "white",
           "linecolor": "white",
           "ticks": "",
           "title": {
            "standoff": 15
           },
           "zerolinecolor": "white",
           "zerolinewidth": 2
          }
         }
        },
        "title": {
         "text": "raw coord"
        },
        "xaxis": {
         "anchor": "y",
         "domain": [
          0,
          1
         ],
         "title": {
          "text": "time"
         }
        },
        "yaxis": {
         "anchor": "x",
         "domain": [
          0,
          1
         ],
         "title": {
          "text": "value"
         }
        }
       }
      }
     },
     "metadata": {},
     "output_type": "display_data"
    }
   ],
   "source": [
    "query = '''SELECT MOVING_AVERAGE(last(\"coord\"), 5) as coord FROM \"joints\" WHERE time >= 1697030663033ms and time <= 1697030872564ms GROUP BY time(3s) fill(linear)'''\n",
    "table = client.query(query=query, language=\"influxql\")\n",
    "death_loop = table.to_pandas().drop(columns=['iox::measurement']).set_index('time').dropna(how='all')\n",
    "fig = px.line(death_loop, y=[\"coord\"], title='raw coord' )\n",
    "fig.show()"
   ]
  },
  {
   "cell_type": "code",
   "execution_count": 62,
   "metadata": {},
   "outputs": [
    {
     "data": {
      "application/vnd.plotly.v1+json": {
       "config": {
        "plotlyServerURL": "https://plot.ly"
       },
       "data": [
        {
         "hovertemplate": "variable=coord<br>time=%{x}<br>value=%{y}<extra></extra>",
         "legendgroup": "coord",
         "line": {
          "color": "#636efa",
          "dash": "solid"
         },
         "marker": {
          "symbol": "circle"
         },
         "mode": "lines",
         "name": "coord",
         "orientation": "v",
         "showlegend": true,
         "type": "scatter",
         "x": [
          "2023-10-11T13:44:42",
          "2023-10-11T13:44:45",
          "2023-10-11T13:44:48",
          "2023-10-11T13:44:51",
          "2023-10-11T13:44:54",
          "2023-10-11T13:44:57",
          "2023-10-11T13:45:00",
          "2023-10-11T13:45:03",
          "2023-10-11T13:45:06",
          "2023-10-11T13:45:09",
          "2023-10-11T13:45:12",
          "2023-10-11T13:45:15",
          "2023-10-11T13:45:18",
          "2023-10-11T13:45:21",
          "2023-10-11T13:45:24",
          "2023-10-11T13:45:27",
          "2023-10-11T13:45:30",
          "2023-10-11T13:45:33",
          "2023-10-11T13:45:36",
          "2023-10-11T13:45:39",
          "2023-10-11T13:45:42",
          "2023-10-11T13:45:45",
          "2023-10-11T13:45:48",
          "2023-10-11T13:45:51",
          "2023-10-11T13:45:54",
          "2023-10-11T13:45:57",
          "2023-10-11T13:46:00",
          "2023-10-11T13:46:03",
          "2023-10-11T13:46:06",
          "2023-10-11T13:46:09",
          "2023-10-11T13:46:12",
          "2023-10-11T13:46:15",
          "2023-10-11T13:46:18",
          "2023-10-11T13:46:21",
          "2023-10-11T13:46:24",
          "2023-10-11T13:46:27",
          "2023-10-11T13:46:30",
          "2023-10-11T13:46:33",
          "2023-10-11T13:46:36",
          "2023-10-11T13:46:39",
          "2023-10-11T13:46:42",
          "2023-10-11T13:46:45",
          "2023-10-11T13:46:48",
          "2023-10-11T13:46:51",
          "2023-10-11T13:46:54",
          "2023-10-11T13:46:57",
          "2023-10-11T13:47:00",
          "2023-10-11T13:47:03",
          "2023-10-11T13:47:06",
          "2023-10-11T13:47:09",
          "2023-10-11T13:47:12",
          "2023-10-11T13:47:15",
          "2023-10-11T13:47:18"
         ],
         "xaxis": "x",
         "y": [
          -88.176,
          -40.676,
          -12.398000000000005,
          -21.364,
          -23.735999999999997,
          -25.313999999999997,
          -44.315999999999995,
          -91.574,
          -50.75,
          -50.846,
          -50.848,
          -91.72200000000001,
          -44.378,
          -91.888,
          -92.056,
          -92.11800000000001,
          -92.048,
          -91.90599999999999,
          -44.489999999999995,
          -51.048,
          -51.016000000000005,
          -50.874,
          -91.532,
          -91.468,
          -44.082000000000015,
          -3.3160000000000025,
          -3.397999999999999,
          -3.399999999999994,
          -43.989999999999995,
          -43.932,
          -91.42,
          -50.68,
          -50.70399999999999,
          -50.748000000000005,
          -91.434,
          -44.022000000000006,
          -91.526,
          -86.966,
          -77.564,
          -68.80999999999999,
          -106.97999999999999,
          -97.852,
          -42.7,
          -10.557999999999996,
          -19.426000000000002,
          -21.964,
          -24.321999999999996,
          -42.134,
          -90.418,
          -86.276,
          -74.032,
          -65.204,
          -98.89999999999999
         ],
         "yaxis": "y"
        }
       ],
       "layout": {
        "legend": {
         "title": {
          "text": "variable"
         },
         "tracegroupgap": 0
        },
        "template": {
         "data": {
          "bar": [
           {
            "error_x": {
             "color": "#2a3f5f"
            },
            "error_y": {
             "color": "#2a3f5f"
            },
            "marker": {
             "line": {
              "color": "#E5ECF6",
              "width": 0.5
             },
             "pattern": {
              "fillmode": "overlay",
              "size": 10,
              "solidity": 0.2
             }
            },
            "type": "bar"
           }
          ],
          "barpolar": [
           {
            "marker": {
             "line": {
              "color": "#E5ECF6",
              "width": 0.5
             },
             "pattern": {
              "fillmode": "overlay",
              "size": 10,
              "solidity": 0.2
             }
            },
            "type": "barpolar"
           }
          ],
          "carpet": [
           {
            "aaxis": {
             "endlinecolor": "#2a3f5f",
             "gridcolor": "white",
             "linecolor": "white",
             "minorgridcolor": "white",
             "startlinecolor": "#2a3f5f"
            },
            "baxis": {
             "endlinecolor": "#2a3f5f",
             "gridcolor": "white",
             "linecolor": "white",
             "minorgridcolor": "white",
             "startlinecolor": "#2a3f5f"
            },
            "type": "carpet"
           }
          ],
          "choropleth": [
           {
            "colorbar": {
             "outlinewidth": 0,
             "ticks": ""
            },
            "type": "choropleth"
           }
          ],
          "contour": [
           {
            "colorbar": {
             "outlinewidth": 0,
             "ticks": ""
            },
            "colorscale": [
             [
              0,
              "#0d0887"
             ],
             [
              0.1111111111111111,
              "#46039f"
             ],
             [
              0.2222222222222222,
              "#7201a8"
             ],
             [
              0.3333333333333333,
              "#9c179e"
             ],
             [
              0.4444444444444444,
              "#bd3786"
             ],
             [
              0.5555555555555556,
              "#d8576b"
             ],
             [
              0.6666666666666666,
              "#ed7953"
             ],
             [
              0.7777777777777778,
              "#fb9f3a"
             ],
             [
              0.8888888888888888,
              "#fdca26"
             ],
             [
              1,
              "#f0f921"
             ]
            ],
            "type": "contour"
           }
          ],
          "contourcarpet": [
           {
            "colorbar": {
             "outlinewidth": 0,
             "ticks": ""
            },
            "type": "contourcarpet"
           }
          ],
          "heatmap": [
           {
            "colorbar": {
             "outlinewidth": 0,
             "ticks": ""
            },
            "colorscale": [
             [
              0,
              "#0d0887"
             ],
             [
              0.1111111111111111,
              "#46039f"
             ],
             [
              0.2222222222222222,
              "#7201a8"
             ],
             [
              0.3333333333333333,
              "#9c179e"
             ],
             [
              0.4444444444444444,
              "#bd3786"
             ],
             [
              0.5555555555555556,
              "#d8576b"
             ],
             [
              0.6666666666666666,
              "#ed7953"
             ],
             [
              0.7777777777777778,
              "#fb9f3a"
             ],
             [
              0.8888888888888888,
              "#fdca26"
             ],
             [
              1,
              "#f0f921"
             ]
            ],
            "type": "heatmap"
           }
          ],
          "heatmapgl": [
           {
            "colorbar": {
             "outlinewidth": 0,
             "ticks": ""
            },
            "colorscale": [
             [
              0,
              "#0d0887"
             ],
             [
              0.1111111111111111,
              "#46039f"
             ],
             [
              0.2222222222222222,
              "#7201a8"
             ],
             [
              0.3333333333333333,
              "#9c179e"
             ],
             [
              0.4444444444444444,
              "#bd3786"
             ],
             [
              0.5555555555555556,
              "#d8576b"
             ],
             [
              0.6666666666666666,
              "#ed7953"
             ],
             [
              0.7777777777777778,
              "#fb9f3a"
             ],
             [
              0.8888888888888888,
              "#fdca26"
             ],
             [
              1,
              "#f0f921"
             ]
            ],
            "type": "heatmapgl"
           }
          ],
          "histogram": [
           {
            "marker": {
             "pattern": {
              "fillmode": "overlay",
              "size": 10,
              "solidity": 0.2
             }
            },
            "type": "histogram"
           }
          ],
          "histogram2d": [
           {
            "colorbar": {
             "outlinewidth": 0,
             "ticks": ""
            },
            "colorscale": [
             [
              0,
              "#0d0887"
             ],
             [
              0.1111111111111111,
              "#46039f"
             ],
             [
              0.2222222222222222,
              "#7201a8"
             ],
             [
              0.3333333333333333,
              "#9c179e"
             ],
             [
              0.4444444444444444,
              "#bd3786"
             ],
             [
              0.5555555555555556,
              "#d8576b"
             ],
             [
              0.6666666666666666,
              "#ed7953"
             ],
             [
              0.7777777777777778,
              "#fb9f3a"
             ],
             [
              0.8888888888888888,
              "#fdca26"
             ],
             [
              1,
              "#f0f921"
             ]
            ],
            "type": "histogram2d"
           }
          ],
          "histogram2dcontour": [
           {
            "colorbar": {
             "outlinewidth": 0,
             "ticks": ""
            },
            "colorscale": [
             [
              0,
              "#0d0887"
             ],
             [
              0.1111111111111111,
              "#46039f"
             ],
             [
              0.2222222222222222,
              "#7201a8"
             ],
             [
              0.3333333333333333,
              "#9c179e"
             ],
             [
              0.4444444444444444,
              "#bd3786"
             ],
             [
              0.5555555555555556,
              "#d8576b"
             ],
             [
              0.6666666666666666,
              "#ed7953"
             ],
             [
              0.7777777777777778,
              "#fb9f3a"
             ],
             [
              0.8888888888888888,
              "#fdca26"
             ],
             [
              1,
              "#f0f921"
             ]
            ],
            "type": "histogram2dcontour"
           }
          ],
          "mesh3d": [
           {
            "colorbar": {
             "outlinewidth": 0,
             "ticks": ""
            },
            "type": "mesh3d"
           }
          ],
          "parcoords": [
           {
            "line": {
             "colorbar": {
              "outlinewidth": 0,
              "ticks": ""
             }
            },
            "type": "parcoords"
           }
          ],
          "pie": [
           {
            "automargin": true,
            "type": "pie"
           }
          ],
          "scatter": [
           {
            "fillpattern": {
             "fillmode": "overlay",
             "size": 10,
             "solidity": 0.2
            },
            "type": "scatter"
           }
          ],
          "scatter3d": [
           {
            "line": {
             "colorbar": {
              "outlinewidth": 0,
              "ticks": ""
             }
            },
            "marker": {
             "colorbar": {
              "outlinewidth": 0,
              "ticks": ""
             }
            },
            "type": "scatter3d"
           }
          ],
          "scattercarpet": [
           {
            "marker": {
             "colorbar": {
              "outlinewidth": 0,
              "ticks": ""
             }
            },
            "type": "scattercarpet"
           }
          ],
          "scattergeo": [
           {
            "marker": {
             "colorbar": {
              "outlinewidth": 0,
              "ticks": ""
             }
            },
            "type": "scattergeo"
           }
          ],
          "scattergl": [
           {
            "marker": {
             "colorbar": {
              "outlinewidth": 0,
              "ticks": ""
             }
            },
            "type": "scattergl"
           }
          ],
          "scattermapbox": [
           {
            "marker": {
             "colorbar": {
              "outlinewidth": 0,
              "ticks": ""
             }
            },
            "type": "scattermapbox"
           }
          ],
          "scatterpolar": [
           {
            "marker": {
             "colorbar": {
              "outlinewidth": 0,
              "ticks": ""
             }
            },
            "type": "scatterpolar"
           }
          ],
          "scatterpolargl": [
           {
            "marker": {
             "colorbar": {
              "outlinewidth": 0,
              "ticks": ""
             }
            },
            "type": "scatterpolargl"
           }
          ],
          "scatterternary": [
           {
            "marker": {
             "colorbar": {
              "outlinewidth": 0,
              "ticks": ""
             }
            },
            "type": "scatterternary"
           }
          ],
          "surface": [
           {
            "colorbar": {
             "outlinewidth": 0,
             "ticks": ""
            },
            "colorscale": [
             [
              0,
              "#0d0887"
             ],
             [
              0.1111111111111111,
              "#46039f"
             ],
             [
              0.2222222222222222,
              "#7201a8"
             ],
             [
              0.3333333333333333,
              "#9c179e"
             ],
             [
              0.4444444444444444,
              "#bd3786"
             ],
             [
              0.5555555555555556,
              "#d8576b"
             ],
             [
              0.6666666666666666,
              "#ed7953"
             ],
             [
              0.7777777777777778,
              "#fb9f3a"
             ],
             [
              0.8888888888888888,
              "#fdca26"
             ],
             [
              1,
              "#f0f921"
             ]
            ],
            "type": "surface"
           }
          ],
          "table": [
           {
            "cells": {
             "fill": {
              "color": "#EBF0F8"
             },
             "line": {
              "color": "white"
             }
            },
            "header": {
             "fill": {
              "color": "#C8D4E3"
             },
             "line": {
              "color": "white"
             }
            },
            "type": "table"
           }
          ]
         },
         "layout": {
          "annotationdefaults": {
           "arrowcolor": "#2a3f5f",
           "arrowhead": 0,
           "arrowwidth": 1
          },
          "autotypenumbers": "strict",
          "coloraxis": {
           "colorbar": {
            "outlinewidth": 0,
            "ticks": ""
           }
          },
          "colorscale": {
           "diverging": [
            [
             0,
             "#8e0152"
            ],
            [
             0.1,
             "#c51b7d"
            ],
            [
             0.2,
             "#de77ae"
            ],
            [
             0.3,
             "#f1b6da"
            ],
            [
             0.4,
             "#fde0ef"
            ],
            [
             0.5,
             "#f7f7f7"
            ],
            [
             0.6,
             "#e6f5d0"
            ],
            [
             0.7,
             "#b8e186"
            ],
            [
             0.8,
             "#7fbc41"
            ],
            [
             0.9,
             "#4d9221"
            ],
            [
             1,
             "#276419"
            ]
           ],
           "sequential": [
            [
             0,
             "#0d0887"
            ],
            [
             0.1111111111111111,
             "#46039f"
            ],
            [
             0.2222222222222222,
             "#7201a8"
            ],
            [
             0.3333333333333333,
             "#9c179e"
            ],
            [
             0.4444444444444444,
             "#bd3786"
            ],
            [
             0.5555555555555556,
             "#d8576b"
            ],
            [
             0.6666666666666666,
             "#ed7953"
            ],
            [
             0.7777777777777778,
             "#fb9f3a"
            ],
            [
             0.8888888888888888,
             "#fdca26"
            ],
            [
             1,
             "#f0f921"
            ]
           ],
           "sequentialminus": [
            [
             0,
             "#0d0887"
            ],
            [
             0.1111111111111111,
             "#46039f"
            ],
            [
             0.2222222222222222,
             "#7201a8"
            ],
            [
             0.3333333333333333,
             "#9c179e"
            ],
            [
             0.4444444444444444,
             "#bd3786"
            ],
            [
             0.5555555555555556,
             "#d8576b"
            ],
            [
             0.6666666666666666,
             "#ed7953"
            ],
            [
             0.7777777777777778,
             "#fb9f3a"
            ],
            [
             0.8888888888888888,
             "#fdca26"
            ],
            [
             1,
             "#f0f921"
            ]
           ]
          },
          "colorway": [
           "#636efa",
           "#EF553B",
           "#00cc96",
           "#ab63fa",
           "#FFA15A",
           "#19d3f3",
           "#FF6692",
           "#B6E880",
           "#FF97FF",
           "#FECB52"
          ],
          "font": {
           "color": "#2a3f5f"
          },
          "geo": {
           "bgcolor": "white",
           "lakecolor": "white",
           "landcolor": "#E5ECF6",
           "showlakes": true,
           "showland": true,
           "subunitcolor": "white"
          },
          "hoverlabel": {
           "align": "left"
          },
          "hovermode": "closest",
          "mapbox": {
           "style": "light"
          },
          "paper_bgcolor": "white",
          "plot_bgcolor": "#E5ECF6",
          "polar": {
           "angularaxis": {
            "gridcolor": "white",
            "linecolor": "white",
            "ticks": ""
           },
           "bgcolor": "#E5ECF6",
           "radialaxis": {
            "gridcolor": "white",
            "linecolor": "white",
            "ticks": ""
           }
          },
          "scene": {
           "xaxis": {
            "backgroundcolor": "#E5ECF6",
            "gridcolor": "white",
            "gridwidth": 2,
            "linecolor": "white",
            "showbackground": true,
            "ticks": "",
            "zerolinecolor": "white"
           },
           "yaxis": {
            "backgroundcolor": "#E5ECF6",
            "gridcolor": "white",
            "gridwidth": 2,
            "linecolor": "white",
            "showbackground": true,
            "ticks": "",
            "zerolinecolor": "white"
           },
           "zaxis": {
            "backgroundcolor": "#E5ECF6",
            "gridcolor": "white",
            "gridwidth": 2,
            "linecolor": "white",
            "showbackground": true,
            "ticks": "",
            "zerolinecolor": "white"
           }
          },
          "shapedefaults": {
           "line": {
            "color": "#2a3f5f"
           }
          },
          "ternary": {
           "aaxis": {
            "gridcolor": "white",
            "linecolor": "white",
            "ticks": ""
           },
           "baxis": {
            "gridcolor": "white",
            "linecolor": "white",
            "ticks": ""
           },
           "bgcolor": "#E5ECF6",
           "caxis": {
            "gridcolor": "white",
            "linecolor": "white",
            "ticks": ""
           }
          },
          "title": {
           "x": 0.05
          },
          "xaxis": {
           "automargin": true,
           "gridcolor": "white",
           "linecolor": "white",
           "ticks": "",
           "title": {
            "standoff": 15
           },
           "zerolinecolor": "white",
           "zerolinewidth": 2
          },
          "yaxis": {
           "automargin": true,
           "gridcolor": "white",
           "linecolor": "white",
           "ticks": "",
           "title": {
            "standoff": 15
           },
           "zerolinecolor": "white",
           "zerolinewidth": 2
          }
         }
        },
        "title": {
         "text": "raw coord"
        },
        "xaxis": {
         "anchor": "y",
         "domain": [
          0,
          1
         ],
         "title": {
          "text": "time"
         }
        },
        "yaxis": {
         "anchor": "x",
         "domain": [
          0,
          1
         ],
         "title": {
          "text": "value"
         }
        }
       }
      }
     },
     "metadata": {},
     "output_type": "display_data"
    }
   ],
   "source": [
    "query = '''SELECT MOVING_AVERAGE(last(\"coord\"), 5) as coord FROM \"joints\" WHERE time >= 1697031873606ms and time <= 1697032040567ms GROUP BY time(3s) fill(linear)'''\n",
    "table = client.query(query=query, language=\"influxql\")\n",
    "dropped = table.to_pandas().drop(columns=['iox::measurement']).set_index('time').dropna(how='all')\n",
    "fig = px.line(dropped, y=[\"coord\"], title='raw coord' )\n",
    "fig.show()"
   ]
  },
  {
   "cell_type": "code",
   "execution_count": 63,
   "metadata": {},
   "outputs": [
    {
     "name": "stdout",
     "output_type": "stream",
     "text": [
      "Model: \"model_7\"\n",
      "_________________________________________________________________\n",
      " Layer (type)                Output Shape              Param #   \n",
      "=================================================================\n",
      " input_8 (InputLayer)        [(None, 15, 1)]           0         \n",
      "                                                                 \n",
      " normalization_7 (Normaliza  (None, 15, 1)             3         \n",
      " tion)                                                           \n",
      "                                                                 \n",
      " conv1d_35 (Conv1D)          (None, 15, 32)            128       \n",
      "                                                                 \n",
      " conv1d_36 (Conv1D)          (None, 15, 32)            3104      \n",
      "                                                                 \n",
      " conv1d_37 (Conv1D)          (None, 15, 32)            3104      \n",
      "                                                                 \n",
      " flatten_7 (Flatten)         (None, 480)               0         \n",
      "                                                                 \n",
      " dense_21 (Dense)            (None, 16)                7696      \n",
      "                                                                 \n",
      " dense_22 (Dense)            (None, 480)               8160      \n",
      "                                                                 \n",
      " reshape_7 (Reshape)         (None, 15, 32)            0         \n",
      "                                                                 \n",
      " conv1d_38 (Conv1D)          (None, 15, 32)            3104      \n",
      "                                                                 \n",
      " conv1d_39 (Conv1D)          (None, 15, 64)            6208      \n",
      "                                                                 \n",
      " time_distributed_7 (TimeDi  (None, 15, 1)             65        \n",
      " stributed)                                                      \n",
      "                                                                 \n",
      "=================================================================\n",
      "Total params: 31572 (123.33 KB)\n",
      "Trainable params: 31569 (123.32 KB)\n",
      "Non-trainable params: 3 (16.00 Byte)\n",
      "_________________________________________________________________\n",
      "Epoch 1/100\n",
      "4/4 [==============================] - 2s 146ms/step - loss: 6059.5850 - val_loss: 6405.4316\n",
      "Epoch 2/100\n",
      "4/4 [==============================] - 0s 50ms/step - loss: 6055.1997 - val_loss: 6398.9551\n",
      "Epoch 3/100\n",
      "4/4 [==============================] - 0s 58ms/step - loss: 6046.8096 - val_loss: 6384.2319\n",
      "Epoch 4/100\n",
      "4/4 [==============================] - 0s 53ms/step - loss: 6025.3491 - val_loss: 6344.8350\n",
      "Epoch 5/100\n",
      "4/4 [==============================] - 0s 51ms/step - loss: 5963.8535 - val_loss: 6233.0532\n",
      "Epoch 6/100\n",
      "4/4 [==============================] - 0s 50ms/step - loss: 5805.2754 - val_loss: 5910.1221\n",
      "Epoch 7/100\n",
      "4/4 [==============================] - 0s 47ms/step - loss: 5324.9219 - val_loss: 5062.6133\n",
      "Epoch 8/100\n",
      "4/4 [==============================] - 0s 43ms/step - loss: 4228.2197 - val_loss: 3550.0222\n",
      "Epoch 9/100\n",
      "4/4 [==============================] - 0s 46ms/step - loss: 3126.3828 - val_loss: 3658.4797\n",
      "Epoch 10/100\n",
      "4/4 [==============================] - 0s 47ms/step - loss: 3297.7698 - val_loss: 2987.6431\n",
      "Epoch 11/100\n",
      "4/4 [==============================] - 0s 44ms/step - loss: 2819.9072 - val_loss: 3043.0908\n",
      "Epoch 12/100\n",
      "4/4 [==============================] - 0s 48ms/step - loss: 2824.8318 - val_loss: 2839.8945\n",
      "Epoch 13/100\n",
      "4/4 [==============================] - 0s 49ms/step - loss: 2611.3977 - val_loss: 2565.5630\n",
      "Epoch 14/100\n",
      "4/4 [==============================] - 0s 59ms/step - loss: 2551.7478 - val_loss: 2523.9355\n",
      "Epoch 15/100\n",
      "4/4 [==============================] - 0s 48ms/step - loss: 2494.9204 - val_loss: 2468.2126\n",
      "Epoch 16/100\n",
      "4/4 [==============================] - 0s 49ms/step - loss: 2440.3643 - val_loss: 2475.4526\n",
      "Epoch 17/100\n",
      "4/4 [==============================] - 0s 54ms/step - loss: 2405.9836 - val_loss: 2387.5032\n",
      "Epoch 18/100\n",
      "4/4 [==============================] - 0s 55ms/step - loss: 2380.0588 - val_loss: 2359.5071\n",
      "Epoch 19/100\n",
      "4/4 [==============================] - 0s 57ms/step - loss: 2368.7605 - val_loss: 2356.2183\n",
      "Epoch 20/100\n",
      "4/4 [==============================] - 0s 53ms/step - loss: 2338.5610 - val_loss: 2340.4463\n",
      "Epoch 21/100\n",
      "4/4 [==============================] - 0s 56ms/step - loss: 2321.8203 - val_loss: 2297.1721\n",
      "Epoch 22/100\n",
      "4/4 [==============================] - 0s 50ms/step - loss: 2300.1763 - val_loss: 2272.3667\n",
      "Epoch 23/100\n",
      "4/4 [==============================] - 0s 54ms/step - loss: 2273.3865 - val_loss: 2248.9785\n",
      "Epoch 24/100\n",
      "4/4 [==============================] - 0s 46ms/step - loss: 2248.5264 - val_loss: 2208.8765\n",
      "Epoch 25/100\n",
      "4/4 [==============================] - 0s 50ms/step - loss: 2209.7065 - val_loss: 2153.6362\n",
      "Epoch 26/100\n",
      "4/4 [==============================] - 0s 46ms/step - loss: 2164.6343 - val_loss: 2099.2585\n",
      "Epoch 27/100\n",
      "4/4 [==============================] - 0s 47ms/step - loss: 2112.9475 - val_loss: 2022.7411\n",
      "Epoch 28/100\n",
      "4/4 [==============================] - 0s 50ms/step - loss: 2037.0667 - val_loss: 1925.7321\n",
      "Epoch 29/100\n",
      "4/4 [==============================] - 0s 49ms/step - loss: 1935.0406 - val_loss: 1816.4548\n",
      "Epoch 30/100\n",
      "4/4 [==============================] - 0s 44ms/step - loss: 1828.5184 - val_loss: 1682.3508\n",
      "Epoch 31/100\n",
      "4/4 [==============================] - 0s 43ms/step - loss: 1694.6530 - val_loss: 1535.8403\n",
      "Epoch 32/100\n",
      "4/4 [==============================] - 0s 49ms/step - loss: 1570.2477 - val_loss: 1421.8958\n",
      "Epoch 33/100\n",
      "4/4 [==============================] - 0s 54ms/step - loss: 1459.8190 - val_loss: 1318.7986\n",
      "Epoch 34/100\n",
      "4/4 [==============================] - 0s 50ms/step - loss: 1369.9684 - val_loss: 1234.5559\n",
      "Epoch 35/100\n",
      "4/4 [==============================] - 0s 44ms/step - loss: 1274.6704 - val_loss: 1143.5355\n",
      "Epoch 36/100\n",
      "4/4 [==============================] - 0s 53ms/step - loss: 1164.5930 - val_loss: 1044.9216\n",
      "Epoch 37/100\n",
      "4/4 [==============================] - 0s 45ms/step - loss: 1043.2081 - val_loss: 956.4125\n",
      "Epoch 38/100\n",
      "4/4 [==============================] - 0s 42ms/step - loss: 931.4443 - val_loss: 866.2045\n",
      "Epoch 39/100\n",
      "4/4 [==============================] - 0s 43ms/step - loss: 844.9643 - val_loss: 814.5047\n",
      "Epoch 40/100\n",
      "4/4 [==============================] - 0s 46ms/step - loss: 790.0901 - val_loss: 805.0585\n",
      "Epoch 41/100\n",
      "4/4 [==============================] - 0s 43ms/step - loss: 765.4954 - val_loss: 796.1973\n",
      "Epoch 42/100\n",
      "4/4 [==============================] - 0s 42ms/step - loss: 748.8758 - val_loss: 784.8542\n",
      "Epoch 43/100\n",
      "4/4 [==============================] - 0s 43ms/step - loss: 723.3312 - val_loss: 762.3416\n",
      "Epoch 44/100\n",
      "4/4 [==============================] - 0s 46ms/step - loss: 702.8583 - val_loss: 753.8625\n",
      "Epoch 45/100\n",
      "4/4 [==============================] - 0s 43ms/step - loss: 677.7591 - val_loss: 728.4304\n",
      "Epoch 46/100\n",
      "4/4 [==============================] - 0s 46ms/step - loss: 659.6172 - val_loss: 713.7131\n",
      "Epoch 47/100\n",
      "4/4 [==============================] - 0s 61ms/step - loss: 647.1956 - val_loss: 698.4734\n",
      "Epoch 48/100\n",
      "4/4 [==============================] - 0s 43ms/step - loss: 633.8632 - val_loss: 682.6204\n",
      "Epoch 49/100\n",
      "4/4 [==============================] - 0s 43ms/step - loss: 617.7272 - val_loss: 669.2059\n",
      "Epoch 50/100\n",
      "4/4 [==============================] - 0s 41ms/step - loss: 608.4861 - val_loss: 667.4062\n",
      "Epoch 51/100\n",
      "4/4 [==============================] - 0s 44ms/step - loss: 593.4611 - val_loss: 658.9218\n",
      "Epoch 52/100\n",
      "4/4 [==============================] - 0s 47ms/step - loss: 581.5227 - val_loss: 646.1208\n",
      "Epoch 53/100\n",
      "4/4 [==============================] - 0s 42ms/step - loss: 573.1218 - val_loss: 635.6599\n",
      "Epoch 54/100\n",
      "4/4 [==============================] - 0s 47ms/step - loss: 557.9152 - val_loss: 626.6721\n",
      "Epoch 55/100\n",
      "4/4 [==============================] - 0s 46ms/step - loss: 544.1251 - val_loss: 612.8882\n",
      "Epoch 56/100\n",
      "4/4 [==============================] - 0s 45ms/step - loss: 530.7411 - val_loss: 609.2352\n",
      "Epoch 57/100\n",
      "4/4 [==============================] - 0s 51ms/step - loss: 518.3634 - val_loss: 595.3414\n",
      "Epoch 58/100\n",
      "4/4 [==============================] - 0s 49ms/step - loss: 503.2297 - val_loss: 587.3983\n",
      "Epoch 59/100\n",
      "4/4 [==============================] - 0s 44ms/step - loss: 490.2642 - val_loss: 575.2799\n",
      "Epoch 60/100\n",
      "4/4 [==============================] - 0s 43ms/step - loss: 479.2516 - val_loss: 564.9471\n",
      "Epoch 61/100\n",
      "4/4 [==============================] - 0s 43ms/step - loss: 466.7077 - val_loss: 556.8154\n",
      "Epoch 62/100\n",
      "4/4 [==============================] - 0s 43ms/step - loss: 454.7207 - val_loss: 538.6866\n",
      "Epoch 63/100\n",
      "4/4 [==============================] - 0s 51ms/step - loss: 448.2285 - val_loss: 536.3607\n",
      "Epoch 64/100\n",
      "4/4 [==============================] - 0s 51ms/step - loss: 429.3987 - val_loss: 509.3315\n",
      "Epoch 65/100\n",
      "4/4 [==============================] - 0s 47ms/step - loss: 414.6286 - val_loss: 487.5668\n",
      "Epoch 66/100\n",
      "4/4 [==============================] - 0s 46ms/step - loss: 400.1079 - val_loss: 477.4119\n",
      "Epoch 67/100\n",
      "4/4 [==============================] - 0s 43ms/step - loss: 385.0450 - val_loss: 458.5976\n",
      "Epoch 68/100\n",
      "4/4 [==============================] - 0s 45ms/step - loss: 373.2974 - val_loss: 441.2302\n",
      "Epoch 69/100\n",
      "4/4 [==============================] - 0s 44ms/step - loss: 364.4011 - val_loss: 447.3575\n",
      "Epoch 70/100\n",
      "4/4 [==============================] - 0s 42ms/step - loss: 352.1565 - val_loss: 424.6468\n",
      "Epoch 71/100\n",
      "4/4 [==============================] - 0s 50ms/step - loss: 345.1352 - val_loss: 404.6252\n",
      "Epoch 72/100\n",
      "4/4 [==============================] - 0s 42ms/step - loss: 334.5415 - val_loss: 389.4968\n",
      "Epoch 73/100\n",
      "4/4 [==============================] - 0s 42ms/step - loss: 323.9289 - val_loss: 376.1715\n",
      "Epoch 74/100\n",
      "4/4 [==============================] - 0s 42ms/step - loss: 314.7589 - val_loss: 375.5382\n",
      "Epoch 75/100\n",
      "4/4 [==============================] - 0s 41ms/step - loss: 307.1754 - val_loss: 364.6045\n",
      "Epoch 76/100\n",
      "4/4 [==============================] - 0s 43ms/step - loss: 300.3251 - val_loss: 352.4452\n",
      "Epoch 77/100\n",
      "4/4 [==============================] - 0s 42ms/step - loss: 293.6945 - val_loss: 343.3091\n",
      "Epoch 78/100\n",
      "4/4 [==============================] - 0s 43ms/step - loss: 288.8857 - val_loss: 336.2018\n",
      "Epoch 79/100\n",
      "4/4 [==============================] - 0s 44ms/step - loss: 282.7739 - val_loss: 338.7280\n",
      "Epoch 80/100\n",
      "4/4 [==============================] - 0s 45ms/step - loss: 280.5902 - val_loss: 332.6971\n",
      "Epoch 81/100\n",
      "4/4 [==============================] - 0s 46ms/step - loss: 273.2467 - val_loss: 323.3336\n",
      "Epoch 82/100\n",
      "4/4 [==============================] - 0s 48ms/step - loss: 270.3104 - val_loss: 316.7739\n",
      "Epoch 83/100\n",
      "4/4 [==============================] - 0s 47ms/step - loss: 268.9546 - val_loss: 315.8160\n",
      "Epoch 84/100\n",
      "4/4 [==============================] - 0s 42ms/step - loss: 266.6547 - val_loss: 322.5457\n",
      "Epoch 85/100\n",
      "4/4 [==============================] - 0s 50ms/step - loss: 267.4588 - val_loss: 309.4858\n",
      "Epoch 86/100\n",
      "4/4 [==============================] - 0s 45ms/step - loss: 259.3907 - val_loss: 311.1624\n",
      "Epoch 87/100\n",
      "4/4 [==============================] - 0s 44ms/step - loss: 253.8699 - val_loss: 309.3329\n",
      "Epoch 88/100\n",
      "4/4 [==============================] - 0s 44ms/step - loss: 249.9513 - val_loss: 302.3749\n",
      "Epoch 89/100\n",
      "4/4 [==============================] - 0s 47ms/step - loss: 248.6275 - val_loss: 303.6292\n",
      "Epoch 90/100\n",
      "4/4 [==============================] - 0s 52ms/step - loss: 247.8234 - val_loss: 304.9296\n",
      "Epoch 91/100\n",
      "4/4 [==============================] - 0s 48ms/step - loss: 243.1497 - val_loss: 298.4575\n",
      "Epoch 92/100\n",
      "4/4 [==============================] - 0s 48ms/step - loss: 241.2473 - val_loss: 290.3320\n",
      "Epoch 93/100\n",
      "4/4 [==============================] - 0s 45ms/step - loss: 236.3460 - val_loss: 301.8459\n",
      "Epoch 94/100\n",
      "4/4 [==============================] - 0s 42ms/step - loss: 236.7405 - val_loss: 293.8389\n",
      "Epoch 95/100\n",
      "4/4 [==============================] - 0s 42ms/step - loss: 234.6057 - val_loss: 287.0352\n",
      "Epoch 96/100\n",
      "4/4 [==============================] - 0s 48ms/step - loss: 232.6841 - val_loss: 288.5802\n",
      "Epoch 97/100\n",
      "4/4 [==============================] - 0s 50ms/step - loss: 233.3406 - val_loss: 290.7689\n",
      "Epoch 98/100\n",
      "4/4 [==============================] - 0s 50ms/step - loss: 229.6291 - val_loss: 292.1647\n",
      "Epoch 99/100\n",
      "4/4 [==============================] - 0s 55ms/step - loss: 227.9084 - val_loss: 285.3418\n",
      "Epoch 100/100\n",
      "4/4 [==============================] - 0s 47ms/step - loss: 225.5150 - val_loss: 286.0212\n"
     ]
    }
   ],
   "source": [
    "\n",
    "\n",
    "# Define the normalization layer\n",
    "normalizer = Normalization(axis=-1)\n",
    "\n",
    "# Adapt the normalization layer to your data\n",
    "normalizer.adapt(normal[['coord']])\n",
    "\n",
    "# Parameters for the model\n",
    "timesteps = 15  # Number of timesteps in each sequence\n",
    "input_dim = 1    # Since we are only using 'coord'\n",
    "batch_size = 16\n",
    "epochs = 100\n",
    "\n",
    "# Reshape data for TCN - ensure your data is sorted by time before this step\n",
    "X_train = np.array([normal['coord'][i:i+timesteps] for i in range(len(normal) - timesteps)])\n",
    "y_train = np.copy(X_train)\n",
    "\n",
    "# Building the TCN autoencoder model\n",
    "input_shape = (timesteps, input_dim)\n",
    "\n",
    "inputs = Input(shape=input_shape)\n",
    "\n",
    "# Apply normalization\n",
    "normalized_inputs = normalizer(inputs)\n",
    "\n",
    "# Encoder: TCN layers\n",
    "encoded = Conv1D(filters=32, kernel_size=3, dilation_rate=1, activation='relu', padding='same')(normalized_inputs)\n",
    "encoded = Conv1D(filters=32, kernel_size=3, dilation_rate=2, activation='relu', padding='same')(encoded)\n",
    "encoded = Conv1D(filters=32, kernel_size=3, dilation_rate=4, activation='relu', padding='same')(encoded)\n",
    "encoded = Flatten()(encoded)\n",
    "\n",
    "# Bottleneck\n",
    "bottleneck = Dense(16, activation='relu')(encoded)\n",
    "\n",
    "# Decoder: Repeat and reshape, followed by TCN layers\n",
    "decoded = Dense(timesteps * 32, activation='relu')(bottleneck)\n",
    "decoded = Reshape((timesteps, 32))(decoded)\n",
    "decoded = Conv1D(filters=32, kernel_size=3, dilation_rate=2, activation='relu', padding='same')(decoded)\n",
    "decoded = Conv1D(filters=64, kernel_size=3, dilation_rate=1, activation='relu', padding='same')(decoded)\n",
    "\n",
    "# Output layer\n",
    "decoded = TimeDistributed(Dense(input_dim))(decoded)\n",
    "\n",
    "autoencoder = Model(inputs, decoded)\n",
    "autoencoder.compile(optimizer=Adam(learning_rate=0.001), loss='mse')\n",
    "autoencoder.summary()\n",
    "\n",
    "# Splitting the reshaped data for training and testing\n",
    "X_train, X_test = train_test_split(X_train, test_size=0.2, random_state=42)\n",
    "\n",
    "# Directory to store logs\n",
    "log_dir = \"logs/fit/\" + datetime.datetime.now().strftime(\"%Y%m%d-%H%M%S\")\n",
    "\n",
    "# Creating the TensorBoard callback\n",
    "tensorboard_callback = TensorBoard(log_dir=log_dir, histogram_freq=1)\n",
    "\n",
    "# Train the model\n",
    "history = autoencoder.fit(X_train, X_train, epochs=epochs, batch_size=batch_size, validation_data=(X_test, X_test), callbacks=[tensorboard_callback])\n"
   ]
  },
  {
   "cell_type": "code",
   "execution_count": 64,
   "metadata": {},
   "outputs": [
    {
     "name": "stdout",
     "output_type": "stream",
     "text": [
      "3/3 [==============================] - 0s 2ms/step\n"
     ]
    },
    {
     "data": {
      "application/vnd.plotly.v1+json": {
       "config": {
        "plotlyServerURL": "https://plot.ly"
       },
       "data": [
        {
         "line": {
          "color": "green"
         },
         "mode": "lines",
         "name": "coord",
         "type": "scatter",
         "x": [
          "2023-10-11T13:17:15",
          "2023-10-11T13:17:18",
          "2023-10-11T13:17:21",
          "2023-10-11T13:17:24",
          "2023-10-11T13:17:27",
          "2023-10-11T13:17:30",
          "2023-10-11T13:17:33",
          "2023-10-11T13:17:36",
          "2023-10-11T13:17:39",
          "2023-10-11T13:17:42",
          "2023-10-11T13:17:45",
          "2023-10-11T13:17:48",
          "2023-10-11T13:17:51",
          "2023-10-11T13:17:54",
          "2023-10-11T13:17:57",
          "2023-10-11T13:18:00",
          "2023-10-11T13:18:03",
          "2023-10-11T13:18:06",
          "2023-10-11T13:18:09",
          "2023-10-11T13:18:12",
          "2023-10-11T13:18:15",
          "2023-10-11T13:18:18",
          "2023-10-11T13:18:21",
          "2023-10-11T13:18:24",
          "2023-10-11T13:18:27",
          "2023-10-11T13:18:30",
          "2023-10-11T13:18:33",
          "2023-10-11T13:18:36",
          "2023-10-11T13:18:39",
          "2023-10-11T13:18:42",
          "2023-10-11T13:18:45",
          "2023-10-11T13:18:48",
          "2023-10-11T13:18:51",
          "2023-10-11T13:18:54",
          "2023-10-11T13:18:57",
          "2023-10-11T13:19:00",
          "2023-10-11T13:19:03",
          "2023-10-11T13:19:06",
          "2023-10-11T13:19:09",
          "2023-10-11T13:19:12",
          "2023-10-11T13:19:15",
          "2023-10-11T13:19:18",
          "2023-10-11T13:19:21",
          "2023-10-11T13:19:24",
          "2023-10-11T13:19:27",
          "2023-10-11T13:19:30",
          "2023-10-11T13:19:33",
          "2023-10-11T13:19:36",
          "2023-10-11T13:19:39",
          "2023-10-11T13:19:42",
          "2023-10-11T13:19:45",
          "2023-10-11T13:19:48",
          "2023-10-11T13:19:51",
          "2023-10-11T13:19:54",
          "2023-10-11T13:19:57",
          "2023-10-11T13:20:00",
          "2023-10-11T13:20:03",
          "2023-10-11T13:20:06",
          "2023-10-11T13:20:09",
          "2023-10-11T13:20:12",
          "2023-10-11T13:20:15",
          "2023-10-11T13:20:18",
          "2023-10-11T13:20:21",
          "2023-10-11T13:20:24",
          "2023-10-11T13:20:27",
          "2023-10-11T13:20:30",
          "2023-10-11T13:20:33",
          "2023-10-11T13:20:36",
          "2023-10-11T13:20:39",
          "2023-10-11T13:20:42",
          "2023-10-11T13:20:45",
          "2023-10-11T13:20:48",
          "2023-10-11T13:20:51",
          "2023-10-11T13:20:54",
          "2023-10-11T13:20:57",
          "2023-10-11T13:21:00"
         ],
         "y": [
          -5.051999999999995,
          -75.53999999999999,
          -143.018,
          -138.762,
          -129.346,
          -120.61200000000001,
          -101.936,
          -92.804,
          -37.269999999999996,
          12.985999999999995,
          4.096000000000001,
          -3.7760000000000047,
          -6.213999999999999,
          -73.89000000000001,
          -141.73,
          -137.458,
          -125.23999999999998,
          -113.07800000000002,
          -97.214,
          -86.66600000000001,
          -31.105999999999995,
          16.381999999999998,
          45.803999999999995,
          37.87399999999999,
          35.53399999999998,
          17.767999999999994,
          -0.08799999999999955,
          -48.388,
          -38.96,
          -29.560000000000002,
          -62.718,
          -102.08800000000001,
          -92.90400000000001,
          -42.56800000000001,
          -11.569999999999997,
          -20.522,
          -23.028,
          -25.677999999999997,
          -44.816,
          -92.01200000000001,
          -88.66600000000001,
          -76.418,
          -67.356,
          -105.602,
          -96.44999999999999,
          -39.916,
          -60.489999999999995,
          -69.388,
          -71.69200000000001,
          -73.988,
          -141.594,
          -139.876,
          -137.71599999999998,
          -128.37000000000003,
          -119.68199999999999,
          -101.99600000000001,
          -92.83399999999999,
          -35.206,
          15.070000000000011,
          6.122,
          -3.6499999999999972,
          -6.126000000000007,
          -22.378,
          -41.446000000000005,
          -40.222,
          -28.088,
          -19.258000000000003,
          -51.934000000000005,
          -90.194,
          -31.574000000000005,
          15.895999999999997,
          5.871999999999997,
          -5.078000000000003,
          -7.474000000000009,
          -20.084000000000003,
          -37.89
         ]
        },
        {
         "marker": {
          "color": "red",
          "size": 5
         },
         "mode": "markers",
         "name": "Anomalous coord",
         "type": "scatter",
         "x": [
          "2023-10-11T13:17:21",
          "2023-10-11T13:17:57"
         ],
         "y": [
          -143.018,
          -141.73
         ]
        }
       ],
       "layout": {
        "template": {
         "data": {
          "bar": [
           {
            "error_x": {
             "color": "#2a3f5f"
            },
            "error_y": {
             "color": "#2a3f5f"
            },
            "marker": {
             "line": {
              "color": "#E5ECF6",
              "width": 0.5
             },
             "pattern": {
              "fillmode": "overlay",
              "size": 10,
              "solidity": 0.2
             }
            },
            "type": "bar"
           }
          ],
          "barpolar": [
           {
            "marker": {
             "line": {
              "color": "#E5ECF6",
              "width": 0.5
             },
             "pattern": {
              "fillmode": "overlay",
              "size": 10,
              "solidity": 0.2
             }
            },
            "type": "barpolar"
           }
          ],
          "carpet": [
           {
            "aaxis": {
             "endlinecolor": "#2a3f5f",
             "gridcolor": "white",
             "linecolor": "white",
             "minorgridcolor": "white",
             "startlinecolor": "#2a3f5f"
            },
            "baxis": {
             "endlinecolor": "#2a3f5f",
             "gridcolor": "white",
             "linecolor": "white",
             "minorgridcolor": "white",
             "startlinecolor": "#2a3f5f"
            },
            "type": "carpet"
           }
          ],
          "choropleth": [
           {
            "colorbar": {
             "outlinewidth": 0,
             "ticks": ""
            },
            "type": "choropleth"
           }
          ],
          "contour": [
           {
            "colorbar": {
             "outlinewidth": 0,
             "ticks": ""
            },
            "colorscale": [
             [
              0,
              "#0d0887"
             ],
             [
              0.1111111111111111,
              "#46039f"
             ],
             [
              0.2222222222222222,
              "#7201a8"
             ],
             [
              0.3333333333333333,
              "#9c179e"
             ],
             [
              0.4444444444444444,
              "#bd3786"
             ],
             [
              0.5555555555555556,
              "#d8576b"
             ],
             [
              0.6666666666666666,
              "#ed7953"
             ],
             [
              0.7777777777777778,
              "#fb9f3a"
             ],
             [
              0.8888888888888888,
              "#fdca26"
             ],
             [
              1,
              "#f0f921"
             ]
            ],
            "type": "contour"
           }
          ],
          "contourcarpet": [
           {
            "colorbar": {
             "outlinewidth": 0,
             "ticks": ""
            },
            "type": "contourcarpet"
           }
          ],
          "heatmap": [
           {
            "colorbar": {
             "outlinewidth": 0,
             "ticks": ""
            },
            "colorscale": [
             [
              0,
              "#0d0887"
             ],
             [
              0.1111111111111111,
              "#46039f"
             ],
             [
              0.2222222222222222,
              "#7201a8"
             ],
             [
              0.3333333333333333,
              "#9c179e"
             ],
             [
              0.4444444444444444,
              "#bd3786"
             ],
             [
              0.5555555555555556,
              "#d8576b"
             ],
             [
              0.6666666666666666,
              "#ed7953"
             ],
             [
              0.7777777777777778,
              "#fb9f3a"
             ],
             [
              0.8888888888888888,
              "#fdca26"
             ],
             [
              1,
              "#f0f921"
             ]
            ],
            "type": "heatmap"
           }
          ],
          "heatmapgl": [
           {
            "colorbar": {
             "outlinewidth": 0,
             "ticks": ""
            },
            "colorscale": [
             [
              0,
              "#0d0887"
             ],
             [
              0.1111111111111111,
              "#46039f"
             ],
             [
              0.2222222222222222,
              "#7201a8"
             ],
             [
              0.3333333333333333,
              "#9c179e"
             ],
             [
              0.4444444444444444,
              "#bd3786"
             ],
             [
              0.5555555555555556,
              "#d8576b"
             ],
             [
              0.6666666666666666,
              "#ed7953"
             ],
             [
              0.7777777777777778,
              "#fb9f3a"
             ],
             [
              0.8888888888888888,
              "#fdca26"
             ],
             [
              1,
              "#f0f921"
             ]
            ],
            "type": "heatmapgl"
           }
          ],
          "histogram": [
           {
            "marker": {
             "pattern": {
              "fillmode": "overlay",
              "size": 10,
              "solidity": 0.2
             }
            },
            "type": "histogram"
           }
          ],
          "histogram2d": [
           {
            "colorbar": {
             "outlinewidth": 0,
             "ticks": ""
            },
            "colorscale": [
             [
              0,
              "#0d0887"
             ],
             [
              0.1111111111111111,
              "#46039f"
             ],
             [
              0.2222222222222222,
              "#7201a8"
             ],
             [
              0.3333333333333333,
              "#9c179e"
             ],
             [
              0.4444444444444444,
              "#bd3786"
             ],
             [
              0.5555555555555556,
              "#d8576b"
             ],
             [
              0.6666666666666666,
              "#ed7953"
             ],
             [
              0.7777777777777778,
              "#fb9f3a"
             ],
             [
              0.8888888888888888,
              "#fdca26"
             ],
             [
              1,
              "#f0f921"
             ]
            ],
            "type": "histogram2d"
           }
          ],
          "histogram2dcontour": [
           {
            "colorbar": {
             "outlinewidth": 0,
             "ticks": ""
            },
            "colorscale": [
             [
              0,
              "#0d0887"
             ],
             [
              0.1111111111111111,
              "#46039f"
             ],
             [
              0.2222222222222222,
              "#7201a8"
             ],
             [
              0.3333333333333333,
              "#9c179e"
             ],
             [
              0.4444444444444444,
              "#bd3786"
             ],
             [
              0.5555555555555556,
              "#d8576b"
             ],
             [
              0.6666666666666666,
              "#ed7953"
             ],
             [
              0.7777777777777778,
              "#fb9f3a"
             ],
             [
              0.8888888888888888,
              "#fdca26"
             ],
             [
              1,
              "#f0f921"
             ]
            ],
            "type": "histogram2dcontour"
           }
          ],
          "mesh3d": [
           {
            "colorbar": {
             "outlinewidth": 0,
             "ticks": ""
            },
            "type": "mesh3d"
           }
          ],
          "parcoords": [
           {
            "line": {
             "colorbar": {
              "outlinewidth": 0,
              "ticks": ""
             }
            },
            "type": "parcoords"
           }
          ],
          "pie": [
           {
            "automargin": true,
            "type": "pie"
           }
          ],
          "scatter": [
           {
            "fillpattern": {
             "fillmode": "overlay",
             "size": 10,
             "solidity": 0.2
            },
            "type": "scatter"
           }
          ],
          "scatter3d": [
           {
            "line": {
             "colorbar": {
              "outlinewidth": 0,
              "ticks": ""
             }
            },
            "marker": {
             "colorbar": {
              "outlinewidth": 0,
              "ticks": ""
             }
            },
            "type": "scatter3d"
           }
          ],
          "scattercarpet": [
           {
            "marker": {
             "colorbar": {
              "outlinewidth": 0,
              "ticks": ""
             }
            },
            "type": "scattercarpet"
           }
          ],
          "scattergeo": [
           {
            "marker": {
             "colorbar": {
              "outlinewidth": 0,
              "ticks": ""
             }
            },
            "type": "scattergeo"
           }
          ],
          "scattergl": [
           {
            "marker": {
             "colorbar": {
              "outlinewidth": 0,
              "ticks": ""
             }
            },
            "type": "scattergl"
           }
          ],
          "scattermapbox": [
           {
            "marker": {
             "colorbar": {
              "outlinewidth": 0,
              "ticks": ""
             }
            },
            "type": "scattermapbox"
           }
          ],
          "scatterpolar": [
           {
            "marker": {
             "colorbar": {
              "outlinewidth": 0,
              "ticks": ""
             }
            },
            "type": "scatterpolar"
           }
          ],
          "scatterpolargl": [
           {
            "marker": {
             "colorbar": {
              "outlinewidth": 0,
              "ticks": ""
             }
            },
            "type": "scatterpolargl"
           }
          ],
          "scatterternary": [
           {
            "marker": {
             "colorbar": {
              "outlinewidth": 0,
              "ticks": ""
             }
            },
            "type": "scatterternary"
           }
          ],
          "surface": [
           {
            "colorbar": {
             "outlinewidth": 0,
             "ticks": ""
            },
            "colorscale": [
             [
              0,
              "#0d0887"
             ],
             [
              0.1111111111111111,
              "#46039f"
             ],
             [
              0.2222222222222222,
              "#7201a8"
             ],
             [
              0.3333333333333333,
              "#9c179e"
             ],
             [
              0.4444444444444444,
              "#bd3786"
             ],
             [
              0.5555555555555556,
              "#d8576b"
             ],
             [
              0.6666666666666666,
              "#ed7953"
             ],
             [
              0.7777777777777778,
              "#fb9f3a"
             ],
             [
              0.8888888888888888,
              "#fdca26"
             ],
             [
              1,
              "#f0f921"
             ]
            ],
            "type": "surface"
           }
          ],
          "table": [
           {
            "cells": {
             "fill": {
              "color": "#EBF0F8"
             },
             "line": {
              "color": "white"
             }
            },
            "header": {
             "fill": {
              "color": "#C8D4E3"
             },
             "line": {
              "color": "white"
             }
            },
            "type": "table"
           }
          ]
         },
         "layout": {
          "annotationdefaults": {
           "arrowcolor": "#2a3f5f",
           "arrowhead": 0,
           "arrowwidth": 1
          },
          "autotypenumbers": "strict",
          "coloraxis": {
           "colorbar": {
            "outlinewidth": 0,
            "ticks": ""
           }
          },
          "colorscale": {
           "diverging": [
            [
             0,
             "#8e0152"
            ],
            [
             0.1,
             "#c51b7d"
            ],
            [
             0.2,
             "#de77ae"
            ],
            [
             0.3,
             "#f1b6da"
            ],
            [
             0.4,
             "#fde0ef"
            ],
            [
             0.5,
             "#f7f7f7"
            ],
            [
             0.6,
             "#e6f5d0"
            ],
            [
             0.7,
             "#b8e186"
            ],
            [
             0.8,
             "#7fbc41"
            ],
            [
             0.9,
             "#4d9221"
            ],
            [
             1,
             "#276419"
            ]
           ],
           "sequential": [
            [
             0,
             "#0d0887"
            ],
            [
             0.1111111111111111,
             "#46039f"
            ],
            [
             0.2222222222222222,
             "#7201a8"
            ],
            [
             0.3333333333333333,
             "#9c179e"
            ],
            [
             0.4444444444444444,
             "#bd3786"
            ],
            [
             0.5555555555555556,
             "#d8576b"
            ],
            [
             0.6666666666666666,
             "#ed7953"
            ],
            [
             0.7777777777777778,
             "#fb9f3a"
            ],
            [
             0.8888888888888888,
             "#fdca26"
            ],
            [
             1,
             "#f0f921"
            ]
           ],
           "sequentialminus": [
            [
             0,
             "#0d0887"
            ],
            [
             0.1111111111111111,
             "#46039f"
            ],
            [
             0.2222222222222222,
             "#7201a8"
            ],
            [
             0.3333333333333333,
             "#9c179e"
            ],
            [
             0.4444444444444444,
             "#bd3786"
            ],
            [
             0.5555555555555556,
             "#d8576b"
            ],
            [
             0.6666666666666666,
             "#ed7953"
            ],
            [
             0.7777777777777778,
             "#fb9f3a"
            ],
            [
             0.8888888888888888,
             "#fdca26"
            ],
            [
             1,
             "#f0f921"
            ]
           ]
          },
          "colorway": [
           "#636efa",
           "#EF553B",
           "#00cc96",
           "#ab63fa",
           "#FFA15A",
           "#19d3f3",
           "#FF6692",
           "#B6E880",
           "#FF97FF",
           "#FECB52"
          ],
          "font": {
           "color": "#2a3f5f"
          },
          "geo": {
           "bgcolor": "white",
           "lakecolor": "white",
           "landcolor": "#E5ECF6",
           "showlakes": true,
           "showland": true,
           "subunitcolor": "white"
          },
          "hoverlabel": {
           "align": "left"
          },
          "hovermode": "closest",
          "mapbox": {
           "style": "light"
          },
          "paper_bgcolor": "white",
          "plot_bgcolor": "#E5ECF6",
          "polar": {
           "angularaxis": {
            "gridcolor": "white",
            "linecolor": "white",
            "ticks": ""
           },
           "bgcolor": "#E5ECF6",
           "radialaxis": {
            "gridcolor": "white",
            "linecolor": "white",
            "ticks": ""
           }
          },
          "scene": {
           "xaxis": {
            "backgroundcolor": "#E5ECF6",
            "gridcolor": "white",
            "gridwidth": 2,
            "linecolor": "white",
            "showbackground": true,
            "ticks": "",
            "zerolinecolor": "white"
           },
           "yaxis": {
            "backgroundcolor": "#E5ECF6",
            "gridcolor": "white",
            "gridwidth": 2,
            "linecolor": "white",
            "showbackground": true,
            "ticks": "",
            "zerolinecolor": "white"
           },
           "zaxis": {
            "backgroundcolor": "#E5ECF6",
            "gridcolor": "white",
            "gridwidth": 2,
            "linecolor": "white",
            "showbackground": true,
            "ticks": "",
            "zerolinecolor": "white"
           }
          },
          "shapedefaults": {
           "line": {
            "color": "#2a3f5f"
           }
          },
          "ternary": {
           "aaxis": {
            "gridcolor": "white",
            "linecolor": "white",
            "ticks": ""
           },
           "baxis": {
            "gridcolor": "white",
            "linecolor": "white",
            "ticks": ""
           },
           "bgcolor": "#E5ECF6",
           "caxis": {
            "gridcolor": "white",
            "linecolor": "white",
            "ticks": ""
           }
          },
          "title": {
           "x": 0.05
          },
          "xaxis": {
           "automargin": true,
           "gridcolor": "white",
           "linecolor": "white",
           "ticks": "",
           "title": {
            "standoff": 15
           },
           "zerolinecolor": "white",
           "zerolinewidth": 2
          },
          "yaxis": {
           "automargin": true,
           "gridcolor": "white",
           "linecolor": "white",
           "ticks": "",
           "title": {
            "standoff": 15
           },
           "zerolinecolor": "white",
           "zerolinewidth": 2
          }
         }
        }
       }
      }
     },
     "metadata": {},
     "output_type": "display_data"
    }
   ],
   "source": [
    "# Reshape the data for prediction\n",
    "X_pred = np.array([normal['coord'][i:i+timesteps] for i in range(len(normal) - timesteps)])\n",
    "\n",
    "# Use the autoencoder to predict on the data\n",
    "predictions = autoencoder.predict(X_pred)\n",
    "\n",
    "# Calculate reconstruction error for each sequence\n",
    "mse = np.mean(np.power(normal.values[-predictions.shape[0]:] - predictions[:, -1, :], 2), axis=1)\n",
    "\n",
    "# Scale the MSE to a percentage\n",
    "min_mse = np.min(mse)\n",
    "max_mse = np.max(mse)\n",
    "mse_percentage = ((mse - min_mse) / (max_mse - min_mse)) * 100\n",
    "\n",
    "# Detect anomalies by comparing the scaled reconstruction error to some threshold\n",
    "threshold = 60  # Define a threshold value (in percentage)\n",
    "\n",
    "# Add 'is_anomalous' column to the DataFrame\n",
    "normal = normal.iloc[-predictions.shape[0]:].copy()\n",
    "normal['is_anomalous'] = mse_percentage > threshold\n",
    "normal['mse_percentage'] = mse_percentage\n",
    "normal['threshold'] = threshold\n",
    "\n",
    "\n",
    "# Create a new figure\n",
    "fig = go.Figure()\n",
    "\n",
    "\n",
    "# Add a line for the actual load\n",
    "fig.add_trace(go.Scatter(\n",
    "    x=normal.index,\n",
    "    y=normal[\"coord\"],\n",
    "    mode='lines',\n",
    "    name='coord',\n",
    "    line=dict(color='green'),  # specify line color here\n",
    "))\n",
    "\n",
    "# Add a line for the anomalous load\n",
    "fig.add_trace(go.Scatter(\n",
    "    x=normal[normal['is_anomalous']].index,\n",
    "    y=normal[normal['is_anomalous']][\"coord\"],\n",
    "    mode='markers',\n",
    "    name='Anomalous coord',\n",
    "    marker=dict(color='red', size=5),  # specify marker color and size here\n",
    "))\n",
    "\n",
    "# Show the plot\n",
    "fig.show()\n",
    "normal.to_csv('normal_data_result.csv')"
   ]
  },
  {
   "cell_type": "code",
   "execution_count": 65,
   "metadata": {},
   "outputs": [
    {
     "name": "stdout",
     "output_type": "stream",
     "text": [
      "2/2 [==============================] - 0s 2ms/step\n"
     ]
    },
    {
     "data": {
      "application/vnd.plotly.v1+json": {
       "config": {
        "plotlyServerURL": "https://plot.ly"
       },
       "data": [
        {
         "line": {
          "color": "green"
         },
         "mode": "lines",
         "name": "coord",
         "type": "scatter",
         "x": [
          "2023-10-11T13:25:15",
          "2023-10-11T13:25:18",
          "2023-10-11T13:25:21",
          "2023-10-11T13:25:24",
          "2023-10-11T13:25:27",
          "2023-10-11T13:25:30",
          "2023-10-11T13:25:33",
          "2023-10-11T13:25:36",
          "2023-10-11T13:25:39",
          "2023-10-11T13:25:42",
          "2023-10-11T13:25:45",
          "2023-10-11T13:25:48",
          "2023-10-11T13:25:51",
          "2023-10-11T13:25:54",
          "2023-10-11T13:25:57",
          "2023-10-11T13:26:00",
          "2023-10-11T13:26:03",
          "2023-10-11T13:26:06",
          "2023-10-11T13:26:09",
          "2023-10-11T13:26:12",
          "2023-10-11T13:26:15",
          "2023-10-11T13:26:18",
          "2023-10-11T13:26:21",
          "2023-10-11T13:26:24",
          "2023-10-11T13:26:27",
          "2023-10-11T13:26:30",
          "2023-10-11T13:26:33",
          "2023-10-11T13:26:36",
          "2023-10-11T13:26:39",
          "2023-10-11T13:26:42",
          "2023-10-11T13:26:45",
          "2023-10-11T13:26:48",
          "2023-10-11T13:26:51",
          "2023-10-11T13:26:54",
          "2023-10-11T13:26:57",
          "2023-10-11T13:27:00",
          "2023-10-11T13:27:03",
          "2023-10-11T13:27:06",
          "2023-10-11T13:27:09",
          "2023-10-11T13:27:12",
          "2023-10-11T13:27:15",
          "2023-10-11T13:27:18",
          "2023-10-11T13:27:21",
          "2023-10-11T13:27:24",
          "2023-10-11T13:27:27",
          "2023-10-11T13:27:30",
          "2023-10-11T13:27:33",
          "2023-10-11T13:27:36",
          "2023-10-11T13:27:39",
          "2023-10-11T13:27:42",
          "2023-10-11T13:27:45"
         ],
         "y": [
          -57.38399999999999,
          -57.028,
          -50.681999999999995,
          -41.4,
          -98.65,
          -33.492000000000004,
          16.976000000000006,
          20.262,
          20.618000000000002,
          26.98799999999999,
          -30.3,
          -87.53,
          -39.92600000000001,
          -57.516,
          -57.108000000000004,
          -50.784,
          -39.824,
          -97.006,
          -31.778000000000002,
          18.690000000000005,
          21.988000000000003,
          20.662,
          29.534000000000002,
          -27.758000000000003,
          -84.98800000000001,
          -37.38200000000001,
          -54.302,
          -56.434000000000005,
          -50.118,
          -40.8,
          -97.99799999999999,
          -33.43599999999999,
          17.012,
          19.906000000000006,
          20.248000000000005,
          26.620000000000005,
          -30.69599999999999,
          -87.90799999999999,
          -39.895999999999994,
          -55.012,
          -54.602,
          -48.245999999999995,
          -40.65,
          -97.85,
          -35.14,
          15.278000000000002,
          18.562,
          20.602,
          28.079999999999995,
          -29.198,
          -86.404
         ]
        },
        {
         "marker": {
          "color": "red",
          "size": 5
         },
         "mode": "markers",
         "name": "Anomalous coord",
         "type": "scatter",
         "x": [
          "2023-10-11T13:25:48",
          "2023-10-11T13:26:27",
          "2023-10-11T13:27:06",
          "2023-10-11T13:27:45"
         ],
         "y": [
          -87.53,
          -84.98800000000001,
          -87.90799999999999,
          -86.404
         ]
        }
       ],
       "layout": {
        "template": {
         "data": {
          "bar": [
           {
            "error_x": {
             "color": "#2a3f5f"
            },
            "error_y": {
             "color": "#2a3f5f"
            },
            "marker": {
             "line": {
              "color": "#E5ECF6",
              "width": 0.5
             },
             "pattern": {
              "fillmode": "overlay",
              "size": 10,
              "solidity": 0.2
             }
            },
            "type": "bar"
           }
          ],
          "barpolar": [
           {
            "marker": {
             "line": {
              "color": "#E5ECF6",
              "width": 0.5
             },
             "pattern": {
              "fillmode": "overlay",
              "size": 10,
              "solidity": 0.2
             }
            },
            "type": "barpolar"
           }
          ],
          "carpet": [
           {
            "aaxis": {
             "endlinecolor": "#2a3f5f",
             "gridcolor": "white",
             "linecolor": "white",
             "minorgridcolor": "white",
             "startlinecolor": "#2a3f5f"
            },
            "baxis": {
             "endlinecolor": "#2a3f5f",
             "gridcolor": "white",
             "linecolor": "white",
             "minorgridcolor": "white",
             "startlinecolor": "#2a3f5f"
            },
            "type": "carpet"
           }
          ],
          "choropleth": [
           {
            "colorbar": {
             "outlinewidth": 0,
             "ticks": ""
            },
            "type": "choropleth"
           }
          ],
          "contour": [
           {
            "colorbar": {
             "outlinewidth": 0,
             "ticks": ""
            },
            "colorscale": [
             [
              0,
              "#0d0887"
             ],
             [
              0.1111111111111111,
              "#46039f"
             ],
             [
              0.2222222222222222,
              "#7201a8"
             ],
             [
              0.3333333333333333,
              "#9c179e"
             ],
             [
              0.4444444444444444,
              "#bd3786"
             ],
             [
              0.5555555555555556,
              "#d8576b"
             ],
             [
              0.6666666666666666,
              "#ed7953"
             ],
             [
              0.7777777777777778,
              "#fb9f3a"
             ],
             [
              0.8888888888888888,
              "#fdca26"
             ],
             [
              1,
              "#f0f921"
             ]
            ],
            "type": "contour"
           }
          ],
          "contourcarpet": [
           {
            "colorbar": {
             "outlinewidth": 0,
             "ticks": ""
            },
            "type": "contourcarpet"
           }
          ],
          "heatmap": [
           {
            "colorbar": {
             "outlinewidth": 0,
             "ticks": ""
            },
            "colorscale": [
             [
              0,
              "#0d0887"
             ],
             [
              0.1111111111111111,
              "#46039f"
             ],
             [
              0.2222222222222222,
              "#7201a8"
             ],
             [
              0.3333333333333333,
              "#9c179e"
             ],
             [
              0.4444444444444444,
              "#bd3786"
             ],
             [
              0.5555555555555556,
              "#d8576b"
             ],
             [
              0.6666666666666666,
              "#ed7953"
             ],
             [
              0.7777777777777778,
              "#fb9f3a"
             ],
             [
              0.8888888888888888,
              "#fdca26"
             ],
             [
              1,
              "#f0f921"
             ]
            ],
            "type": "heatmap"
           }
          ],
          "heatmapgl": [
           {
            "colorbar": {
             "outlinewidth": 0,
             "ticks": ""
            },
            "colorscale": [
             [
              0,
              "#0d0887"
             ],
             [
              0.1111111111111111,
              "#46039f"
             ],
             [
              0.2222222222222222,
              "#7201a8"
             ],
             [
              0.3333333333333333,
              "#9c179e"
             ],
             [
              0.4444444444444444,
              "#bd3786"
             ],
             [
              0.5555555555555556,
              "#d8576b"
             ],
             [
              0.6666666666666666,
              "#ed7953"
             ],
             [
              0.7777777777777778,
              "#fb9f3a"
             ],
             [
              0.8888888888888888,
              "#fdca26"
             ],
             [
              1,
              "#f0f921"
             ]
            ],
            "type": "heatmapgl"
           }
          ],
          "histogram": [
           {
            "marker": {
             "pattern": {
              "fillmode": "overlay",
              "size": 10,
              "solidity": 0.2
             }
            },
            "type": "histogram"
           }
          ],
          "histogram2d": [
           {
            "colorbar": {
             "outlinewidth": 0,
             "ticks": ""
            },
            "colorscale": [
             [
              0,
              "#0d0887"
             ],
             [
              0.1111111111111111,
              "#46039f"
             ],
             [
              0.2222222222222222,
              "#7201a8"
             ],
             [
              0.3333333333333333,
              "#9c179e"
             ],
             [
              0.4444444444444444,
              "#bd3786"
             ],
             [
              0.5555555555555556,
              "#d8576b"
             ],
             [
              0.6666666666666666,
              "#ed7953"
             ],
             [
              0.7777777777777778,
              "#fb9f3a"
             ],
             [
              0.8888888888888888,
              "#fdca26"
             ],
             [
              1,
              "#f0f921"
             ]
            ],
            "type": "histogram2d"
           }
          ],
          "histogram2dcontour": [
           {
            "colorbar": {
             "outlinewidth": 0,
             "ticks": ""
            },
            "colorscale": [
             [
              0,
              "#0d0887"
             ],
             [
              0.1111111111111111,
              "#46039f"
             ],
             [
              0.2222222222222222,
              "#7201a8"
             ],
             [
              0.3333333333333333,
              "#9c179e"
             ],
             [
              0.4444444444444444,
              "#bd3786"
             ],
             [
              0.5555555555555556,
              "#d8576b"
             ],
             [
              0.6666666666666666,
              "#ed7953"
             ],
             [
              0.7777777777777778,
              "#fb9f3a"
             ],
             [
              0.8888888888888888,
              "#fdca26"
             ],
             [
              1,
              "#f0f921"
             ]
            ],
            "type": "histogram2dcontour"
           }
          ],
          "mesh3d": [
           {
            "colorbar": {
             "outlinewidth": 0,
             "ticks": ""
            },
            "type": "mesh3d"
           }
          ],
          "parcoords": [
           {
            "line": {
             "colorbar": {
              "outlinewidth": 0,
              "ticks": ""
             }
            },
            "type": "parcoords"
           }
          ],
          "pie": [
           {
            "automargin": true,
            "type": "pie"
           }
          ],
          "scatter": [
           {
            "fillpattern": {
             "fillmode": "overlay",
             "size": 10,
             "solidity": 0.2
            },
            "type": "scatter"
           }
          ],
          "scatter3d": [
           {
            "line": {
             "colorbar": {
              "outlinewidth": 0,
              "ticks": ""
             }
            },
            "marker": {
             "colorbar": {
              "outlinewidth": 0,
              "ticks": ""
             }
            },
            "type": "scatter3d"
           }
          ],
          "scattercarpet": [
           {
            "marker": {
             "colorbar": {
              "outlinewidth": 0,
              "ticks": ""
             }
            },
            "type": "scattercarpet"
           }
          ],
          "scattergeo": [
           {
            "marker": {
             "colorbar": {
              "outlinewidth": 0,
              "ticks": ""
             }
            },
            "type": "scattergeo"
           }
          ],
          "scattergl": [
           {
            "marker": {
             "colorbar": {
              "outlinewidth": 0,
              "ticks": ""
             }
            },
            "type": "scattergl"
           }
          ],
          "scattermapbox": [
           {
            "marker": {
             "colorbar": {
              "outlinewidth": 0,
              "ticks": ""
             }
            },
            "type": "scattermapbox"
           }
          ],
          "scatterpolar": [
           {
            "marker": {
             "colorbar": {
              "outlinewidth": 0,
              "ticks": ""
             }
            },
            "type": "scatterpolar"
           }
          ],
          "scatterpolargl": [
           {
            "marker": {
             "colorbar": {
              "outlinewidth": 0,
              "ticks": ""
             }
            },
            "type": "scatterpolargl"
           }
          ],
          "scatterternary": [
           {
            "marker": {
             "colorbar": {
              "outlinewidth": 0,
              "ticks": ""
             }
            },
            "type": "scatterternary"
           }
          ],
          "surface": [
           {
            "colorbar": {
             "outlinewidth": 0,
             "ticks": ""
            },
            "colorscale": [
             [
              0,
              "#0d0887"
             ],
             [
              0.1111111111111111,
              "#46039f"
             ],
             [
              0.2222222222222222,
              "#7201a8"
             ],
             [
              0.3333333333333333,
              "#9c179e"
             ],
             [
              0.4444444444444444,
              "#bd3786"
             ],
             [
              0.5555555555555556,
              "#d8576b"
             ],
             [
              0.6666666666666666,
              "#ed7953"
             ],
             [
              0.7777777777777778,
              "#fb9f3a"
             ],
             [
              0.8888888888888888,
              "#fdca26"
             ],
             [
              1,
              "#f0f921"
             ]
            ],
            "type": "surface"
           }
          ],
          "table": [
           {
            "cells": {
             "fill": {
              "color": "#EBF0F8"
             },
             "line": {
              "color": "white"
             }
            },
            "header": {
             "fill": {
              "color": "#C8D4E3"
             },
             "line": {
              "color": "white"
             }
            },
            "type": "table"
           }
          ]
         },
         "layout": {
          "annotationdefaults": {
           "arrowcolor": "#2a3f5f",
           "arrowhead": 0,
           "arrowwidth": 1
          },
          "autotypenumbers": "strict",
          "coloraxis": {
           "colorbar": {
            "outlinewidth": 0,
            "ticks": ""
           }
          },
          "colorscale": {
           "diverging": [
            [
             0,
             "#8e0152"
            ],
            [
             0.1,
             "#c51b7d"
            ],
            [
             0.2,
             "#de77ae"
            ],
            [
             0.3,
             "#f1b6da"
            ],
            [
             0.4,
             "#fde0ef"
            ],
            [
             0.5,
             "#f7f7f7"
            ],
            [
             0.6,
             "#e6f5d0"
            ],
            [
             0.7,
             "#b8e186"
            ],
            [
             0.8,
             "#7fbc41"
            ],
            [
             0.9,
             "#4d9221"
            ],
            [
             1,
             "#276419"
            ]
           ],
           "sequential": [
            [
             0,
             "#0d0887"
            ],
            [
             0.1111111111111111,
             "#46039f"
            ],
            [
             0.2222222222222222,
             "#7201a8"
            ],
            [
             0.3333333333333333,
             "#9c179e"
            ],
            [
             0.4444444444444444,
             "#bd3786"
            ],
            [
             0.5555555555555556,
             "#d8576b"
            ],
            [
             0.6666666666666666,
             "#ed7953"
            ],
            [
             0.7777777777777778,
             "#fb9f3a"
            ],
            [
             0.8888888888888888,
             "#fdca26"
            ],
            [
             1,
             "#f0f921"
            ]
           ],
           "sequentialminus": [
            [
             0,
             "#0d0887"
            ],
            [
             0.1111111111111111,
             "#46039f"
            ],
            [
             0.2222222222222222,
             "#7201a8"
            ],
            [
             0.3333333333333333,
             "#9c179e"
            ],
            [
             0.4444444444444444,
             "#bd3786"
            ],
            [
             0.5555555555555556,
             "#d8576b"
            ],
            [
             0.6666666666666666,
             "#ed7953"
            ],
            [
             0.7777777777777778,
             "#fb9f3a"
            ],
            [
             0.8888888888888888,
             "#fdca26"
            ],
            [
             1,
             "#f0f921"
            ]
           ]
          },
          "colorway": [
           "#636efa",
           "#EF553B",
           "#00cc96",
           "#ab63fa",
           "#FFA15A",
           "#19d3f3",
           "#FF6692",
           "#B6E880",
           "#FF97FF",
           "#FECB52"
          ],
          "font": {
           "color": "#2a3f5f"
          },
          "geo": {
           "bgcolor": "white",
           "lakecolor": "white",
           "landcolor": "#E5ECF6",
           "showlakes": true,
           "showland": true,
           "subunitcolor": "white"
          },
          "hoverlabel": {
           "align": "left"
          },
          "hovermode": "closest",
          "mapbox": {
           "style": "light"
          },
          "paper_bgcolor": "white",
          "plot_bgcolor": "#E5ECF6",
          "polar": {
           "angularaxis": {
            "gridcolor": "white",
            "linecolor": "white",
            "ticks": ""
           },
           "bgcolor": "#E5ECF6",
           "radialaxis": {
            "gridcolor": "white",
            "linecolor": "white",
            "ticks": ""
           }
          },
          "scene": {
           "xaxis": {
            "backgroundcolor": "#E5ECF6",
            "gridcolor": "white",
            "gridwidth": 2,
            "linecolor": "white",
            "showbackground": true,
            "ticks": "",
            "zerolinecolor": "white"
           },
           "yaxis": {
            "backgroundcolor": "#E5ECF6",
            "gridcolor": "white",
            "gridwidth": 2,
            "linecolor": "white",
            "showbackground": true,
            "ticks": "",
            "zerolinecolor": "white"
           },
           "zaxis": {
            "backgroundcolor": "#E5ECF6",
            "gridcolor": "white",
            "gridwidth": 2,
            "linecolor": "white",
            "showbackground": true,
            "ticks": "",
            "zerolinecolor": "white"
           }
          },
          "shapedefaults": {
           "line": {
            "color": "#2a3f5f"
           }
          },
          "ternary": {
           "aaxis": {
            "gridcolor": "white",
            "linecolor": "white",
            "ticks": ""
           },
           "baxis": {
            "gridcolor": "white",
            "linecolor": "white",
            "ticks": ""
           },
           "bgcolor": "#E5ECF6",
           "caxis": {
            "gridcolor": "white",
            "linecolor": "white",
            "ticks": ""
           }
          },
          "title": {
           "x": 0.05
          },
          "xaxis": {
           "automargin": true,
           "gridcolor": "white",
           "linecolor": "white",
           "ticks": "",
           "title": {
            "standoff": 15
           },
           "zerolinecolor": "white",
           "zerolinewidth": 2
          },
          "yaxis": {
           "automargin": true,
           "gridcolor": "white",
           "linecolor": "white",
           "ticks": "",
           "title": {
            "standoff": 15
           },
           "zerolinecolor": "white",
           "zerolinewidth": 2
          }
         }
        }
       }
      }
     },
     "metadata": {},
     "output_type": "display_data"
    }
   ],
   "source": [
    "# Reshape the data for prediction\n",
    "X_pred = np.array([death_loop['coord'][i:i+timesteps] for i in range(len(death_loop) - timesteps)])\n",
    "\n",
    "# Use the autoencoder to predict on the data\n",
    "predictions = autoencoder.predict(X_pred)\n",
    "\n",
    "\n",
    "# Calculate reconstruction error for each sequence\n",
    "mse = np.mean(np.power(death_loop.values[-predictions.shape[0]:] - predictions[:, -1, :], 2), axis=1)\n",
    "\n",
    "# Scale the MSE to a percentage\n",
    "min_mse = np.min(mse)\n",
    "max_mse = np.max(mse)\n",
    "mse_percentage = ((mse - min_mse) / (max_mse - min_mse)) * 100\n",
    "\n",
    "# Detect anomalies by comparing the scaled reconstruction error to some threshold\n",
    "threshold = 60  # Define a threshold value (in percentage)\n",
    "\n",
    "# Add 'is_anomalous' column to the DataFrame\n",
    "death_loop = death_loop.iloc[-predictions.shape[0]:].copy()\n",
    "death_loop['is_anomalous'] = mse_percentage > threshold\n",
    "death_loop['mse_percentage'] = mse_percentage\n",
    "normal['threshold'] = threshold\n",
    "\n",
    "\n",
    "\n",
    "# Create a new figure\n",
    "fig = go.Figure()\n",
    "\n",
    "\n",
    "# Add a line for the actual load\n",
    "fig.add_trace(go.Scatter(\n",
    "    x=death_loop.index,\n",
    "    y=death_loop[\"coord\"],\n",
    "    mode='lines',\n",
    "    name='coord',\n",
    "    line=dict(color='green'),  # specify line color here\n",
    "))\n",
    "\n",
    "# Add a line for the anomalous load\n",
    "fig.add_trace(go.Scatter(\n",
    "    x=death_loop[death_loop['is_anomalous']].index,\n",
    "    y=death_loop[death_loop['is_anomalous']][\"coord\"],\n",
    "    mode='markers',\n",
    "    name='Anomalous coord',\n",
    "    marker=dict(color='red', size=5),  # specify marker color and size here\n",
    "))\n",
    "\n",
    "# Show the plot\n",
    "fig.show()\n",
    "death_loop.to_csv('death_loop_result.csv')"
   ]
  },
  {
   "cell_type": "code",
   "execution_count": 66,
   "metadata": {},
   "outputs": [
    {
     "name": "stdout",
     "output_type": "stream",
     "text": [
      "2/2 [==============================] - 0s 3ms/step\n"
     ]
    },
    {
     "data": {
      "application/vnd.plotly.v1+json": {
       "config": {
        "plotlyServerURL": "https://plot.ly"
       },
       "data": [
        {
         "line": {
          "color": "green"
         },
         "mode": "lines",
         "name": "coord",
         "type": "scatter",
         "x": [
          "2023-10-11T13:45:27",
          "2023-10-11T13:45:30",
          "2023-10-11T13:45:33",
          "2023-10-11T13:45:36",
          "2023-10-11T13:45:39",
          "2023-10-11T13:45:42",
          "2023-10-11T13:45:45",
          "2023-10-11T13:45:48",
          "2023-10-11T13:45:51",
          "2023-10-11T13:45:54",
          "2023-10-11T13:45:57",
          "2023-10-11T13:46:00",
          "2023-10-11T13:46:03",
          "2023-10-11T13:46:06",
          "2023-10-11T13:46:09",
          "2023-10-11T13:46:12",
          "2023-10-11T13:46:15",
          "2023-10-11T13:46:18",
          "2023-10-11T13:46:21",
          "2023-10-11T13:46:24",
          "2023-10-11T13:46:27",
          "2023-10-11T13:46:30",
          "2023-10-11T13:46:33",
          "2023-10-11T13:46:36",
          "2023-10-11T13:46:39",
          "2023-10-11T13:46:42",
          "2023-10-11T13:46:45",
          "2023-10-11T13:46:48",
          "2023-10-11T13:46:51",
          "2023-10-11T13:46:54",
          "2023-10-11T13:46:57",
          "2023-10-11T13:47:00",
          "2023-10-11T13:47:03",
          "2023-10-11T13:47:06",
          "2023-10-11T13:47:09",
          "2023-10-11T13:47:12",
          "2023-10-11T13:47:15",
          "2023-10-11T13:47:18"
         ],
         "y": [
          -92.11800000000001,
          -92.048,
          -91.90599999999999,
          -44.489999999999995,
          -51.048,
          -51.016000000000005,
          -50.874,
          -91.532,
          -91.468,
          -44.082000000000015,
          -3.3160000000000025,
          -3.397999999999999,
          -3.399999999999994,
          -43.989999999999995,
          -43.932,
          -91.42,
          -50.68,
          -50.70399999999999,
          -50.748000000000005,
          -91.434,
          -44.022000000000006,
          -91.526,
          -86.966,
          -77.564,
          -68.80999999999999,
          -106.97999999999999,
          -97.852,
          -42.7,
          -10.557999999999996,
          -19.426000000000002,
          -21.964,
          -24.321999999999996,
          -42.134,
          -90.418,
          -86.276,
          -74.032,
          -65.204,
          -98.89999999999999
         ]
        },
        {
         "marker": {
          "color": "red",
          "size": 5
         },
         "mode": "markers",
         "name": "Anomalous coord",
         "type": "scatter",
         "x": [
          "2023-10-11T13:45:57"
         ],
         "y": [
          -3.3160000000000025
         ]
        }
       ],
       "layout": {
        "template": {
         "data": {
          "bar": [
           {
            "error_x": {
             "color": "#2a3f5f"
            },
            "error_y": {
             "color": "#2a3f5f"
            },
            "marker": {
             "line": {
              "color": "#E5ECF6",
              "width": 0.5
             },
             "pattern": {
              "fillmode": "overlay",
              "size": 10,
              "solidity": 0.2
             }
            },
            "type": "bar"
           }
          ],
          "barpolar": [
           {
            "marker": {
             "line": {
              "color": "#E5ECF6",
              "width": 0.5
             },
             "pattern": {
              "fillmode": "overlay",
              "size": 10,
              "solidity": 0.2
             }
            },
            "type": "barpolar"
           }
          ],
          "carpet": [
           {
            "aaxis": {
             "endlinecolor": "#2a3f5f",
             "gridcolor": "white",
             "linecolor": "white",
             "minorgridcolor": "white",
             "startlinecolor": "#2a3f5f"
            },
            "baxis": {
             "endlinecolor": "#2a3f5f",
             "gridcolor": "white",
             "linecolor": "white",
             "minorgridcolor": "white",
             "startlinecolor": "#2a3f5f"
            },
            "type": "carpet"
           }
          ],
          "choropleth": [
           {
            "colorbar": {
             "outlinewidth": 0,
             "ticks": ""
            },
            "type": "choropleth"
           }
          ],
          "contour": [
           {
            "colorbar": {
             "outlinewidth": 0,
             "ticks": ""
            },
            "colorscale": [
             [
              0,
              "#0d0887"
             ],
             [
              0.1111111111111111,
              "#46039f"
             ],
             [
              0.2222222222222222,
              "#7201a8"
             ],
             [
              0.3333333333333333,
              "#9c179e"
             ],
             [
              0.4444444444444444,
              "#bd3786"
             ],
             [
              0.5555555555555556,
              "#d8576b"
             ],
             [
              0.6666666666666666,
              "#ed7953"
             ],
             [
              0.7777777777777778,
              "#fb9f3a"
             ],
             [
              0.8888888888888888,
              "#fdca26"
             ],
             [
              1,
              "#f0f921"
             ]
            ],
            "type": "contour"
           }
          ],
          "contourcarpet": [
           {
            "colorbar": {
             "outlinewidth": 0,
             "ticks": ""
            },
            "type": "contourcarpet"
           }
          ],
          "heatmap": [
           {
            "colorbar": {
             "outlinewidth": 0,
             "ticks": ""
            },
            "colorscale": [
             [
              0,
              "#0d0887"
             ],
             [
              0.1111111111111111,
              "#46039f"
             ],
             [
              0.2222222222222222,
              "#7201a8"
             ],
             [
              0.3333333333333333,
              "#9c179e"
             ],
             [
              0.4444444444444444,
              "#bd3786"
             ],
             [
              0.5555555555555556,
              "#d8576b"
             ],
             [
              0.6666666666666666,
              "#ed7953"
             ],
             [
              0.7777777777777778,
              "#fb9f3a"
             ],
             [
              0.8888888888888888,
              "#fdca26"
             ],
             [
              1,
              "#f0f921"
             ]
            ],
            "type": "heatmap"
           }
          ],
          "heatmapgl": [
           {
            "colorbar": {
             "outlinewidth": 0,
             "ticks": ""
            },
            "colorscale": [
             [
              0,
              "#0d0887"
             ],
             [
              0.1111111111111111,
              "#46039f"
             ],
             [
              0.2222222222222222,
              "#7201a8"
             ],
             [
              0.3333333333333333,
              "#9c179e"
             ],
             [
              0.4444444444444444,
              "#bd3786"
             ],
             [
              0.5555555555555556,
              "#d8576b"
             ],
             [
              0.6666666666666666,
              "#ed7953"
             ],
             [
              0.7777777777777778,
              "#fb9f3a"
             ],
             [
              0.8888888888888888,
              "#fdca26"
             ],
             [
              1,
              "#f0f921"
             ]
            ],
            "type": "heatmapgl"
           }
          ],
          "histogram": [
           {
            "marker": {
             "pattern": {
              "fillmode": "overlay",
              "size": 10,
              "solidity": 0.2
             }
            },
            "type": "histogram"
           }
          ],
          "histogram2d": [
           {
            "colorbar": {
             "outlinewidth": 0,
             "ticks": ""
            },
            "colorscale": [
             [
              0,
              "#0d0887"
             ],
             [
              0.1111111111111111,
              "#46039f"
             ],
             [
              0.2222222222222222,
              "#7201a8"
             ],
             [
              0.3333333333333333,
              "#9c179e"
             ],
             [
              0.4444444444444444,
              "#bd3786"
             ],
             [
              0.5555555555555556,
              "#d8576b"
             ],
             [
              0.6666666666666666,
              "#ed7953"
             ],
             [
              0.7777777777777778,
              "#fb9f3a"
             ],
             [
              0.8888888888888888,
              "#fdca26"
             ],
             [
              1,
              "#f0f921"
             ]
            ],
            "type": "histogram2d"
           }
          ],
          "histogram2dcontour": [
           {
            "colorbar": {
             "outlinewidth": 0,
             "ticks": ""
            },
            "colorscale": [
             [
              0,
              "#0d0887"
             ],
             [
              0.1111111111111111,
              "#46039f"
             ],
             [
              0.2222222222222222,
              "#7201a8"
             ],
             [
              0.3333333333333333,
              "#9c179e"
             ],
             [
              0.4444444444444444,
              "#bd3786"
             ],
             [
              0.5555555555555556,
              "#d8576b"
             ],
             [
              0.6666666666666666,
              "#ed7953"
             ],
             [
              0.7777777777777778,
              "#fb9f3a"
             ],
             [
              0.8888888888888888,
              "#fdca26"
             ],
             [
              1,
              "#f0f921"
             ]
            ],
            "type": "histogram2dcontour"
           }
          ],
          "mesh3d": [
           {
            "colorbar": {
             "outlinewidth": 0,
             "ticks": ""
            },
            "type": "mesh3d"
           }
          ],
          "parcoords": [
           {
            "line": {
             "colorbar": {
              "outlinewidth": 0,
              "ticks": ""
             }
            },
            "type": "parcoords"
           }
          ],
          "pie": [
           {
            "automargin": true,
            "type": "pie"
           }
          ],
          "scatter": [
           {
            "fillpattern": {
             "fillmode": "overlay",
             "size": 10,
             "solidity": 0.2
            },
            "type": "scatter"
           }
          ],
          "scatter3d": [
           {
            "line": {
             "colorbar": {
              "outlinewidth": 0,
              "ticks": ""
             }
            },
            "marker": {
             "colorbar": {
              "outlinewidth": 0,
              "ticks": ""
             }
            },
            "type": "scatter3d"
           }
          ],
          "scattercarpet": [
           {
            "marker": {
             "colorbar": {
              "outlinewidth": 0,
              "ticks": ""
             }
            },
            "type": "scattercarpet"
           }
          ],
          "scattergeo": [
           {
            "marker": {
             "colorbar": {
              "outlinewidth": 0,
              "ticks": ""
             }
            },
            "type": "scattergeo"
           }
          ],
          "scattergl": [
           {
            "marker": {
             "colorbar": {
              "outlinewidth": 0,
              "ticks": ""
             }
            },
            "type": "scattergl"
           }
          ],
          "scattermapbox": [
           {
            "marker": {
             "colorbar": {
              "outlinewidth": 0,
              "ticks": ""
             }
            },
            "type": "scattermapbox"
           }
          ],
          "scatterpolar": [
           {
            "marker": {
             "colorbar": {
              "outlinewidth": 0,
              "ticks": ""
             }
            },
            "type": "scatterpolar"
           }
          ],
          "scatterpolargl": [
           {
            "marker": {
             "colorbar": {
              "outlinewidth": 0,
              "ticks": ""
             }
            },
            "type": "scatterpolargl"
           }
          ],
          "scatterternary": [
           {
            "marker": {
             "colorbar": {
              "outlinewidth": 0,
              "ticks": ""
             }
            },
            "type": "scatterternary"
           }
          ],
          "surface": [
           {
            "colorbar": {
             "outlinewidth": 0,
             "ticks": ""
            },
            "colorscale": [
             [
              0,
              "#0d0887"
             ],
             [
              0.1111111111111111,
              "#46039f"
             ],
             [
              0.2222222222222222,
              "#7201a8"
             ],
             [
              0.3333333333333333,
              "#9c179e"
             ],
             [
              0.4444444444444444,
              "#bd3786"
             ],
             [
              0.5555555555555556,
              "#d8576b"
             ],
             [
              0.6666666666666666,
              "#ed7953"
             ],
             [
              0.7777777777777778,
              "#fb9f3a"
             ],
             [
              0.8888888888888888,
              "#fdca26"
             ],
             [
              1,
              "#f0f921"
             ]
            ],
            "type": "surface"
           }
          ],
          "table": [
           {
            "cells": {
             "fill": {
              "color": "#EBF0F8"
             },
             "line": {
              "color": "white"
             }
            },
            "header": {
             "fill": {
              "color": "#C8D4E3"
             },
             "line": {
              "color": "white"
             }
            },
            "type": "table"
           }
          ]
         },
         "layout": {
          "annotationdefaults": {
           "arrowcolor": "#2a3f5f",
           "arrowhead": 0,
           "arrowwidth": 1
          },
          "autotypenumbers": "strict",
          "coloraxis": {
           "colorbar": {
            "outlinewidth": 0,
            "ticks": ""
           }
          },
          "colorscale": {
           "diverging": [
            [
             0,
             "#8e0152"
            ],
            [
             0.1,
             "#c51b7d"
            ],
            [
             0.2,
             "#de77ae"
            ],
            [
             0.3,
             "#f1b6da"
            ],
            [
             0.4,
             "#fde0ef"
            ],
            [
             0.5,
             "#f7f7f7"
            ],
            [
             0.6,
             "#e6f5d0"
            ],
            [
             0.7,
             "#b8e186"
            ],
            [
             0.8,
             "#7fbc41"
            ],
            [
             0.9,
             "#4d9221"
            ],
            [
             1,
             "#276419"
            ]
           ],
           "sequential": [
            [
             0,
             "#0d0887"
            ],
            [
             0.1111111111111111,
             "#46039f"
            ],
            [
             0.2222222222222222,
             "#7201a8"
            ],
            [
             0.3333333333333333,
             "#9c179e"
            ],
            [
             0.4444444444444444,
             "#bd3786"
            ],
            [
             0.5555555555555556,
             "#d8576b"
            ],
            [
             0.6666666666666666,
             "#ed7953"
            ],
            [
             0.7777777777777778,
             "#fb9f3a"
            ],
            [
             0.8888888888888888,
             "#fdca26"
            ],
            [
             1,
             "#f0f921"
            ]
           ],
           "sequentialminus": [
            [
             0,
             "#0d0887"
            ],
            [
             0.1111111111111111,
             "#46039f"
            ],
            [
             0.2222222222222222,
             "#7201a8"
            ],
            [
             0.3333333333333333,
             "#9c179e"
            ],
            [
             0.4444444444444444,
             "#bd3786"
            ],
            [
             0.5555555555555556,
             "#d8576b"
            ],
            [
             0.6666666666666666,
             "#ed7953"
            ],
            [
             0.7777777777777778,
             "#fb9f3a"
            ],
            [
             0.8888888888888888,
             "#fdca26"
            ],
            [
             1,
             "#f0f921"
            ]
           ]
          },
          "colorway": [
           "#636efa",
           "#EF553B",
           "#00cc96",
           "#ab63fa",
           "#FFA15A",
           "#19d3f3",
           "#FF6692",
           "#B6E880",
           "#FF97FF",
           "#FECB52"
          ],
          "font": {
           "color": "#2a3f5f"
          },
          "geo": {
           "bgcolor": "white",
           "lakecolor": "white",
           "landcolor": "#E5ECF6",
           "showlakes": true,
           "showland": true,
           "subunitcolor": "white"
          },
          "hoverlabel": {
           "align": "left"
          },
          "hovermode": "closest",
          "mapbox": {
           "style": "light"
          },
          "paper_bgcolor": "white",
          "plot_bgcolor": "#E5ECF6",
          "polar": {
           "angularaxis": {
            "gridcolor": "white",
            "linecolor": "white",
            "ticks": ""
           },
           "bgcolor": "#E5ECF6",
           "radialaxis": {
            "gridcolor": "white",
            "linecolor": "white",
            "ticks": ""
           }
          },
          "scene": {
           "xaxis": {
            "backgroundcolor": "#E5ECF6",
            "gridcolor": "white",
            "gridwidth": 2,
            "linecolor": "white",
            "showbackground": true,
            "ticks": "",
            "zerolinecolor": "white"
           },
           "yaxis": {
            "backgroundcolor": "#E5ECF6",
            "gridcolor": "white",
            "gridwidth": 2,
            "linecolor": "white",
            "showbackground": true,
            "ticks": "",
            "zerolinecolor": "white"
           },
           "zaxis": {
            "backgroundcolor": "#E5ECF6",
            "gridcolor": "white",
            "gridwidth": 2,
            "linecolor": "white",
            "showbackground": true,
            "ticks": "",
            "zerolinecolor": "white"
           }
          },
          "shapedefaults": {
           "line": {
            "color": "#2a3f5f"
           }
          },
          "ternary": {
           "aaxis": {
            "gridcolor": "white",
            "linecolor": "white",
            "ticks": ""
           },
           "baxis": {
            "gridcolor": "white",
            "linecolor": "white",
            "ticks": ""
           },
           "bgcolor": "#E5ECF6",
           "caxis": {
            "gridcolor": "white",
            "linecolor": "white",
            "ticks": ""
           }
          },
          "title": {
           "x": 0.05
          },
          "xaxis": {
           "automargin": true,
           "gridcolor": "white",
           "linecolor": "white",
           "ticks": "",
           "title": {
            "standoff": 15
           },
           "zerolinecolor": "white",
           "zerolinewidth": 2
          },
          "yaxis": {
           "automargin": true,
           "gridcolor": "white",
           "linecolor": "white",
           "ticks": "",
           "title": {
            "standoff": 15
           },
           "zerolinecolor": "white",
           "zerolinewidth": 2
          }
         }
        }
       }
      }
     },
     "metadata": {},
     "output_type": "display_data"
    }
   ],
   "source": [
    "# Reshape the data for prediction\n",
    "X_pred = np.array([dropped['coord'][i:i+timesteps] for i in range(len(dropped) - timesteps)])\n",
    "\n",
    "# Use the autoencoder to predict on the data\n",
    "predictions = autoencoder.predict(X_pred)\n",
    "# Calculate reconstruction error for each sequence\n",
    "mse = np.mean(np.power(dropped.values[-predictions.shape[0]:] - predictions[:, -1, :], 2), axis=1)\n",
    "\n",
    "# Scale the MSE to a percentage\n",
    "min_mse = np.min(mse)\n",
    "max_mse = np.max(mse)\n",
    "mse_percentage = ((mse - min_mse) / (max_mse - min_mse)) * 100\n",
    "\n",
    "# Detect anomalies by comparing the scaled reconstruction error to some threshold\n",
    "threshold = 60  # Define a threshold value (in percentage)\n",
    "\n",
    "# Add 'is_anomalous' column to the DataFrame\n",
    "dropped = dropped.iloc[-predictions.shape[0]:].copy()\n",
    "dropped['is_anomalous'] = mse_percentage > threshold\n",
    "dropped['mse_percentage'] = mse_percentage\n",
    "normal['threshold'] = threshold\n",
    "\n",
    "\n",
    "\n",
    "# Create a new figure\n",
    "fig = go.Figure()\n",
    "\n",
    "\n",
    "# Add a line for the actual load\n",
    "fig.add_trace(go.Scatter(\n",
    "    x=dropped.index,\n",
    "    y=dropped[\"coord\"],\n",
    "    mode='lines',\n",
    "    name='coord',\n",
    "    line=dict(color='green'),  # specify line color here\n",
    "))\n",
    "\n",
    "# Add a line for the anomalous load\n",
    "fig.add_trace(go.Scatter(\n",
    "    x=dropped[dropped['is_anomalous']].index,\n",
    "    y=dropped[dropped['is_anomalous']][\"coord\"],\n",
    "    mode='markers',\n",
    "    name='Anomalous coord',\n",
    "    marker=dict(color='red', size=5),  # specify marker color and size here\n",
    "))\n",
    "\n",
    "# Show the plot\n",
    "fig.show()\n",
    "dropped.to_csv('dropped_result.csv')"
   ]
  }
 ],
 "metadata": {
  "kernelspec": {
   "display_name": ".venv",
   "language": "python",
   "name": "python3"
  },
  "language_info": {
   "codemirror_mode": {
    "name": "ipython",
    "version": 3
   },
   "file_extension": ".py",
   "mimetype": "text/x-python",
   "name": "python",
   "nbconvert_exporter": "python",
   "pygments_lexer": "ipython3",
   "version": "3.11.5"
  },
  "orig_nbformat": 4
 },
 "nbformat": 4,
 "nbformat_minor": 2
}
