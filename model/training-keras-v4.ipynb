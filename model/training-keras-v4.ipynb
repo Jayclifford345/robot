{
 "cells": [
  {
   "attachments": {},
   "cell_type": "markdown",
   "metadata": {},
   "source": [
    "# ML Model Example\n",
    "\n",
    "This example provides a simply query tutorial for InfluxDB Cloud Dedicated. "
   ]
  },
  {
   "cell_type": "code",
   "execution_count": 41,
   "metadata": {},
   "outputs": [],
   "source": [
    "import influxdb_client_3 as InfluxDBClient3\n",
    "import numpy as np\n",
    "from keras.layers import Input, Dense, LSTM, RepeatVector, TimeDistributed, BatchNormalization, Normalization\n",
    "from keras.models import Model\n",
    "from keras.callbacks import TensorBoard\n",
    "from sklearn.model_selection import train_test_split\n",
    "from sklearn.preprocessing import StandardScaler, MinMaxScaler, RobustScaler\n",
    "from keras.models import Model, load_model\n",
    "from keras.layers import Input, Dense, LSTM, RepeatVector, TimeDistributed,  Conv1D, Bidirectional\n",
    "from keras.callbacks import ModelCheckpoint\n",
    "from keras.optimizers import Adam\n",
    "from huggingface_hub import push_to_hub_keras\n",
    "import plotly.io as pio\n",
    "import plotly.express as px\n",
    "import plotly.graph_objects as go\n",
    "pio.renderers.default = \"vscode\"\n",
    "import os, datetime\n"
   ]
  },
  {
   "cell_type": "code",
   "execution_count": 42,
   "metadata": {},
   "outputs": [],
   "source": [
    "token = 'dzfx2CLrpmGjbTHmdbnw1cSB7Op89g6cQ2VD7EVRJYHiF8UN8bRqIaBK92TxnCa906qWjjV6KVk_TQrW0uH5IA=='\n",
    "host = 'eu-central-1-1.aws.cloud2.influxdata.com'    \n",
    "org = 'Jay-IOx'\n",
    "db = 'robot'\n",
    "\n",
    "client = InfluxDBClient3.InfluxDBClient3(token=token,\n",
    "                         host=host,\n",
    "                         org=org,\n",
    "                         database=db) \n",
    "    \n",
    "    \n"
   ]
  },
  {
   "cell_type": "code",
   "execution_count": 43,
   "metadata": {},
   "outputs": [
    {
     "data": {
      "application/vnd.plotly.v1+json": {
       "config": {
        "plotlyServerURL": "https://plot.ly"
       },
       "data": [
        {
         "hovertemplate": "variable=coord<br>time=%{x}<br>value=%{y}<extra></extra>",
         "legendgroup": "coord",
         "line": {
          "color": "#636efa",
          "dash": "solid"
         },
         "marker": {
          "symbol": "circle"
         },
         "mode": "lines",
         "name": "coord",
         "orientation": "v",
         "showlegend": true,
         "type": "scatter",
         "x": [
          "2023-10-11T13:16:30",
          "2023-10-11T13:16:33",
          "2023-10-11T13:16:36",
          "2023-10-11T13:16:39",
          "2023-10-11T13:16:42",
          "2023-10-11T13:16:45",
          "2023-10-11T13:16:48",
          "2023-10-11T13:16:51",
          "2023-10-11T13:16:54",
          "2023-10-11T13:16:57",
          "2023-10-11T13:17:00",
          "2023-10-11T13:17:03",
          "2023-10-11T13:17:06",
          "2023-10-11T13:17:09",
          "2023-10-11T13:17:12",
          "2023-10-11T13:17:15",
          "2023-10-11T13:17:18",
          "2023-10-11T13:17:21",
          "2023-10-11T13:17:24",
          "2023-10-11T13:17:27",
          "2023-10-11T13:17:30",
          "2023-10-11T13:17:33",
          "2023-10-11T13:17:36",
          "2023-10-11T13:17:39",
          "2023-10-11T13:17:42",
          "2023-10-11T13:17:45",
          "2023-10-11T13:17:48",
          "2023-10-11T13:17:51",
          "2023-10-11T13:17:54",
          "2023-10-11T13:17:57",
          "2023-10-11T13:18:00",
          "2023-10-11T13:18:03",
          "2023-10-11T13:18:06",
          "2023-10-11T13:18:09",
          "2023-10-11T13:18:12",
          "2023-10-11T13:18:15",
          "2023-10-11T13:18:18",
          "2023-10-11T13:18:21",
          "2023-10-11T13:18:24",
          "2023-10-11T13:18:27",
          "2023-10-11T13:18:30",
          "2023-10-11T13:18:33",
          "2023-10-11T13:18:36",
          "2023-10-11T13:18:39",
          "2023-10-11T13:18:42",
          "2023-10-11T13:18:45",
          "2023-10-11T13:18:48",
          "2023-10-11T13:18:51",
          "2023-10-11T13:18:54",
          "2023-10-11T13:18:57",
          "2023-10-11T13:19:00",
          "2023-10-11T13:19:03",
          "2023-10-11T13:19:06",
          "2023-10-11T13:19:09",
          "2023-10-11T13:19:12",
          "2023-10-11T13:19:15",
          "2023-10-11T13:19:18",
          "2023-10-11T13:19:21",
          "2023-10-11T13:19:24",
          "2023-10-11T13:19:27",
          "2023-10-11T13:19:30",
          "2023-10-11T13:19:33",
          "2023-10-11T13:19:36",
          "2023-10-11T13:19:39",
          "2023-10-11T13:19:42",
          "2023-10-11T13:19:45",
          "2023-10-11T13:19:48",
          "2023-10-11T13:19:51",
          "2023-10-11T13:19:54",
          "2023-10-11T13:19:57",
          "2023-10-11T13:20:00",
          "2023-10-11T13:20:03",
          "2023-10-11T13:20:06",
          "2023-10-11T13:20:09",
          "2023-10-11T13:20:12",
          "2023-10-11T13:20:15",
          "2023-10-11T13:20:18",
          "2023-10-11T13:20:21",
          "2023-10-11T13:20:24",
          "2023-10-11T13:20:27",
          "2023-10-11T13:20:30",
          "2023-10-11T13:20:33",
          "2023-10-11T13:20:36",
          "2023-10-11T13:20:39",
          "2023-10-11T13:20:42",
          "2023-10-11T13:20:45",
          "2023-10-11T13:20:48",
          "2023-10-11T13:20:51",
          "2023-10-11T13:20:54",
          "2023-10-11T13:20:57",
          "2023-10-11T13:21:00"
         ],
         "xaxis": "x",
         "y": [
          -156.57657142857144,
          -152.38771428571428,
          -146.15942857142858,
          -137.8757142857143,
          -127.5185714285714,
          -117.16142857142859,
          -106.80428571428573,
          -94.12457142857143,
          -86.90828571428571,
          -84.99142857142859,
          -92.082,
          -40.327999999999996,
          8.201999999999993,
          -0.7379999999999995,
          -6.380000000000001,
          -5.051999999999995,
          -75.53999999999999,
          -143.018,
          -138.762,
          -129.346,
          -120.61200000000001,
          -101.936,
          -92.804,
          -37.269999999999996,
          12.985999999999995,
          4.096000000000001,
          -3.7760000000000047,
          -6.213999999999999,
          -73.89000000000001,
          -141.73,
          -137.458,
          -125.23999999999998,
          -113.07800000000002,
          -97.214,
          -86.66600000000001,
          -31.105999999999995,
          16.381999999999998,
          45.803999999999995,
          37.87399999999999,
          35.53399999999998,
          17.767999999999994,
          -0.08799999999999955,
          -48.388,
          -38.96,
          -29.560000000000002,
          -62.718,
          -102.08800000000001,
          -92.90400000000001,
          -42.56800000000001,
          -11.569999999999997,
          -20.522,
          -23.028,
          -25.677999999999997,
          -44.816,
          -92.01200000000001,
          -88.66600000000001,
          -76.418,
          -67.356,
          -105.602,
          -96.44999999999999,
          -39.916,
          -60.489999999999995,
          -69.388,
          -71.69200000000001,
          -73.988,
          -141.594,
          -139.876,
          -137.71599999999998,
          -128.37000000000003,
          -119.68199999999999,
          -101.99600000000001,
          -92.83399999999999,
          -35.206,
          15.070000000000011,
          6.122,
          -3.6499999999999972,
          -6.126000000000007,
          -22.378,
          -41.446000000000005,
          -40.222,
          -28.088,
          -19.258000000000003,
          -51.934000000000005,
          -90.194,
          -31.574000000000005,
          15.895999999999997,
          5.871999999999997,
          -5.078000000000003,
          -7.474000000000009,
          -20.084000000000003,
          -37.89
         ],
         "yaxis": "y"
        }
       ],
       "layout": {
        "legend": {
         "title": {
          "text": "variable"
         },
         "tracegroupgap": 0
        },
        "template": {
         "data": {
          "bar": [
           {
            "error_x": {
             "color": "#2a3f5f"
            },
            "error_y": {
             "color": "#2a3f5f"
            },
            "marker": {
             "line": {
              "color": "#E5ECF6",
              "width": 0.5
             },
             "pattern": {
              "fillmode": "overlay",
              "size": 10,
              "solidity": 0.2
             }
            },
            "type": "bar"
           }
          ],
          "barpolar": [
           {
            "marker": {
             "line": {
              "color": "#E5ECF6",
              "width": 0.5
             },
             "pattern": {
              "fillmode": "overlay",
              "size": 10,
              "solidity": 0.2
             }
            },
            "type": "barpolar"
           }
          ],
          "carpet": [
           {
            "aaxis": {
             "endlinecolor": "#2a3f5f",
             "gridcolor": "white",
             "linecolor": "white",
             "minorgridcolor": "white",
             "startlinecolor": "#2a3f5f"
            },
            "baxis": {
             "endlinecolor": "#2a3f5f",
             "gridcolor": "white",
             "linecolor": "white",
             "minorgridcolor": "white",
             "startlinecolor": "#2a3f5f"
            },
            "type": "carpet"
           }
          ],
          "choropleth": [
           {
            "colorbar": {
             "outlinewidth": 0,
             "ticks": ""
            },
            "type": "choropleth"
           }
          ],
          "contour": [
           {
            "colorbar": {
             "outlinewidth": 0,
             "ticks": ""
            },
            "colorscale": [
             [
              0,
              "#0d0887"
             ],
             [
              0.1111111111111111,
              "#46039f"
             ],
             [
              0.2222222222222222,
              "#7201a8"
             ],
             [
              0.3333333333333333,
              "#9c179e"
             ],
             [
              0.4444444444444444,
              "#bd3786"
             ],
             [
              0.5555555555555556,
              "#d8576b"
             ],
             [
              0.6666666666666666,
              "#ed7953"
             ],
             [
              0.7777777777777778,
              "#fb9f3a"
             ],
             [
              0.8888888888888888,
              "#fdca26"
             ],
             [
              1,
              "#f0f921"
             ]
            ],
            "type": "contour"
           }
          ],
          "contourcarpet": [
           {
            "colorbar": {
             "outlinewidth": 0,
             "ticks": ""
            },
            "type": "contourcarpet"
           }
          ],
          "heatmap": [
           {
            "colorbar": {
             "outlinewidth": 0,
             "ticks": ""
            },
            "colorscale": [
             [
              0,
              "#0d0887"
             ],
             [
              0.1111111111111111,
              "#46039f"
             ],
             [
              0.2222222222222222,
              "#7201a8"
             ],
             [
              0.3333333333333333,
              "#9c179e"
             ],
             [
              0.4444444444444444,
              "#bd3786"
             ],
             [
              0.5555555555555556,
              "#d8576b"
             ],
             [
              0.6666666666666666,
              "#ed7953"
             ],
             [
              0.7777777777777778,
              "#fb9f3a"
             ],
             [
              0.8888888888888888,
              "#fdca26"
             ],
             [
              1,
              "#f0f921"
             ]
            ],
            "type": "heatmap"
           }
          ],
          "heatmapgl": [
           {
            "colorbar": {
             "outlinewidth": 0,
             "ticks": ""
            },
            "colorscale": [
             [
              0,
              "#0d0887"
             ],
             [
              0.1111111111111111,
              "#46039f"
             ],
             [
              0.2222222222222222,
              "#7201a8"
             ],
             [
              0.3333333333333333,
              "#9c179e"
             ],
             [
              0.4444444444444444,
              "#bd3786"
             ],
             [
              0.5555555555555556,
              "#d8576b"
             ],
             [
              0.6666666666666666,
              "#ed7953"
             ],
             [
              0.7777777777777778,
              "#fb9f3a"
             ],
             [
              0.8888888888888888,
              "#fdca26"
             ],
             [
              1,
              "#f0f921"
             ]
            ],
            "type": "heatmapgl"
           }
          ],
          "histogram": [
           {
            "marker": {
             "pattern": {
              "fillmode": "overlay",
              "size": 10,
              "solidity": 0.2
             }
            },
            "type": "histogram"
           }
          ],
          "histogram2d": [
           {
            "colorbar": {
             "outlinewidth": 0,
             "ticks": ""
            },
            "colorscale": [
             [
              0,
              "#0d0887"
             ],
             [
              0.1111111111111111,
              "#46039f"
             ],
             [
              0.2222222222222222,
              "#7201a8"
             ],
             [
              0.3333333333333333,
              "#9c179e"
             ],
             [
              0.4444444444444444,
              "#bd3786"
             ],
             [
              0.5555555555555556,
              "#d8576b"
             ],
             [
              0.6666666666666666,
              "#ed7953"
             ],
             [
              0.7777777777777778,
              "#fb9f3a"
             ],
             [
              0.8888888888888888,
              "#fdca26"
             ],
             [
              1,
              "#f0f921"
             ]
            ],
            "type": "histogram2d"
           }
          ],
          "histogram2dcontour": [
           {
            "colorbar": {
             "outlinewidth": 0,
             "ticks": ""
            },
            "colorscale": [
             [
              0,
              "#0d0887"
             ],
             [
              0.1111111111111111,
              "#46039f"
             ],
             [
              0.2222222222222222,
              "#7201a8"
             ],
             [
              0.3333333333333333,
              "#9c179e"
             ],
             [
              0.4444444444444444,
              "#bd3786"
             ],
             [
              0.5555555555555556,
              "#d8576b"
             ],
             [
              0.6666666666666666,
              "#ed7953"
             ],
             [
              0.7777777777777778,
              "#fb9f3a"
             ],
             [
              0.8888888888888888,
              "#fdca26"
             ],
             [
              1,
              "#f0f921"
             ]
            ],
            "type": "histogram2dcontour"
           }
          ],
          "mesh3d": [
           {
            "colorbar": {
             "outlinewidth": 0,
             "ticks": ""
            },
            "type": "mesh3d"
           }
          ],
          "parcoords": [
           {
            "line": {
             "colorbar": {
              "outlinewidth": 0,
              "ticks": ""
             }
            },
            "type": "parcoords"
           }
          ],
          "pie": [
           {
            "automargin": true,
            "type": "pie"
           }
          ],
          "scatter": [
           {
            "fillpattern": {
             "fillmode": "overlay",
             "size": 10,
             "solidity": 0.2
            },
            "type": "scatter"
           }
          ],
          "scatter3d": [
           {
            "line": {
             "colorbar": {
              "outlinewidth": 0,
              "ticks": ""
             }
            },
            "marker": {
             "colorbar": {
              "outlinewidth": 0,
              "ticks": ""
             }
            },
            "type": "scatter3d"
           }
          ],
          "scattercarpet": [
           {
            "marker": {
             "colorbar": {
              "outlinewidth": 0,
              "ticks": ""
             }
            },
            "type": "scattercarpet"
           }
          ],
          "scattergeo": [
           {
            "marker": {
             "colorbar": {
              "outlinewidth": 0,
              "ticks": ""
             }
            },
            "type": "scattergeo"
           }
          ],
          "scattergl": [
           {
            "marker": {
             "colorbar": {
              "outlinewidth": 0,
              "ticks": ""
             }
            },
            "type": "scattergl"
           }
          ],
          "scattermapbox": [
           {
            "marker": {
             "colorbar": {
              "outlinewidth": 0,
              "ticks": ""
             }
            },
            "type": "scattermapbox"
           }
          ],
          "scatterpolar": [
           {
            "marker": {
             "colorbar": {
              "outlinewidth": 0,
              "ticks": ""
             }
            },
            "type": "scatterpolar"
           }
          ],
          "scatterpolargl": [
           {
            "marker": {
             "colorbar": {
              "outlinewidth": 0,
              "ticks": ""
             }
            },
            "type": "scatterpolargl"
           }
          ],
          "scatterternary": [
           {
            "marker": {
             "colorbar": {
              "outlinewidth": 0,
              "ticks": ""
             }
            },
            "type": "scatterternary"
           }
          ],
          "surface": [
           {
            "colorbar": {
             "outlinewidth": 0,
             "ticks": ""
            },
            "colorscale": [
             [
              0,
              "#0d0887"
             ],
             [
              0.1111111111111111,
              "#46039f"
             ],
             [
              0.2222222222222222,
              "#7201a8"
             ],
             [
              0.3333333333333333,
              "#9c179e"
             ],
             [
              0.4444444444444444,
              "#bd3786"
             ],
             [
              0.5555555555555556,
              "#d8576b"
             ],
             [
              0.6666666666666666,
              "#ed7953"
             ],
             [
              0.7777777777777778,
              "#fb9f3a"
             ],
             [
              0.8888888888888888,
              "#fdca26"
             ],
             [
              1,
              "#f0f921"
             ]
            ],
            "type": "surface"
           }
          ],
          "table": [
           {
            "cells": {
             "fill": {
              "color": "#EBF0F8"
             },
             "line": {
              "color": "white"
             }
            },
            "header": {
             "fill": {
              "color": "#C8D4E3"
             },
             "line": {
              "color": "white"
             }
            },
            "type": "table"
           }
          ]
         },
         "layout": {
          "annotationdefaults": {
           "arrowcolor": "#2a3f5f",
           "arrowhead": 0,
           "arrowwidth": 1
          },
          "autotypenumbers": "strict",
          "coloraxis": {
           "colorbar": {
            "outlinewidth": 0,
            "ticks": ""
           }
          },
          "colorscale": {
           "diverging": [
            [
             0,
             "#8e0152"
            ],
            [
             0.1,
             "#c51b7d"
            ],
            [
             0.2,
             "#de77ae"
            ],
            [
             0.3,
             "#f1b6da"
            ],
            [
             0.4,
             "#fde0ef"
            ],
            [
             0.5,
             "#f7f7f7"
            ],
            [
             0.6,
             "#e6f5d0"
            ],
            [
             0.7,
             "#b8e186"
            ],
            [
             0.8,
             "#7fbc41"
            ],
            [
             0.9,
             "#4d9221"
            ],
            [
             1,
             "#276419"
            ]
           ],
           "sequential": [
            [
             0,
             "#0d0887"
            ],
            [
             0.1111111111111111,
             "#46039f"
            ],
            [
             0.2222222222222222,
             "#7201a8"
            ],
            [
             0.3333333333333333,
             "#9c179e"
            ],
            [
             0.4444444444444444,
             "#bd3786"
            ],
            [
             0.5555555555555556,
             "#d8576b"
            ],
            [
             0.6666666666666666,
             "#ed7953"
            ],
            [
             0.7777777777777778,
             "#fb9f3a"
            ],
            [
             0.8888888888888888,
             "#fdca26"
            ],
            [
             1,
             "#f0f921"
            ]
           ],
           "sequentialminus": [
            [
             0,
             "#0d0887"
            ],
            [
             0.1111111111111111,
             "#46039f"
            ],
            [
             0.2222222222222222,
             "#7201a8"
            ],
            [
             0.3333333333333333,
             "#9c179e"
            ],
            [
             0.4444444444444444,
             "#bd3786"
            ],
            [
             0.5555555555555556,
             "#d8576b"
            ],
            [
             0.6666666666666666,
             "#ed7953"
            ],
            [
             0.7777777777777778,
             "#fb9f3a"
            ],
            [
             0.8888888888888888,
             "#fdca26"
            ],
            [
             1,
             "#f0f921"
            ]
           ]
          },
          "colorway": [
           "#636efa",
           "#EF553B",
           "#00cc96",
           "#ab63fa",
           "#FFA15A",
           "#19d3f3",
           "#FF6692",
           "#B6E880",
           "#FF97FF",
           "#FECB52"
          ],
          "font": {
           "color": "#2a3f5f"
          },
          "geo": {
           "bgcolor": "white",
           "lakecolor": "white",
           "landcolor": "#E5ECF6",
           "showlakes": true,
           "showland": true,
           "subunitcolor": "white"
          },
          "hoverlabel": {
           "align": "left"
          },
          "hovermode": "closest",
          "mapbox": {
           "style": "light"
          },
          "paper_bgcolor": "white",
          "plot_bgcolor": "#E5ECF6",
          "polar": {
           "angularaxis": {
            "gridcolor": "white",
            "linecolor": "white",
            "ticks": ""
           },
           "bgcolor": "#E5ECF6",
           "radialaxis": {
            "gridcolor": "white",
            "linecolor": "white",
            "ticks": ""
           }
          },
          "scene": {
           "xaxis": {
            "backgroundcolor": "#E5ECF6",
            "gridcolor": "white",
            "gridwidth": 2,
            "linecolor": "white",
            "showbackground": true,
            "ticks": "",
            "zerolinecolor": "white"
           },
           "yaxis": {
            "backgroundcolor": "#E5ECF6",
            "gridcolor": "white",
            "gridwidth": 2,
            "linecolor": "white",
            "showbackground": true,
            "ticks": "",
            "zerolinecolor": "white"
           },
           "zaxis": {
            "backgroundcolor": "#E5ECF6",
            "gridcolor": "white",
            "gridwidth": 2,
            "linecolor": "white",
            "showbackground": true,
            "ticks": "",
            "zerolinecolor": "white"
           }
          },
          "shapedefaults": {
           "line": {
            "color": "#2a3f5f"
           }
          },
          "ternary": {
           "aaxis": {
            "gridcolor": "white",
            "linecolor": "white",
            "ticks": ""
           },
           "baxis": {
            "gridcolor": "white",
            "linecolor": "white",
            "ticks": ""
           },
           "bgcolor": "#E5ECF6",
           "caxis": {
            "gridcolor": "white",
            "linecolor": "white",
            "ticks": ""
           }
          },
          "title": {
           "x": 0.05
          },
          "xaxis": {
           "automargin": true,
           "gridcolor": "white",
           "linecolor": "white",
           "ticks": "",
           "title": {
            "standoff": 15
           },
           "zerolinecolor": "white",
           "zerolinewidth": 2
          },
          "yaxis": {
           "automargin": true,
           "gridcolor": "white",
           "linecolor": "white",
           "ticks": "",
           "title": {
            "standoff": 15
           },
           "zerolinecolor": "white",
           "zerolinewidth": 2
          }
         }
        },
        "title": {
         "text": "raw coord"
        },
        "xaxis": {
         "anchor": "y",
         "domain": [
          0,
          1
         ],
         "title": {
          "text": "time"
         }
        },
        "yaxis": {
         "anchor": "x",
         "domain": [
          0,
          1
         ],
         "title": {
          "text": "value"
         }
        }
       }
      }
     },
     "metadata": {},
     "output_type": "display_data"
    }
   ],
   "source": [
    "query = '''SELECT MOVING_AVERAGE(last(\"coord\"), 5) as coord FROM \"joints\" WHERE time >= 1697030174180ms and time <= 1697030462986ms GROUP BY time(3s) fill(linear)'''\n",
    "table = client.query(query=query, language=\"influxql\")\n",
    "normal = table.to_pandas().drop(columns=['iox::measurement']).set_index('time').dropna(how='all')\n",
    "fig = px.line(normal, y=[\"coord\"], title='raw coord' )\n",
    "fig.show()"
   ]
  },
  {
   "cell_type": "code",
   "execution_count": 44,
   "metadata": {},
   "outputs": [
    {
     "data": {
      "application/vnd.plotly.v1+json": {
       "config": {
        "plotlyServerURL": "https://plot.ly"
       },
       "data": [
        {
         "hovertemplate": "variable=coord<br>time=%{x}<br>value=%{y}<extra></extra>",
         "legendgroup": "coord",
         "line": {
          "color": "#636efa",
          "dash": "solid"
         },
         "marker": {
          "symbol": "circle"
         },
         "mode": "lines",
         "name": "coord",
         "orientation": "v",
         "showlegend": true,
         "type": "scatter",
         "x": [
          "2023-10-11T13:24:30",
          "2023-10-11T13:24:33",
          "2023-10-11T13:24:36",
          "2023-10-11T13:24:39",
          "2023-10-11T13:24:42",
          "2023-10-11T13:24:45",
          "2023-10-11T13:24:48",
          "2023-10-11T13:24:51",
          "2023-10-11T13:24:54",
          "2023-10-11T13:24:57",
          "2023-10-11T13:25:00",
          "2023-10-11T13:25:03",
          "2023-10-11T13:25:06",
          "2023-10-11T13:25:09",
          "2023-10-11T13:25:12",
          "2023-10-11T13:25:15",
          "2023-10-11T13:25:18",
          "2023-10-11T13:25:21",
          "2023-10-11T13:25:24",
          "2023-10-11T13:25:27",
          "2023-10-11T13:25:30",
          "2023-10-11T13:25:33",
          "2023-10-11T13:25:36",
          "2023-10-11T13:25:39",
          "2023-10-11T13:25:42",
          "2023-10-11T13:25:45",
          "2023-10-11T13:25:48",
          "2023-10-11T13:25:51",
          "2023-10-11T13:25:54",
          "2023-10-11T13:25:57",
          "2023-10-11T13:26:00",
          "2023-10-11T13:26:03",
          "2023-10-11T13:26:06",
          "2023-10-11T13:26:09",
          "2023-10-11T13:26:12",
          "2023-10-11T13:26:15",
          "2023-10-11T13:26:18",
          "2023-10-11T13:26:21",
          "2023-10-11T13:26:24",
          "2023-10-11T13:26:27",
          "2023-10-11T13:26:30",
          "2023-10-11T13:26:33",
          "2023-10-11T13:26:36",
          "2023-10-11T13:26:39",
          "2023-10-11T13:26:42",
          "2023-10-11T13:26:45",
          "2023-10-11T13:26:48",
          "2023-10-11T13:26:51",
          "2023-10-11T13:26:54",
          "2023-10-11T13:26:57",
          "2023-10-11T13:27:00",
          "2023-10-11T13:27:03",
          "2023-10-11T13:27:06",
          "2023-10-11T13:27:09",
          "2023-10-11T13:27:12",
          "2023-10-11T13:27:15",
          "2023-10-11T13:27:18",
          "2023-10-11T13:27:21",
          "2023-10-11T13:27:24",
          "2023-10-11T13:27:27",
          "2023-10-11T13:27:30",
          "2023-10-11T13:27:33",
          "2023-10-11T13:27:36",
          "2023-10-11T13:27:39",
          "2023-10-11T13:27:42",
          "2023-10-11T13:27:45"
         ],
         "xaxis": "x",
         "y": [
          -87.036,
          -39.629999999999995,
          -4.999999999999995,
          -4.625999999999996,
          1.7320000000000022,
          11.719999999999992,
          -45.61,
          -32.85000000000001,
          17.678000000000004,
          20.99,
          20.639999999999997,
          27.107999999999993,
          -30.182,
          -87.47200000000001,
          -39.84599999999999,
          -57.38399999999999,
          -57.028,
          -50.681999999999995,
          -41.4,
          -98.65,
          -33.492000000000004,
          16.976000000000006,
          20.262,
          20.618000000000002,
          26.98799999999999,
          -30.3,
          -87.53,
          -39.92600000000001,
          -57.516,
          -57.108000000000004,
          -50.784,
          -39.824,
          -97.006,
          -31.778000000000002,
          18.690000000000005,
          21.988000000000003,
          20.662,
          29.534000000000002,
          -27.758000000000003,
          -84.98800000000001,
          -37.38200000000001,
          -54.302,
          -56.434000000000005,
          -50.118,
          -40.8,
          -97.99799999999999,
          -33.43599999999999,
          17.012,
          19.906000000000006,
          20.248000000000005,
          26.620000000000005,
          -30.69599999999999,
          -87.90799999999999,
          -39.895999999999994,
          -55.012,
          -54.602,
          -48.245999999999995,
          -40.65,
          -97.85,
          -35.14,
          15.278000000000002,
          18.562,
          20.602,
          28.079999999999995,
          -29.198,
          -86.404
         ],
         "yaxis": "y"
        }
       ],
       "layout": {
        "legend": {
         "title": {
          "text": "variable"
         },
         "tracegroupgap": 0
        },
        "template": {
         "data": {
          "bar": [
           {
            "error_x": {
             "color": "#2a3f5f"
            },
            "error_y": {
             "color": "#2a3f5f"
            },
            "marker": {
             "line": {
              "color": "#E5ECF6",
              "width": 0.5
             },
             "pattern": {
              "fillmode": "overlay",
              "size": 10,
              "solidity": 0.2
             }
            },
            "type": "bar"
           }
          ],
          "barpolar": [
           {
            "marker": {
             "line": {
              "color": "#E5ECF6",
              "width": 0.5
             },
             "pattern": {
              "fillmode": "overlay",
              "size": 10,
              "solidity": 0.2
             }
            },
            "type": "barpolar"
           }
          ],
          "carpet": [
           {
            "aaxis": {
             "endlinecolor": "#2a3f5f",
             "gridcolor": "white",
             "linecolor": "white",
             "minorgridcolor": "white",
             "startlinecolor": "#2a3f5f"
            },
            "baxis": {
             "endlinecolor": "#2a3f5f",
             "gridcolor": "white",
             "linecolor": "white",
             "minorgridcolor": "white",
             "startlinecolor": "#2a3f5f"
            },
            "type": "carpet"
           }
          ],
          "choropleth": [
           {
            "colorbar": {
             "outlinewidth": 0,
             "ticks": ""
            },
            "type": "choropleth"
           }
          ],
          "contour": [
           {
            "colorbar": {
             "outlinewidth": 0,
             "ticks": ""
            },
            "colorscale": [
             [
              0,
              "#0d0887"
             ],
             [
              0.1111111111111111,
              "#46039f"
             ],
             [
              0.2222222222222222,
              "#7201a8"
             ],
             [
              0.3333333333333333,
              "#9c179e"
             ],
             [
              0.4444444444444444,
              "#bd3786"
             ],
             [
              0.5555555555555556,
              "#d8576b"
             ],
             [
              0.6666666666666666,
              "#ed7953"
             ],
             [
              0.7777777777777778,
              "#fb9f3a"
             ],
             [
              0.8888888888888888,
              "#fdca26"
             ],
             [
              1,
              "#f0f921"
             ]
            ],
            "type": "contour"
           }
          ],
          "contourcarpet": [
           {
            "colorbar": {
             "outlinewidth": 0,
             "ticks": ""
            },
            "type": "contourcarpet"
           }
          ],
          "heatmap": [
           {
            "colorbar": {
             "outlinewidth": 0,
             "ticks": ""
            },
            "colorscale": [
             [
              0,
              "#0d0887"
             ],
             [
              0.1111111111111111,
              "#46039f"
             ],
             [
              0.2222222222222222,
              "#7201a8"
             ],
             [
              0.3333333333333333,
              "#9c179e"
             ],
             [
              0.4444444444444444,
              "#bd3786"
             ],
             [
              0.5555555555555556,
              "#d8576b"
             ],
             [
              0.6666666666666666,
              "#ed7953"
             ],
             [
              0.7777777777777778,
              "#fb9f3a"
             ],
             [
              0.8888888888888888,
              "#fdca26"
             ],
             [
              1,
              "#f0f921"
             ]
            ],
            "type": "heatmap"
           }
          ],
          "heatmapgl": [
           {
            "colorbar": {
             "outlinewidth": 0,
             "ticks": ""
            },
            "colorscale": [
             [
              0,
              "#0d0887"
             ],
             [
              0.1111111111111111,
              "#46039f"
             ],
             [
              0.2222222222222222,
              "#7201a8"
             ],
             [
              0.3333333333333333,
              "#9c179e"
             ],
             [
              0.4444444444444444,
              "#bd3786"
             ],
             [
              0.5555555555555556,
              "#d8576b"
             ],
             [
              0.6666666666666666,
              "#ed7953"
             ],
             [
              0.7777777777777778,
              "#fb9f3a"
             ],
             [
              0.8888888888888888,
              "#fdca26"
             ],
             [
              1,
              "#f0f921"
             ]
            ],
            "type": "heatmapgl"
           }
          ],
          "histogram": [
           {
            "marker": {
             "pattern": {
              "fillmode": "overlay",
              "size": 10,
              "solidity": 0.2
             }
            },
            "type": "histogram"
           }
          ],
          "histogram2d": [
           {
            "colorbar": {
             "outlinewidth": 0,
             "ticks": ""
            },
            "colorscale": [
             [
              0,
              "#0d0887"
             ],
             [
              0.1111111111111111,
              "#46039f"
             ],
             [
              0.2222222222222222,
              "#7201a8"
             ],
             [
              0.3333333333333333,
              "#9c179e"
             ],
             [
              0.4444444444444444,
              "#bd3786"
             ],
             [
              0.5555555555555556,
              "#d8576b"
             ],
             [
              0.6666666666666666,
              "#ed7953"
             ],
             [
              0.7777777777777778,
              "#fb9f3a"
             ],
             [
              0.8888888888888888,
              "#fdca26"
             ],
             [
              1,
              "#f0f921"
             ]
            ],
            "type": "histogram2d"
           }
          ],
          "histogram2dcontour": [
           {
            "colorbar": {
             "outlinewidth": 0,
             "ticks": ""
            },
            "colorscale": [
             [
              0,
              "#0d0887"
             ],
             [
              0.1111111111111111,
              "#46039f"
             ],
             [
              0.2222222222222222,
              "#7201a8"
             ],
             [
              0.3333333333333333,
              "#9c179e"
             ],
             [
              0.4444444444444444,
              "#bd3786"
             ],
             [
              0.5555555555555556,
              "#d8576b"
             ],
             [
              0.6666666666666666,
              "#ed7953"
             ],
             [
              0.7777777777777778,
              "#fb9f3a"
             ],
             [
              0.8888888888888888,
              "#fdca26"
             ],
             [
              1,
              "#f0f921"
             ]
            ],
            "type": "histogram2dcontour"
           }
          ],
          "mesh3d": [
           {
            "colorbar": {
             "outlinewidth": 0,
             "ticks": ""
            },
            "type": "mesh3d"
           }
          ],
          "parcoords": [
           {
            "line": {
             "colorbar": {
              "outlinewidth": 0,
              "ticks": ""
             }
            },
            "type": "parcoords"
           }
          ],
          "pie": [
           {
            "automargin": true,
            "type": "pie"
           }
          ],
          "scatter": [
           {
            "fillpattern": {
             "fillmode": "overlay",
             "size": 10,
             "solidity": 0.2
            },
            "type": "scatter"
           }
          ],
          "scatter3d": [
           {
            "line": {
             "colorbar": {
              "outlinewidth": 0,
              "ticks": ""
             }
            },
            "marker": {
             "colorbar": {
              "outlinewidth": 0,
              "ticks": ""
             }
            },
            "type": "scatter3d"
           }
          ],
          "scattercarpet": [
           {
            "marker": {
             "colorbar": {
              "outlinewidth": 0,
              "ticks": ""
             }
            },
            "type": "scattercarpet"
           }
          ],
          "scattergeo": [
           {
            "marker": {
             "colorbar": {
              "outlinewidth": 0,
              "ticks": ""
             }
            },
            "type": "scattergeo"
           }
          ],
          "scattergl": [
           {
            "marker": {
             "colorbar": {
              "outlinewidth": 0,
              "ticks": ""
             }
            },
            "type": "scattergl"
           }
          ],
          "scattermapbox": [
           {
            "marker": {
             "colorbar": {
              "outlinewidth": 0,
              "ticks": ""
             }
            },
            "type": "scattermapbox"
           }
          ],
          "scatterpolar": [
           {
            "marker": {
             "colorbar": {
              "outlinewidth": 0,
              "ticks": ""
             }
            },
            "type": "scatterpolar"
           }
          ],
          "scatterpolargl": [
           {
            "marker": {
             "colorbar": {
              "outlinewidth": 0,
              "ticks": ""
             }
            },
            "type": "scatterpolargl"
           }
          ],
          "scatterternary": [
           {
            "marker": {
             "colorbar": {
              "outlinewidth": 0,
              "ticks": ""
             }
            },
            "type": "scatterternary"
           }
          ],
          "surface": [
           {
            "colorbar": {
             "outlinewidth": 0,
             "ticks": ""
            },
            "colorscale": [
             [
              0,
              "#0d0887"
             ],
             [
              0.1111111111111111,
              "#46039f"
             ],
             [
              0.2222222222222222,
              "#7201a8"
             ],
             [
              0.3333333333333333,
              "#9c179e"
             ],
             [
              0.4444444444444444,
              "#bd3786"
             ],
             [
              0.5555555555555556,
              "#d8576b"
             ],
             [
              0.6666666666666666,
              "#ed7953"
             ],
             [
              0.7777777777777778,
              "#fb9f3a"
             ],
             [
              0.8888888888888888,
              "#fdca26"
             ],
             [
              1,
              "#f0f921"
             ]
            ],
            "type": "surface"
           }
          ],
          "table": [
           {
            "cells": {
             "fill": {
              "color": "#EBF0F8"
             },
             "line": {
              "color": "white"
             }
            },
            "header": {
             "fill": {
              "color": "#C8D4E3"
             },
             "line": {
              "color": "white"
             }
            },
            "type": "table"
           }
          ]
         },
         "layout": {
          "annotationdefaults": {
           "arrowcolor": "#2a3f5f",
           "arrowhead": 0,
           "arrowwidth": 1
          },
          "autotypenumbers": "strict",
          "coloraxis": {
           "colorbar": {
            "outlinewidth": 0,
            "ticks": ""
           }
          },
          "colorscale": {
           "diverging": [
            [
             0,
             "#8e0152"
            ],
            [
             0.1,
             "#c51b7d"
            ],
            [
             0.2,
             "#de77ae"
            ],
            [
             0.3,
             "#f1b6da"
            ],
            [
             0.4,
             "#fde0ef"
            ],
            [
             0.5,
             "#f7f7f7"
            ],
            [
             0.6,
             "#e6f5d0"
            ],
            [
             0.7,
             "#b8e186"
            ],
            [
             0.8,
             "#7fbc41"
            ],
            [
             0.9,
             "#4d9221"
            ],
            [
             1,
             "#276419"
            ]
           ],
           "sequential": [
            [
             0,
             "#0d0887"
            ],
            [
             0.1111111111111111,
             "#46039f"
            ],
            [
             0.2222222222222222,
             "#7201a8"
            ],
            [
             0.3333333333333333,
             "#9c179e"
            ],
            [
             0.4444444444444444,
             "#bd3786"
            ],
            [
             0.5555555555555556,
             "#d8576b"
            ],
            [
             0.6666666666666666,
             "#ed7953"
            ],
            [
             0.7777777777777778,
             "#fb9f3a"
            ],
            [
             0.8888888888888888,
             "#fdca26"
            ],
            [
             1,
             "#f0f921"
            ]
           ],
           "sequentialminus": [
            [
             0,
             "#0d0887"
            ],
            [
             0.1111111111111111,
             "#46039f"
            ],
            [
             0.2222222222222222,
             "#7201a8"
            ],
            [
             0.3333333333333333,
             "#9c179e"
            ],
            [
             0.4444444444444444,
             "#bd3786"
            ],
            [
             0.5555555555555556,
             "#d8576b"
            ],
            [
             0.6666666666666666,
             "#ed7953"
            ],
            [
             0.7777777777777778,
             "#fb9f3a"
            ],
            [
             0.8888888888888888,
             "#fdca26"
            ],
            [
             1,
             "#f0f921"
            ]
           ]
          },
          "colorway": [
           "#636efa",
           "#EF553B",
           "#00cc96",
           "#ab63fa",
           "#FFA15A",
           "#19d3f3",
           "#FF6692",
           "#B6E880",
           "#FF97FF",
           "#FECB52"
          ],
          "font": {
           "color": "#2a3f5f"
          },
          "geo": {
           "bgcolor": "white",
           "lakecolor": "white",
           "landcolor": "#E5ECF6",
           "showlakes": true,
           "showland": true,
           "subunitcolor": "white"
          },
          "hoverlabel": {
           "align": "left"
          },
          "hovermode": "closest",
          "mapbox": {
           "style": "light"
          },
          "paper_bgcolor": "white",
          "plot_bgcolor": "#E5ECF6",
          "polar": {
           "angularaxis": {
            "gridcolor": "white",
            "linecolor": "white",
            "ticks": ""
           },
           "bgcolor": "#E5ECF6",
           "radialaxis": {
            "gridcolor": "white",
            "linecolor": "white",
            "ticks": ""
           }
          },
          "scene": {
           "xaxis": {
            "backgroundcolor": "#E5ECF6",
            "gridcolor": "white",
            "gridwidth": 2,
            "linecolor": "white",
            "showbackground": true,
            "ticks": "",
            "zerolinecolor": "white"
           },
           "yaxis": {
            "backgroundcolor": "#E5ECF6",
            "gridcolor": "white",
            "gridwidth": 2,
            "linecolor": "white",
            "showbackground": true,
            "ticks": "",
            "zerolinecolor": "white"
           },
           "zaxis": {
            "backgroundcolor": "#E5ECF6",
            "gridcolor": "white",
            "gridwidth": 2,
            "linecolor": "white",
            "showbackground": true,
            "ticks": "",
            "zerolinecolor": "white"
           }
          },
          "shapedefaults": {
           "line": {
            "color": "#2a3f5f"
           }
          },
          "ternary": {
           "aaxis": {
            "gridcolor": "white",
            "linecolor": "white",
            "ticks": ""
           },
           "baxis": {
            "gridcolor": "white",
            "linecolor": "white",
            "ticks": ""
           },
           "bgcolor": "#E5ECF6",
           "caxis": {
            "gridcolor": "white",
            "linecolor": "white",
            "ticks": ""
           }
          },
          "title": {
           "x": 0.05
          },
          "xaxis": {
           "automargin": true,
           "gridcolor": "white",
           "linecolor": "white",
           "ticks": "",
           "title": {
            "standoff": 15
           },
           "zerolinecolor": "white",
           "zerolinewidth": 2
          },
          "yaxis": {
           "automargin": true,
           "gridcolor": "white",
           "linecolor": "white",
           "ticks": "",
           "title": {
            "standoff": 15
           },
           "zerolinecolor": "white",
           "zerolinewidth": 2
          }
         }
        },
        "title": {
         "text": "raw coord"
        },
        "xaxis": {
         "anchor": "y",
         "domain": [
          0,
          1
         ],
         "title": {
          "text": "time"
         }
        },
        "yaxis": {
         "anchor": "x",
         "domain": [
          0,
          1
         ],
         "title": {
          "text": "value"
         }
        }
       }
      }
     },
     "metadata": {},
     "output_type": "display_data"
    }
   ],
   "source": [
    "query = '''SELECT MOVING_AVERAGE(last(\"coord\"), 5) as coord FROM \"joints\" WHERE time >= 1697030663033ms and time <= 1697030872564ms GROUP BY time(3s) fill(linear)'''\n",
    "table = client.query(query=query, language=\"influxql\")\n",
    "death_loop = table.to_pandas().drop(columns=['iox::measurement']).set_index('time').dropna(how='all')\n",
    "fig = px.line(death_loop, y=[\"coord\"], title='raw coord' )\n",
    "fig.show()"
   ]
  },
  {
   "cell_type": "code",
   "execution_count": 45,
   "metadata": {},
   "outputs": [
    {
     "data": {
      "application/vnd.plotly.v1+json": {
       "config": {
        "plotlyServerURL": "https://plot.ly"
       },
       "data": [
        {
         "hovertemplate": "variable=coord<br>time=%{x}<br>value=%{y}<extra></extra>",
         "legendgroup": "coord",
         "line": {
          "color": "#636efa",
          "dash": "solid"
         },
         "marker": {
          "symbol": "circle"
         },
         "mode": "lines",
         "name": "coord",
         "orientation": "v",
         "showlegend": true,
         "type": "scatter",
         "x": [
          "2023-10-11T13:44:42",
          "2023-10-11T13:44:45",
          "2023-10-11T13:44:48",
          "2023-10-11T13:44:51",
          "2023-10-11T13:44:54",
          "2023-10-11T13:44:57",
          "2023-10-11T13:45:00",
          "2023-10-11T13:45:03",
          "2023-10-11T13:45:06",
          "2023-10-11T13:45:09",
          "2023-10-11T13:45:12",
          "2023-10-11T13:45:15",
          "2023-10-11T13:45:18",
          "2023-10-11T13:45:21",
          "2023-10-11T13:45:24",
          "2023-10-11T13:45:27",
          "2023-10-11T13:45:30",
          "2023-10-11T13:45:33",
          "2023-10-11T13:45:36",
          "2023-10-11T13:45:39",
          "2023-10-11T13:45:42",
          "2023-10-11T13:45:45",
          "2023-10-11T13:45:48",
          "2023-10-11T13:45:51",
          "2023-10-11T13:45:54",
          "2023-10-11T13:45:57",
          "2023-10-11T13:46:00",
          "2023-10-11T13:46:03",
          "2023-10-11T13:46:06",
          "2023-10-11T13:46:09",
          "2023-10-11T13:46:12",
          "2023-10-11T13:46:15",
          "2023-10-11T13:46:18",
          "2023-10-11T13:46:21",
          "2023-10-11T13:46:24",
          "2023-10-11T13:46:27",
          "2023-10-11T13:46:30",
          "2023-10-11T13:46:33",
          "2023-10-11T13:46:36",
          "2023-10-11T13:46:39",
          "2023-10-11T13:46:42",
          "2023-10-11T13:46:45",
          "2023-10-11T13:46:48",
          "2023-10-11T13:46:51",
          "2023-10-11T13:46:54",
          "2023-10-11T13:46:57",
          "2023-10-11T13:47:00",
          "2023-10-11T13:47:03",
          "2023-10-11T13:47:06",
          "2023-10-11T13:47:09",
          "2023-10-11T13:47:12",
          "2023-10-11T13:47:15",
          "2023-10-11T13:47:18"
         ],
         "xaxis": "x",
         "y": [
          -88.176,
          -40.676,
          -12.398000000000005,
          -21.364,
          -23.735999999999997,
          -25.313999999999997,
          -44.315999999999995,
          -91.574,
          -50.75,
          -50.846,
          -50.848,
          -91.72200000000001,
          -44.378,
          -91.888,
          -92.056,
          -92.11800000000001,
          -92.048,
          -91.90599999999999,
          -44.489999999999995,
          -51.048,
          -51.016000000000005,
          -50.874,
          -91.532,
          -91.468,
          -44.082000000000015,
          -3.3160000000000025,
          -3.397999999999999,
          -3.399999999999994,
          -43.989999999999995,
          -43.932,
          -91.42,
          -50.68,
          -50.70399999999999,
          -50.748000000000005,
          -91.434,
          -44.022000000000006,
          -91.526,
          -86.966,
          -77.564,
          -68.80999999999999,
          -106.97999999999999,
          -97.852,
          -42.7,
          -10.557999999999996,
          -19.426000000000002,
          -21.964,
          -24.321999999999996,
          -42.134,
          -90.418,
          -86.276,
          -74.032,
          -65.204,
          -98.89999999999999
         ],
         "yaxis": "y"
        }
       ],
       "layout": {
        "legend": {
         "title": {
          "text": "variable"
         },
         "tracegroupgap": 0
        },
        "template": {
         "data": {
          "bar": [
           {
            "error_x": {
             "color": "#2a3f5f"
            },
            "error_y": {
             "color": "#2a3f5f"
            },
            "marker": {
             "line": {
              "color": "#E5ECF6",
              "width": 0.5
             },
             "pattern": {
              "fillmode": "overlay",
              "size": 10,
              "solidity": 0.2
             }
            },
            "type": "bar"
           }
          ],
          "barpolar": [
           {
            "marker": {
             "line": {
              "color": "#E5ECF6",
              "width": 0.5
             },
             "pattern": {
              "fillmode": "overlay",
              "size": 10,
              "solidity": 0.2
             }
            },
            "type": "barpolar"
           }
          ],
          "carpet": [
           {
            "aaxis": {
             "endlinecolor": "#2a3f5f",
             "gridcolor": "white",
             "linecolor": "white",
             "minorgridcolor": "white",
             "startlinecolor": "#2a3f5f"
            },
            "baxis": {
             "endlinecolor": "#2a3f5f",
             "gridcolor": "white",
             "linecolor": "white",
             "minorgridcolor": "white",
             "startlinecolor": "#2a3f5f"
            },
            "type": "carpet"
           }
          ],
          "choropleth": [
           {
            "colorbar": {
             "outlinewidth": 0,
             "ticks": ""
            },
            "type": "choropleth"
           }
          ],
          "contour": [
           {
            "colorbar": {
             "outlinewidth": 0,
             "ticks": ""
            },
            "colorscale": [
             [
              0,
              "#0d0887"
             ],
             [
              0.1111111111111111,
              "#46039f"
             ],
             [
              0.2222222222222222,
              "#7201a8"
             ],
             [
              0.3333333333333333,
              "#9c179e"
             ],
             [
              0.4444444444444444,
              "#bd3786"
             ],
             [
              0.5555555555555556,
              "#d8576b"
             ],
             [
              0.6666666666666666,
              "#ed7953"
             ],
             [
              0.7777777777777778,
              "#fb9f3a"
             ],
             [
              0.8888888888888888,
              "#fdca26"
             ],
             [
              1,
              "#f0f921"
             ]
            ],
            "type": "contour"
           }
          ],
          "contourcarpet": [
           {
            "colorbar": {
             "outlinewidth": 0,
             "ticks": ""
            },
            "type": "contourcarpet"
           }
          ],
          "heatmap": [
           {
            "colorbar": {
             "outlinewidth": 0,
             "ticks": ""
            },
            "colorscale": [
             [
              0,
              "#0d0887"
             ],
             [
              0.1111111111111111,
              "#46039f"
             ],
             [
              0.2222222222222222,
              "#7201a8"
             ],
             [
              0.3333333333333333,
              "#9c179e"
             ],
             [
              0.4444444444444444,
              "#bd3786"
             ],
             [
              0.5555555555555556,
              "#d8576b"
             ],
             [
              0.6666666666666666,
              "#ed7953"
             ],
             [
              0.7777777777777778,
              "#fb9f3a"
             ],
             [
              0.8888888888888888,
              "#fdca26"
             ],
             [
              1,
              "#f0f921"
             ]
            ],
            "type": "heatmap"
           }
          ],
          "heatmapgl": [
           {
            "colorbar": {
             "outlinewidth": 0,
             "ticks": ""
            },
            "colorscale": [
             [
              0,
              "#0d0887"
             ],
             [
              0.1111111111111111,
              "#46039f"
             ],
             [
              0.2222222222222222,
              "#7201a8"
             ],
             [
              0.3333333333333333,
              "#9c179e"
             ],
             [
              0.4444444444444444,
              "#bd3786"
             ],
             [
              0.5555555555555556,
              "#d8576b"
             ],
             [
              0.6666666666666666,
              "#ed7953"
             ],
             [
              0.7777777777777778,
              "#fb9f3a"
             ],
             [
              0.8888888888888888,
              "#fdca26"
             ],
             [
              1,
              "#f0f921"
             ]
            ],
            "type": "heatmapgl"
           }
          ],
          "histogram": [
           {
            "marker": {
             "pattern": {
              "fillmode": "overlay",
              "size": 10,
              "solidity": 0.2
             }
            },
            "type": "histogram"
           }
          ],
          "histogram2d": [
           {
            "colorbar": {
             "outlinewidth": 0,
             "ticks": ""
            },
            "colorscale": [
             [
              0,
              "#0d0887"
             ],
             [
              0.1111111111111111,
              "#46039f"
             ],
             [
              0.2222222222222222,
              "#7201a8"
             ],
             [
              0.3333333333333333,
              "#9c179e"
             ],
             [
              0.4444444444444444,
              "#bd3786"
             ],
             [
              0.5555555555555556,
              "#d8576b"
             ],
             [
              0.6666666666666666,
              "#ed7953"
             ],
             [
              0.7777777777777778,
              "#fb9f3a"
             ],
             [
              0.8888888888888888,
              "#fdca26"
             ],
             [
              1,
              "#f0f921"
             ]
            ],
            "type": "histogram2d"
           }
          ],
          "histogram2dcontour": [
           {
            "colorbar": {
             "outlinewidth": 0,
             "ticks": ""
            },
            "colorscale": [
             [
              0,
              "#0d0887"
             ],
             [
              0.1111111111111111,
              "#46039f"
             ],
             [
              0.2222222222222222,
              "#7201a8"
             ],
             [
              0.3333333333333333,
              "#9c179e"
             ],
             [
              0.4444444444444444,
              "#bd3786"
             ],
             [
              0.5555555555555556,
              "#d8576b"
             ],
             [
              0.6666666666666666,
              "#ed7953"
             ],
             [
              0.7777777777777778,
              "#fb9f3a"
             ],
             [
              0.8888888888888888,
              "#fdca26"
             ],
             [
              1,
              "#f0f921"
             ]
            ],
            "type": "histogram2dcontour"
           }
          ],
          "mesh3d": [
           {
            "colorbar": {
             "outlinewidth": 0,
             "ticks": ""
            },
            "type": "mesh3d"
           }
          ],
          "parcoords": [
           {
            "line": {
             "colorbar": {
              "outlinewidth": 0,
              "ticks": ""
             }
            },
            "type": "parcoords"
           }
          ],
          "pie": [
           {
            "automargin": true,
            "type": "pie"
           }
          ],
          "scatter": [
           {
            "fillpattern": {
             "fillmode": "overlay",
             "size": 10,
             "solidity": 0.2
            },
            "type": "scatter"
           }
          ],
          "scatter3d": [
           {
            "line": {
             "colorbar": {
              "outlinewidth": 0,
              "ticks": ""
             }
            },
            "marker": {
             "colorbar": {
              "outlinewidth": 0,
              "ticks": ""
             }
            },
            "type": "scatter3d"
           }
          ],
          "scattercarpet": [
           {
            "marker": {
             "colorbar": {
              "outlinewidth": 0,
              "ticks": ""
             }
            },
            "type": "scattercarpet"
           }
          ],
          "scattergeo": [
           {
            "marker": {
             "colorbar": {
              "outlinewidth": 0,
              "ticks": ""
             }
            },
            "type": "scattergeo"
           }
          ],
          "scattergl": [
           {
            "marker": {
             "colorbar": {
              "outlinewidth": 0,
              "ticks": ""
             }
            },
            "type": "scattergl"
           }
          ],
          "scattermapbox": [
           {
            "marker": {
             "colorbar": {
              "outlinewidth": 0,
              "ticks": ""
             }
            },
            "type": "scattermapbox"
           }
          ],
          "scatterpolar": [
           {
            "marker": {
             "colorbar": {
              "outlinewidth": 0,
              "ticks": ""
             }
            },
            "type": "scatterpolar"
           }
          ],
          "scatterpolargl": [
           {
            "marker": {
             "colorbar": {
              "outlinewidth": 0,
              "ticks": ""
             }
            },
            "type": "scatterpolargl"
           }
          ],
          "scatterternary": [
           {
            "marker": {
             "colorbar": {
              "outlinewidth": 0,
              "ticks": ""
             }
            },
            "type": "scatterternary"
           }
          ],
          "surface": [
           {
            "colorbar": {
             "outlinewidth": 0,
             "ticks": ""
            },
            "colorscale": [
             [
              0,
              "#0d0887"
             ],
             [
              0.1111111111111111,
              "#46039f"
             ],
             [
              0.2222222222222222,
              "#7201a8"
             ],
             [
              0.3333333333333333,
              "#9c179e"
             ],
             [
              0.4444444444444444,
              "#bd3786"
             ],
             [
              0.5555555555555556,
              "#d8576b"
             ],
             [
              0.6666666666666666,
              "#ed7953"
             ],
             [
              0.7777777777777778,
              "#fb9f3a"
             ],
             [
              0.8888888888888888,
              "#fdca26"
             ],
             [
              1,
              "#f0f921"
             ]
            ],
            "type": "surface"
           }
          ],
          "table": [
           {
            "cells": {
             "fill": {
              "color": "#EBF0F8"
             },
             "line": {
              "color": "white"
             }
            },
            "header": {
             "fill": {
              "color": "#C8D4E3"
             },
             "line": {
              "color": "white"
             }
            },
            "type": "table"
           }
          ]
         },
         "layout": {
          "annotationdefaults": {
           "arrowcolor": "#2a3f5f",
           "arrowhead": 0,
           "arrowwidth": 1
          },
          "autotypenumbers": "strict",
          "coloraxis": {
           "colorbar": {
            "outlinewidth": 0,
            "ticks": ""
           }
          },
          "colorscale": {
           "diverging": [
            [
             0,
             "#8e0152"
            ],
            [
             0.1,
             "#c51b7d"
            ],
            [
             0.2,
             "#de77ae"
            ],
            [
             0.3,
             "#f1b6da"
            ],
            [
             0.4,
             "#fde0ef"
            ],
            [
             0.5,
             "#f7f7f7"
            ],
            [
             0.6,
             "#e6f5d0"
            ],
            [
             0.7,
             "#b8e186"
            ],
            [
             0.8,
             "#7fbc41"
            ],
            [
             0.9,
             "#4d9221"
            ],
            [
             1,
             "#276419"
            ]
           ],
           "sequential": [
            [
             0,
             "#0d0887"
            ],
            [
             0.1111111111111111,
             "#46039f"
            ],
            [
             0.2222222222222222,
             "#7201a8"
            ],
            [
             0.3333333333333333,
             "#9c179e"
            ],
            [
             0.4444444444444444,
             "#bd3786"
            ],
            [
             0.5555555555555556,
             "#d8576b"
            ],
            [
             0.6666666666666666,
             "#ed7953"
            ],
            [
             0.7777777777777778,
             "#fb9f3a"
            ],
            [
             0.8888888888888888,
             "#fdca26"
            ],
            [
             1,
             "#f0f921"
            ]
           ],
           "sequentialminus": [
            [
             0,
             "#0d0887"
            ],
            [
             0.1111111111111111,
             "#46039f"
            ],
            [
             0.2222222222222222,
             "#7201a8"
            ],
            [
             0.3333333333333333,
             "#9c179e"
            ],
            [
             0.4444444444444444,
             "#bd3786"
            ],
            [
             0.5555555555555556,
             "#d8576b"
            ],
            [
             0.6666666666666666,
             "#ed7953"
            ],
            [
             0.7777777777777778,
             "#fb9f3a"
            ],
            [
             0.8888888888888888,
             "#fdca26"
            ],
            [
             1,
             "#f0f921"
            ]
           ]
          },
          "colorway": [
           "#636efa",
           "#EF553B",
           "#00cc96",
           "#ab63fa",
           "#FFA15A",
           "#19d3f3",
           "#FF6692",
           "#B6E880",
           "#FF97FF",
           "#FECB52"
          ],
          "font": {
           "color": "#2a3f5f"
          },
          "geo": {
           "bgcolor": "white",
           "lakecolor": "white",
           "landcolor": "#E5ECF6",
           "showlakes": true,
           "showland": true,
           "subunitcolor": "white"
          },
          "hoverlabel": {
           "align": "left"
          },
          "hovermode": "closest",
          "mapbox": {
           "style": "light"
          },
          "paper_bgcolor": "white",
          "plot_bgcolor": "#E5ECF6",
          "polar": {
           "angularaxis": {
            "gridcolor": "white",
            "linecolor": "white",
            "ticks": ""
           },
           "bgcolor": "#E5ECF6",
           "radialaxis": {
            "gridcolor": "white",
            "linecolor": "white",
            "ticks": ""
           }
          },
          "scene": {
           "xaxis": {
            "backgroundcolor": "#E5ECF6",
            "gridcolor": "white",
            "gridwidth": 2,
            "linecolor": "white",
            "showbackground": true,
            "ticks": "",
            "zerolinecolor": "white"
           },
           "yaxis": {
            "backgroundcolor": "#E5ECF6",
            "gridcolor": "white",
            "gridwidth": 2,
            "linecolor": "white",
            "showbackground": true,
            "ticks": "",
            "zerolinecolor": "white"
           },
           "zaxis": {
            "backgroundcolor": "#E5ECF6",
            "gridcolor": "white",
            "gridwidth": 2,
            "linecolor": "white",
            "showbackground": true,
            "ticks": "",
            "zerolinecolor": "white"
           }
          },
          "shapedefaults": {
           "line": {
            "color": "#2a3f5f"
           }
          },
          "ternary": {
           "aaxis": {
            "gridcolor": "white",
            "linecolor": "white",
            "ticks": ""
           },
           "baxis": {
            "gridcolor": "white",
            "linecolor": "white",
            "ticks": ""
           },
           "bgcolor": "#E5ECF6",
           "caxis": {
            "gridcolor": "white",
            "linecolor": "white",
            "ticks": ""
           }
          },
          "title": {
           "x": 0.05
          },
          "xaxis": {
           "automargin": true,
           "gridcolor": "white",
           "linecolor": "white",
           "ticks": "",
           "title": {
            "standoff": 15
           },
           "zerolinecolor": "white",
           "zerolinewidth": 2
          },
          "yaxis": {
           "automargin": true,
           "gridcolor": "white",
           "linecolor": "white",
           "ticks": "",
           "title": {
            "standoff": 15
           },
           "zerolinecolor": "white",
           "zerolinewidth": 2
          }
         }
        },
        "title": {
         "text": "raw coord"
        },
        "xaxis": {
         "anchor": "y",
         "domain": [
          0,
          1
         ],
         "title": {
          "text": "time"
         }
        },
        "yaxis": {
         "anchor": "x",
         "domain": [
          0,
          1
         ],
         "title": {
          "text": "value"
         }
        }
       }
      }
     },
     "metadata": {},
     "output_type": "display_data"
    }
   ],
   "source": [
    "query = '''SELECT MOVING_AVERAGE(last(\"coord\"), 5) as coord FROM \"joints\" WHERE time >= 1697031873606ms and time <= 1697032040567ms GROUP BY time(3s) fill(linear)'''\n",
    "table = client.query(query=query, language=\"influxql\")\n",
    "dropped = table.to_pandas().drop(columns=['iox::measurement']).set_index('time').dropna(how='all')\n",
    "fig = px.line(dropped, y=[\"coord\"], title='raw coord' )\n",
    "fig.show()"
   ]
  },
  {
   "cell_type": "code",
   "execution_count": 46,
   "metadata": {},
   "outputs": [
    {
     "name": "stdout",
     "output_type": "stream",
     "text": [
      "WARNING:tensorflow:5 out of the last 13 calls to <function PreprocessingLayer.make_adapt_function.<locals>.adapt_step at 0x14e231760> triggered tf.function retracing. Tracing is expensive and the excessive number of tracings could be due to (1) creating @tf.function repeatedly in a loop, (2) passing tensors with different shapes, (3) passing Python objects instead of tensors. For (1), please define your @tf.function outside of the loop. For (2), @tf.function has reduce_retracing=True option that can avoid unnecessary retracing. For (3), please refer to https://www.tensorflow.org/guide/function#controlling_retracing and https://www.tensorflow.org/api_docs/python/tf/function for  more details.\n",
      "Epoch 1/100\n",
      "4/4 [==============================] - 5s 262ms/step - loss: 6017.5132 - val_loss: 6400.4956\n",
      "Epoch 2/100\n",
      "4/4 [==============================] - 0s 64ms/step - loss: 6016.6748 - val_loss: 6399.6802\n",
      "Epoch 3/100\n",
      "4/4 [==============================] - 0s 67ms/step - loss: 6015.8892 - val_loss: 6398.8438\n",
      "Epoch 4/100\n",
      "4/4 [==============================] - 0s 64ms/step - loss: 6015.0757 - val_loss: 6397.9756\n",
      "Epoch 5/100\n",
      "4/4 [==============================] - 0s 62ms/step - loss: 6014.2163 - val_loss: 6397.0537\n",
      "Epoch 6/100\n",
      "4/4 [==============================] - 0s 61ms/step - loss: 6013.3374 - val_loss: 6396.0835\n",
      "Epoch 7/100\n",
      "4/4 [==============================] - 0s 71ms/step - loss: 6012.3662 - val_loss: 6395.0684\n",
      "Epoch 8/100\n",
      "4/4 [==============================] - 0s 64ms/step - loss: 6011.3750 - val_loss: 6393.9717\n",
      "Epoch 9/100\n",
      "4/4 [==============================] - 0s 66ms/step - loss: 6010.2959 - val_loss: 6392.7622\n",
      "Epoch 10/100\n",
      "4/4 [==============================] - 0s 64ms/step - loss: 6009.0972 - val_loss: 6391.3940\n",
      "Epoch 11/100\n",
      "4/4 [==============================] - 0s 67ms/step - loss: 6007.7314 - val_loss: 6389.7881\n",
      "Epoch 12/100\n",
      "4/4 [==============================] - 0s 66ms/step - loss: 6006.0742 - val_loss: 6387.8047\n",
      "Epoch 13/100\n",
      "4/4 [==============================] - 0s 69ms/step - loss: 6004.0103 - val_loss: 6385.1011\n",
      "Epoch 14/100\n",
      "4/4 [==============================] - 0s 64ms/step - loss: 6001.1411 - val_loss: 6380.9917\n",
      "Epoch 15/100\n",
      "4/4 [==============================] - 0s 85ms/step - loss: 5996.6587 - val_loss: 6372.4966\n",
      "Epoch 16/100\n",
      "4/4 [==============================] - 0s 61ms/step - loss: 5986.3481 - val_loss: 6345.8682\n",
      "Epoch 17/100\n",
      "4/4 [==============================] - 0s 61ms/step - loss: 5943.4727 - val_loss: 6194.1929\n",
      "Epoch 18/100\n",
      "4/4 [==============================] - 0s 62ms/step - loss: 5680.0601 - val_loss: 5730.5278\n",
      "Epoch 19/100\n",
      "4/4 [==============================] - 0s 63ms/step - loss: 4892.4795 - val_loss: 5135.7285\n",
      "Epoch 20/100\n",
      "4/4 [==============================] - 0s 62ms/step - loss: 4756.2559 - val_loss: 5176.5786\n",
      "Epoch 21/100\n",
      "4/4 [==============================] - 0s 72ms/step - loss: 4671.4385 - val_loss: 4878.6377\n",
      "Epoch 22/100\n",
      "4/4 [==============================] - 0s 61ms/step - loss: 4281.8076 - val_loss: 4628.6562\n",
      "Epoch 23/100\n",
      "4/4 [==============================] - 0s 66ms/step - loss: 4196.5049 - val_loss: 4433.2896\n",
      "Epoch 24/100\n",
      "4/4 [==============================] - 0s 62ms/step - loss: 3764.8931 - val_loss: 4175.4902\n",
      "Epoch 25/100\n",
      "4/4 [==============================] - 0s 61ms/step - loss: 3503.2395 - val_loss: 4774.3652\n",
      "Epoch 26/100\n",
      "4/4 [==============================] - 0s 66ms/step - loss: 8855.2627 - val_loss: 4092.7432\n",
      "Epoch 27/100\n",
      "4/4 [==============================] - 0s 62ms/step - loss: 3677.4153 - val_loss: 6653.3135\n",
      "Epoch 28/100\n",
      "4/4 [==============================] - 0s 62ms/step - loss: 5904.9604 - val_loss: 6917.4609\n",
      "Epoch 29/100\n",
      "4/4 [==============================] - 0s 84ms/step - loss: 5606.1499 - val_loss: 4699.9990\n",
      "Epoch 30/100\n",
      "4/4 [==============================] - 0s 71ms/step - loss: 4076.7634 - val_loss: 4604.2812\n",
      "Epoch 31/100\n",
      "4/4 [==============================] - 0s 64ms/step - loss: 4340.3384 - val_loss: 4768.1396\n",
      "Epoch 32/100\n",
      "4/4 [==============================] - 0s 63ms/step - loss: 4515.3452 - val_loss: 4807.9268\n",
      "Epoch 33/100\n",
      "4/4 [==============================] - 0s 64ms/step - loss: 4529.2954 - val_loss: 4714.3511\n",
      "Epoch 34/100\n",
      "4/4 [==============================] - 0s 64ms/step - loss: 4381.9351 - val_loss: 4660.1685\n",
      "Epoch 35/100\n",
      "4/4 [==============================] - 0s 75ms/step - loss: 4199.5713 - val_loss: 4419.8970\n",
      "Epoch 36/100\n",
      "4/4 [==============================] - 0s 63ms/step - loss: 3946.5457 - val_loss: 4349.2715\n",
      "Epoch 37/100\n",
      "4/4 [==============================] - 0s 66ms/step - loss: 3856.0186 - val_loss: 4311.9805\n",
      "Epoch 38/100\n",
      "4/4 [==============================] - 0s 96ms/step - loss: 3805.3459 - val_loss: 4260.6460\n",
      "Epoch 39/100\n",
      "4/4 [==============================] - 0s 72ms/step - loss: 3790.5803 - val_loss: 4275.2114\n",
      "Epoch 40/100\n",
      "4/4 [==============================] - 0s 62ms/step - loss: 3772.2126 - val_loss: 4271.9834\n",
      "Epoch 41/100\n",
      "4/4 [==============================] - 0s 61ms/step - loss: 3736.3799 - val_loss: 4257.1289\n",
      "Epoch 42/100\n",
      "4/4 [==============================] - 0s 62ms/step - loss: 3698.2458 - val_loss: 4224.1714\n",
      "Epoch 43/100\n",
      "4/4 [==============================] - 0s 66ms/step - loss: 3643.9314 - val_loss: 4181.4438\n",
      "Epoch 44/100\n",
      "4/4 [==============================] - 0s 68ms/step - loss: 3547.9795 - val_loss: 4318.3853\n",
      "Epoch 45/100\n",
      "4/4 [==============================] - 0s 61ms/step - loss: 3540.2490 - val_loss: 4158.1294\n",
      "Epoch 46/100\n",
      "4/4 [==============================] - 0s 61ms/step - loss: 3473.8848 - val_loss: 4116.1602\n",
      "Epoch 47/100\n",
      "4/4 [==============================] - 0s 62ms/step - loss: 3456.2354 - val_loss: 4113.9829\n",
      "Epoch 48/100\n",
      "4/4 [==============================] - 0s 63ms/step - loss: 3433.3706 - val_loss: 4089.7371\n",
      "Epoch 49/100\n",
      "4/4 [==============================] - 0s 64ms/step - loss: 3441.4282 - val_loss: 4064.6523\n",
      "Epoch 50/100\n",
      "4/4 [==============================] - 0s 61ms/step - loss: 3411.0981 - val_loss: 4052.5725\n",
      "Epoch 51/100\n",
      "4/4 [==============================] - 0s 62ms/step - loss: 3394.0137 - val_loss: 4026.4358\n",
      "Epoch 52/100\n",
      "4/4 [==============================] - 0s 63ms/step - loss: 3380.3877 - val_loss: 4001.6145\n",
      "Epoch 53/100\n",
      "4/4 [==============================] - 0s 60ms/step - loss: 3369.2930 - val_loss: 3970.3931\n",
      "Epoch 54/100\n",
      "4/4 [==============================] - 0s 70ms/step - loss: 3355.7283 - val_loss: 3949.7776\n",
      "Epoch 55/100\n",
      "4/4 [==============================] - 0s 71ms/step - loss: 3332.4111 - val_loss: 3918.8862\n",
      "Epoch 56/100\n",
      "4/4 [==============================] - 0s 74ms/step - loss: 3332.3550 - val_loss: 3979.0898\n",
      "Epoch 57/100\n",
      "4/4 [==============================] - 0s 75ms/step - loss: 3363.4761 - val_loss: 3916.8435\n",
      "Epoch 58/100\n",
      "4/4 [==============================] - 0s 67ms/step - loss: 3318.5103 - val_loss: 3851.4260\n",
      "Epoch 59/100\n",
      "4/4 [==============================] - 0s 69ms/step - loss: 3301.6191 - val_loss: 3854.2256\n",
      "Epoch 60/100\n",
      "4/4 [==============================] - 0s 69ms/step - loss: 3294.5273 - val_loss: 3855.4409\n",
      "Epoch 61/100\n",
      "4/4 [==============================] - 0s 69ms/step - loss: 3292.8789 - val_loss: 3854.6233\n",
      "Epoch 62/100\n",
      "4/4 [==============================] - 0s 65ms/step - loss: 3281.5498 - val_loss: 3811.3584\n",
      "Epoch 63/100\n",
      "4/4 [==============================] - 0s 66ms/step - loss: 3273.3127 - val_loss: 3808.8154\n",
      "Epoch 64/100\n",
      "4/4 [==============================] - 0s 61ms/step - loss: 3287.0461 - val_loss: 3793.1802\n",
      "Epoch 65/100\n",
      "4/4 [==============================] - 0s 64ms/step - loss: 3282.7622 - val_loss: 3802.4783\n",
      "Epoch 66/100\n",
      "4/4 [==============================] - 0s 67ms/step - loss: 3297.2012 - val_loss: 3768.8689\n",
      "Epoch 67/100\n",
      "4/4 [==============================] - 0s 60ms/step - loss: 3286.6519 - val_loss: 3753.3828\n",
      "Epoch 68/100\n",
      "4/4 [==============================] - 0s 62ms/step - loss: 3277.1804 - val_loss: 3758.6345\n",
      "Epoch 69/100\n",
      "4/4 [==============================] - 0s 79ms/step - loss: 3263.2654 - val_loss: 3766.6606\n",
      "Epoch 70/100\n",
      "4/4 [==============================] - 0s 61ms/step - loss: 3306.8176 - val_loss: 3754.2395\n",
      "Epoch 71/100\n",
      "4/4 [==============================] - 0s 61ms/step - loss: 3248.6584 - val_loss: 3789.4866\n",
      "Epoch 72/100\n",
      "4/4 [==============================] - 0s 62ms/step - loss: 3282.6406 - val_loss: 3763.0757\n",
      "Epoch 73/100\n",
      "4/4 [==============================] - 0s 63ms/step - loss: 3242.3010 - val_loss: 3727.2031\n",
      "Epoch 74/100\n",
      "4/4 [==============================] - 0s 60ms/step - loss: 3226.5654 - val_loss: 3723.2856\n",
      "Epoch 75/100\n",
      "4/4 [==============================] - 0s 60ms/step - loss: 3225.0757 - val_loss: 3718.1802\n",
      "Epoch 76/100\n",
      "4/4 [==============================] - 0s 61ms/step - loss: 3220.9497 - val_loss: 3722.5520\n",
      "Epoch 77/100\n",
      "4/4 [==============================] - 0s 61ms/step - loss: 3217.4927 - val_loss: 3697.6267\n",
      "Epoch 78/100\n",
      "4/4 [==============================] - 0s 59ms/step - loss: 3212.7676 - val_loss: 3706.5083\n",
      "Epoch 79/100\n",
      "4/4 [==============================] - 0s 62ms/step - loss: 3201.9795 - val_loss: 3738.2124\n",
      "Epoch 80/100\n",
      "4/4 [==============================] - 0s 77ms/step - loss: 3255.3799 - val_loss: 3765.7817\n",
      "Epoch 81/100\n",
      "4/4 [==============================] - 0s 61ms/step - loss: 3276.6074 - val_loss: 3753.1333\n",
      "Epoch 82/100\n",
      "4/4 [==============================] - 0s 63ms/step - loss: 3253.5996 - val_loss: 3704.4402\n",
      "Epoch 83/100\n",
      "4/4 [==============================] - 0s 63ms/step - loss: 3210.5146 - val_loss: 3662.6685\n",
      "Epoch 84/100\n",
      "4/4 [==============================] - 0s 62ms/step - loss: 3179.8718 - val_loss: 3614.5234\n",
      "Epoch 85/100\n",
      "4/4 [==============================] - 0s 60ms/step - loss: 3164.1414 - val_loss: 3576.6228\n",
      "Epoch 86/100\n",
      "4/4 [==============================] - 0s 62ms/step - loss: 3178.2788 - val_loss: 3563.7097\n",
      "Epoch 87/100\n",
      "4/4 [==============================] - 0s 63ms/step - loss: 3176.0371 - val_loss: 3567.7327\n",
      "Epoch 88/100\n",
      "4/4 [==============================] - 0s 67ms/step - loss: 3161.9407 - val_loss: 3580.2471\n",
      "Epoch 89/100\n",
      "4/4 [==============================] - 0s 64ms/step - loss: 3163.3472 - val_loss: 3558.5630\n",
      "Epoch 90/100\n",
      "4/4 [==============================] - 0s 69ms/step - loss: 3158.6316 - val_loss: 3561.6545\n",
      "Epoch 91/100\n",
      "4/4 [==============================] - 0s 60ms/step - loss: 3153.4053 - val_loss: 3617.3342\n",
      "Epoch 92/100\n",
      "4/4 [==============================] - 0s 62ms/step - loss: 3181.9534 - val_loss: 3609.0146\n",
      "Epoch 93/100\n",
      "4/4 [==============================] - 0s 62ms/step - loss: 3150.6104 - val_loss: 3551.2874\n",
      "Epoch 94/100\n",
      "4/4 [==============================] - 0s 61ms/step - loss: 3134.1243 - val_loss: 3541.0247\n",
      "Epoch 95/100\n",
      "4/4 [==============================] - 0s 60ms/step - loss: 3138.6311 - val_loss: 3546.1003\n",
      "Epoch 96/100\n",
      "4/4 [==============================] - 0s 63ms/step - loss: 3144.3950 - val_loss: 3562.5647\n",
      "Epoch 97/100\n",
      "4/4 [==============================] - 0s 62ms/step - loss: 3131.2886 - val_loss: 3541.6260\n",
      "Epoch 98/100\n",
      "4/4 [==============================] - 0s 62ms/step - loss: 3121.2815 - val_loss: 3539.6990\n",
      "Epoch 99/100\n",
      "4/4 [==============================] - 0s 61ms/step - loss: 3134.6279 - val_loss: 3535.2131\n",
      "Epoch 100/100\n",
      "4/4 [==============================] - 0s 62ms/step - loss: 3113.6167 - val_loss: 3556.3975\n"
     ]
    }
   ],
   "source": [
    "# Function to create overlapping sequences\n",
    "def create_overlapping_sequences(data, sequence_length):\n",
    "    sequences = []\n",
    "    for i in range(len(data) - sequence_length + 1):\n",
    "        sequences.append(data[i:i + sequence_length])\n",
    "    return np.array(sequences)\n",
    "\n",
    "# Define the normalization layer\n",
    "normalizer = Normalization(axis=-1)\n",
    "normalizer.adapt(normal[['coord']].values)\n",
    "\n",
    "sequence_length = 30  # Adjust this based on your preference\n",
    "input_dim = 1  # Number of features\n",
    "\n",
    "# Define the input layer\n",
    "inputs = Input(shape=(sequence_length, input_dim))\n",
    "normalized_inputs = normalizer(inputs)\n",
    "\n",
    "# Define the LSTM layers\n",
    "encoded = LSTM(16, activation='relu', return_sequences=True)(normalized_inputs)\n",
    "encoded = LSTM(4, activation='relu', return_sequences=False)(encoded)\n",
    "decoded = RepeatVector(sequence_length)(encoded)\n",
    "decoded = LSTM(4, activation='relu', return_sequences=True)(decoded)\n",
    "decoded = LSTM(16, activation='relu', return_sequences=True)(decoded)\n",
    "outputs = TimeDistributed(Dense(input_dim))(decoded)\n",
    "\n",
    "autoencoder = Model(inputs, outputs)\n",
    "autoencoder.compile(optimizer='adam', loss='mse')\n",
    "\n",
    "# Prepare the data for training\n",
    "X = normal[['coord']].values\n",
    "\n",
    "# Create overlapping sequences\n",
    "sequences = create_overlapping_sequences(X, sequence_length)\n",
    "\n",
    "# Reshape the sequences for LSTM input [samples, timesteps, features]\n",
    "sequences = sequences.reshape((sequences.shape[0], sequence_length, input_dim))\n",
    "\n",
    "# Split the data into training and testing sets\n",
    "X_train, X_test = train_test_split(sequences, test_size=0.2, random_state=42)\n",
    "\n",
    "# Directory to store logs and TensorBoard callback\n",
    "log_dir = os.path.join(\"logs\", \"fit\", datetime.datetime.now().strftime(\"%Y%m%d-%H%M%S\"))\n",
    "tensorboard_callback = TensorBoard(log_dir=log_dir, histogram_freq=1)\n",
    "\n",
    "# Train the model\n",
    "history = autoencoder.fit(X_train, X_train, epochs=100, batch_size=16, validation_data=(X_test, X_test), verbose=1, callbacks=[tensorboard_callback])"
   ]
  },
  {
   "cell_type": "code",
   "execution_count": 47,
   "metadata": {},
   "outputs": [
    {
     "name": "stdout",
     "output_type": "stream",
     "text": [
      "2/2 [==============================] - 1s 13ms/step\n"
     ]
    },
    {
     "data": {
      "application/vnd.plotly.v1+json": {
       "config": {
        "plotlyServerURL": "https://plot.ly"
       },
       "data": [
        {
         "line": {
          "color": "green"
         },
         "mode": "lines",
         "name": "coord",
         "type": "scatter",
         "x": [
          "2023-10-11T13:16:30",
          "2023-10-11T13:16:33",
          "2023-10-11T13:16:36",
          "2023-10-11T13:16:39",
          "2023-10-11T13:16:42",
          "2023-10-11T13:16:45",
          "2023-10-11T13:16:48",
          "2023-10-11T13:16:51",
          "2023-10-11T13:16:54",
          "2023-10-11T13:16:57",
          "2023-10-11T13:17:00",
          "2023-10-11T13:17:03",
          "2023-10-11T13:17:06",
          "2023-10-11T13:17:09",
          "2023-10-11T13:17:12",
          "2023-10-11T13:17:15",
          "2023-10-11T13:17:18",
          "2023-10-11T13:17:21",
          "2023-10-11T13:17:24",
          "2023-10-11T13:17:27",
          "2023-10-11T13:17:30",
          "2023-10-11T13:17:33",
          "2023-10-11T13:17:36",
          "2023-10-11T13:17:39",
          "2023-10-11T13:17:42",
          "2023-10-11T13:17:45",
          "2023-10-11T13:17:48",
          "2023-10-11T13:17:51",
          "2023-10-11T13:17:54",
          "2023-10-11T13:17:57",
          "2023-10-11T13:18:00",
          "2023-10-11T13:18:03",
          "2023-10-11T13:18:06",
          "2023-10-11T13:18:09",
          "2023-10-11T13:18:12",
          "2023-10-11T13:18:15",
          "2023-10-11T13:18:18",
          "2023-10-11T13:18:21",
          "2023-10-11T13:18:24",
          "2023-10-11T13:18:27",
          "2023-10-11T13:18:30",
          "2023-10-11T13:18:33",
          "2023-10-11T13:18:36",
          "2023-10-11T13:18:39",
          "2023-10-11T13:18:42",
          "2023-10-11T13:18:45",
          "2023-10-11T13:18:48",
          "2023-10-11T13:18:51",
          "2023-10-11T13:18:54",
          "2023-10-11T13:18:57",
          "2023-10-11T13:19:00",
          "2023-10-11T13:19:03",
          "2023-10-11T13:19:06",
          "2023-10-11T13:19:09",
          "2023-10-11T13:19:12",
          "2023-10-11T13:19:15",
          "2023-10-11T13:19:18",
          "2023-10-11T13:19:21",
          "2023-10-11T13:19:24",
          "2023-10-11T13:19:27",
          "2023-10-11T13:19:30",
          "2023-10-11T13:19:33",
          "2023-10-11T13:19:36",
          "2023-10-11T13:19:39",
          "2023-10-11T13:19:42",
          "2023-10-11T13:19:45",
          "2023-10-11T13:19:48",
          "2023-10-11T13:19:51",
          "2023-10-11T13:19:54",
          "2023-10-11T13:19:57",
          "2023-10-11T13:20:00",
          "2023-10-11T13:20:03",
          "2023-10-11T13:20:06",
          "2023-10-11T13:20:09",
          "2023-10-11T13:20:12",
          "2023-10-11T13:20:15",
          "2023-10-11T13:20:18",
          "2023-10-11T13:20:21",
          "2023-10-11T13:20:24",
          "2023-10-11T13:20:27",
          "2023-10-11T13:20:30",
          "2023-10-11T13:20:33",
          "2023-10-11T13:20:36",
          "2023-10-11T13:20:39",
          "2023-10-11T13:20:42",
          "2023-10-11T13:20:45",
          "2023-10-11T13:20:48",
          "2023-10-11T13:20:51",
          "2023-10-11T13:20:54",
          "2023-10-11T13:20:57",
          "2023-10-11T13:21:00"
         ],
         "y": [
          -156.57657142857144,
          -152.38771428571428,
          -146.15942857142858,
          -137.8757142857143,
          -127.5185714285714,
          -117.16142857142859,
          -106.80428571428573,
          -94.12457142857143,
          -86.90828571428571,
          -84.99142857142859,
          -92.082,
          -40.327999999999996,
          8.201999999999993,
          -0.7379999999999995,
          -6.380000000000001,
          -5.051999999999995,
          -75.53999999999999,
          -143.018,
          -138.762,
          -129.346,
          -120.61200000000001,
          -101.936,
          -92.804,
          -37.269999999999996,
          12.985999999999995,
          4.096000000000001,
          -3.7760000000000047,
          -6.213999999999999,
          -73.89000000000001,
          -141.73,
          -137.458,
          -125.23999999999998,
          -113.07800000000002,
          -97.214,
          -86.66600000000001,
          -31.105999999999995,
          16.381999999999998,
          45.803999999999995,
          37.87399999999999,
          35.53399999999998,
          17.767999999999994,
          -0.08799999999999955,
          -48.388,
          -38.96,
          -29.560000000000002,
          -62.718,
          -102.08800000000001,
          -92.90400000000001,
          -42.56800000000001,
          -11.569999999999997,
          -20.522,
          -23.028,
          -25.677999999999997,
          -44.816,
          -92.01200000000001,
          -88.66600000000001,
          -76.418,
          -67.356,
          -105.602,
          -96.44999999999999,
          -39.916,
          -60.489999999999995,
          -69.388,
          -71.69200000000001,
          -73.988,
          -141.594,
          -139.876,
          -137.71599999999998,
          -128.37000000000003,
          -119.68199999999999,
          -101.99600000000001,
          -92.83399999999999,
          -35.206,
          15.070000000000011,
          6.122,
          -3.6499999999999972,
          -6.126000000000007,
          -22.378,
          -41.446000000000005,
          -40.222,
          -28.088,
          -19.258000000000003,
          -51.934000000000005,
          -90.194,
          -31.574000000000005,
          15.895999999999997,
          5.871999999999997,
          -5.078000000000003,
          -7.474000000000009,
          -20.084000000000003,
          -37.89
         ]
        },
        {
         "marker": {
          "color": "red",
          "size": 5
         },
         "mode": "markers",
         "name": "Anomalous coord",
         "type": "scatter",
         "x": [
          "2023-10-11T13:17:57",
          "2023-10-11T13:18:00",
          "2023-10-11T13:18:03",
          "2023-10-11T13:18:06",
          "2023-10-11T13:18:09",
          "2023-10-11T13:18:36",
          "2023-10-11T13:18:39",
          "2023-10-11T13:18:42",
          "2023-10-11T13:18:45",
          "2023-10-11T13:18:48",
          "2023-10-11T13:19:18",
          "2023-10-11T13:19:21",
          "2023-10-11T13:19:24"
         ],
         "y": [
          -141.73,
          -137.458,
          -125.23999999999998,
          -113.07800000000002,
          -97.214,
          -48.388,
          -38.96,
          -29.560000000000002,
          -62.718,
          -102.08800000000001,
          -76.418,
          -67.356,
          -105.602
         ]
        }
       ],
       "layout": {
        "template": {
         "data": {
          "bar": [
           {
            "error_x": {
             "color": "#2a3f5f"
            },
            "error_y": {
             "color": "#2a3f5f"
            },
            "marker": {
             "line": {
              "color": "#E5ECF6",
              "width": 0.5
             },
             "pattern": {
              "fillmode": "overlay",
              "size": 10,
              "solidity": 0.2
             }
            },
            "type": "bar"
           }
          ],
          "barpolar": [
           {
            "marker": {
             "line": {
              "color": "#E5ECF6",
              "width": 0.5
             },
             "pattern": {
              "fillmode": "overlay",
              "size": 10,
              "solidity": 0.2
             }
            },
            "type": "barpolar"
           }
          ],
          "carpet": [
           {
            "aaxis": {
             "endlinecolor": "#2a3f5f",
             "gridcolor": "white",
             "linecolor": "white",
             "minorgridcolor": "white",
             "startlinecolor": "#2a3f5f"
            },
            "baxis": {
             "endlinecolor": "#2a3f5f",
             "gridcolor": "white",
             "linecolor": "white",
             "minorgridcolor": "white",
             "startlinecolor": "#2a3f5f"
            },
            "type": "carpet"
           }
          ],
          "choropleth": [
           {
            "colorbar": {
             "outlinewidth": 0,
             "ticks": ""
            },
            "type": "choropleth"
           }
          ],
          "contour": [
           {
            "colorbar": {
             "outlinewidth": 0,
             "ticks": ""
            },
            "colorscale": [
             [
              0,
              "#0d0887"
             ],
             [
              0.1111111111111111,
              "#46039f"
             ],
             [
              0.2222222222222222,
              "#7201a8"
             ],
             [
              0.3333333333333333,
              "#9c179e"
             ],
             [
              0.4444444444444444,
              "#bd3786"
             ],
             [
              0.5555555555555556,
              "#d8576b"
             ],
             [
              0.6666666666666666,
              "#ed7953"
             ],
             [
              0.7777777777777778,
              "#fb9f3a"
             ],
             [
              0.8888888888888888,
              "#fdca26"
             ],
             [
              1,
              "#f0f921"
             ]
            ],
            "type": "contour"
           }
          ],
          "contourcarpet": [
           {
            "colorbar": {
             "outlinewidth": 0,
             "ticks": ""
            },
            "type": "contourcarpet"
           }
          ],
          "heatmap": [
           {
            "colorbar": {
             "outlinewidth": 0,
             "ticks": ""
            },
            "colorscale": [
             [
              0,
              "#0d0887"
             ],
             [
              0.1111111111111111,
              "#46039f"
             ],
             [
              0.2222222222222222,
              "#7201a8"
             ],
             [
              0.3333333333333333,
              "#9c179e"
             ],
             [
              0.4444444444444444,
              "#bd3786"
             ],
             [
              0.5555555555555556,
              "#d8576b"
             ],
             [
              0.6666666666666666,
              "#ed7953"
             ],
             [
              0.7777777777777778,
              "#fb9f3a"
             ],
             [
              0.8888888888888888,
              "#fdca26"
             ],
             [
              1,
              "#f0f921"
             ]
            ],
            "type": "heatmap"
           }
          ],
          "heatmapgl": [
           {
            "colorbar": {
             "outlinewidth": 0,
             "ticks": ""
            },
            "colorscale": [
             [
              0,
              "#0d0887"
             ],
             [
              0.1111111111111111,
              "#46039f"
             ],
             [
              0.2222222222222222,
              "#7201a8"
             ],
             [
              0.3333333333333333,
              "#9c179e"
             ],
             [
              0.4444444444444444,
              "#bd3786"
             ],
             [
              0.5555555555555556,
              "#d8576b"
             ],
             [
              0.6666666666666666,
              "#ed7953"
             ],
             [
              0.7777777777777778,
              "#fb9f3a"
             ],
             [
              0.8888888888888888,
              "#fdca26"
             ],
             [
              1,
              "#f0f921"
             ]
            ],
            "type": "heatmapgl"
           }
          ],
          "histogram": [
           {
            "marker": {
             "pattern": {
              "fillmode": "overlay",
              "size": 10,
              "solidity": 0.2
             }
            },
            "type": "histogram"
           }
          ],
          "histogram2d": [
           {
            "colorbar": {
             "outlinewidth": 0,
             "ticks": ""
            },
            "colorscale": [
             [
              0,
              "#0d0887"
             ],
             [
              0.1111111111111111,
              "#46039f"
             ],
             [
              0.2222222222222222,
              "#7201a8"
             ],
             [
              0.3333333333333333,
              "#9c179e"
             ],
             [
              0.4444444444444444,
              "#bd3786"
             ],
             [
              0.5555555555555556,
              "#d8576b"
             ],
             [
              0.6666666666666666,
              "#ed7953"
             ],
             [
              0.7777777777777778,
              "#fb9f3a"
             ],
             [
              0.8888888888888888,
              "#fdca26"
             ],
             [
              1,
              "#f0f921"
             ]
            ],
            "type": "histogram2d"
           }
          ],
          "histogram2dcontour": [
           {
            "colorbar": {
             "outlinewidth": 0,
             "ticks": ""
            },
            "colorscale": [
             [
              0,
              "#0d0887"
             ],
             [
              0.1111111111111111,
              "#46039f"
             ],
             [
              0.2222222222222222,
              "#7201a8"
             ],
             [
              0.3333333333333333,
              "#9c179e"
             ],
             [
              0.4444444444444444,
              "#bd3786"
             ],
             [
              0.5555555555555556,
              "#d8576b"
             ],
             [
              0.6666666666666666,
              "#ed7953"
             ],
             [
              0.7777777777777778,
              "#fb9f3a"
             ],
             [
              0.8888888888888888,
              "#fdca26"
             ],
             [
              1,
              "#f0f921"
             ]
            ],
            "type": "histogram2dcontour"
           }
          ],
          "mesh3d": [
           {
            "colorbar": {
             "outlinewidth": 0,
             "ticks": ""
            },
            "type": "mesh3d"
           }
          ],
          "parcoords": [
           {
            "line": {
             "colorbar": {
              "outlinewidth": 0,
              "ticks": ""
             }
            },
            "type": "parcoords"
           }
          ],
          "pie": [
           {
            "automargin": true,
            "type": "pie"
           }
          ],
          "scatter": [
           {
            "fillpattern": {
             "fillmode": "overlay",
             "size": 10,
             "solidity": 0.2
            },
            "type": "scatter"
           }
          ],
          "scatter3d": [
           {
            "line": {
             "colorbar": {
              "outlinewidth": 0,
              "ticks": ""
             }
            },
            "marker": {
             "colorbar": {
              "outlinewidth": 0,
              "ticks": ""
             }
            },
            "type": "scatter3d"
           }
          ],
          "scattercarpet": [
           {
            "marker": {
             "colorbar": {
              "outlinewidth": 0,
              "ticks": ""
             }
            },
            "type": "scattercarpet"
           }
          ],
          "scattergeo": [
           {
            "marker": {
             "colorbar": {
              "outlinewidth": 0,
              "ticks": ""
             }
            },
            "type": "scattergeo"
           }
          ],
          "scattergl": [
           {
            "marker": {
             "colorbar": {
              "outlinewidth": 0,
              "ticks": ""
             }
            },
            "type": "scattergl"
           }
          ],
          "scattermapbox": [
           {
            "marker": {
             "colorbar": {
              "outlinewidth": 0,
              "ticks": ""
             }
            },
            "type": "scattermapbox"
           }
          ],
          "scatterpolar": [
           {
            "marker": {
             "colorbar": {
              "outlinewidth": 0,
              "ticks": ""
             }
            },
            "type": "scatterpolar"
           }
          ],
          "scatterpolargl": [
           {
            "marker": {
             "colorbar": {
              "outlinewidth": 0,
              "ticks": ""
             }
            },
            "type": "scatterpolargl"
           }
          ],
          "scatterternary": [
           {
            "marker": {
             "colorbar": {
              "outlinewidth": 0,
              "ticks": ""
             }
            },
            "type": "scatterternary"
           }
          ],
          "surface": [
           {
            "colorbar": {
             "outlinewidth": 0,
             "ticks": ""
            },
            "colorscale": [
             [
              0,
              "#0d0887"
             ],
             [
              0.1111111111111111,
              "#46039f"
             ],
             [
              0.2222222222222222,
              "#7201a8"
             ],
             [
              0.3333333333333333,
              "#9c179e"
             ],
             [
              0.4444444444444444,
              "#bd3786"
             ],
             [
              0.5555555555555556,
              "#d8576b"
             ],
             [
              0.6666666666666666,
              "#ed7953"
             ],
             [
              0.7777777777777778,
              "#fb9f3a"
             ],
             [
              0.8888888888888888,
              "#fdca26"
             ],
             [
              1,
              "#f0f921"
             ]
            ],
            "type": "surface"
           }
          ],
          "table": [
           {
            "cells": {
             "fill": {
              "color": "#EBF0F8"
             },
             "line": {
              "color": "white"
             }
            },
            "header": {
             "fill": {
              "color": "#C8D4E3"
             },
             "line": {
              "color": "white"
             }
            },
            "type": "table"
           }
          ]
         },
         "layout": {
          "annotationdefaults": {
           "arrowcolor": "#2a3f5f",
           "arrowhead": 0,
           "arrowwidth": 1
          },
          "autotypenumbers": "strict",
          "coloraxis": {
           "colorbar": {
            "outlinewidth": 0,
            "ticks": ""
           }
          },
          "colorscale": {
           "diverging": [
            [
             0,
             "#8e0152"
            ],
            [
             0.1,
             "#c51b7d"
            ],
            [
             0.2,
             "#de77ae"
            ],
            [
             0.3,
             "#f1b6da"
            ],
            [
             0.4,
             "#fde0ef"
            ],
            [
             0.5,
             "#f7f7f7"
            ],
            [
             0.6,
             "#e6f5d0"
            ],
            [
             0.7,
             "#b8e186"
            ],
            [
             0.8,
             "#7fbc41"
            ],
            [
             0.9,
             "#4d9221"
            ],
            [
             1,
             "#276419"
            ]
           ],
           "sequential": [
            [
             0,
             "#0d0887"
            ],
            [
             0.1111111111111111,
             "#46039f"
            ],
            [
             0.2222222222222222,
             "#7201a8"
            ],
            [
             0.3333333333333333,
             "#9c179e"
            ],
            [
             0.4444444444444444,
             "#bd3786"
            ],
            [
             0.5555555555555556,
             "#d8576b"
            ],
            [
             0.6666666666666666,
             "#ed7953"
            ],
            [
             0.7777777777777778,
             "#fb9f3a"
            ],
            [
             0.8888888888888888,
             "#fdca26"
            ],
            [
             1,
             "#f0f921"
            ]
           ],
           "sequentialminus": [
            [
             0,
             "#0d0887"
            ],
            [
             0.1111111111111111,
             "#46039f"
            ],
            [
             0.2222222222222222,
             "#7201a8"
            ],
            [
             0.3333333333333333,
             "#9c179e"
            ],
            [
             0.4444444444444444,
             "#bd3786"
            ],
            [
             0.5555555555555556,
             "#d8576b"
            ],
            [
             0.6666666666666666,
             "#ed7953"
            ],
            [
             0.7777777777777778,
             "#fb9f3a"
            ],
            [
             0.8888888888888888,
             "#fdca26"
            ],
            [
             1,
             "#f0f921"
            ]
           ]
          },
          "colorway": [
           "#636efa",
           "#EF553B",
           "#00cc96",
           "#ab63fa",
           "#FFA15A",
           "#19d3f3",
           "#FF6692",
           "#B6E880",
           "#FF97FF",
           "#FECB52"
          ],
          "font": {
           "color": "#2a3f5f"
          },
          "geo": {
           "bgcolor": "white",
           "lakecolor": "white",
           "landcolor": "#E5ECF6",
           "showlakes": true,
           "showland": true,
           "subunitcolor": "white"
          },
          "hoverlabel": {
           "align": "left"
          },
          "hovermode": "closest",
          "mapbox": {
           "style": "light"
          },
          "paper_bgcolor": "white",
          "plot_bgcolor": "#E5ECF6",
          "polar": {
           "angularaxis": {
            "gridcolor": "white",
            "linecolor": "white",
            "ticks": ""
           },
           "bgcolor": "#E5ECF6",
           "radialaxis": {
            "gridcolor": "white",
            "linecolor": "white",
            "ticks": ""
           }
          },
          "scene": {
           "xaxis": {
            "backgroundcolor": "#E5ECF6",
            "gridcolor": "white",
            "gridwidth": 2,
            "linecolor": "white",
            "showbackground": true,
            "ticks": "",
            "zerolinecolor": "white"
           },
           "yaxis": {
            "backgroundcolor": "#E5ECF6",
            "gridcolor": "white",
            "gridwidth": 2,
            "linecolor": "white",
            "showbackground": true,
            "ticks": "",
            "zerolinecolor": "white"
           },
           "zaxis": {
            "backgroundcolor": "#E5ECF6",
            "gridcolor": "white",
            "gridwidth": 2,
            "linecolor": "white",
            "showbackground": true,
            "ticks": "",
            "zerolinecolor": "white"
           }
          },
          "shapedefaults": {
           "line": {
            "color": "#2a3f5f"
           }
          },
          "ternary": {
           "aaxis": {
            "gridcolor": "white",
            "linecolor": "white",
            "ticks": ""
           },
           "baxis": {
            "gridcolor": "white",
            "linecolor": "white",
            "ticks": ""
           },
           "bgcolor": "#E5ECF6",
           "caxis": {
            "gridcolor": "white",
            "linecolor": "white",
            "ticks": ""
           }
          },
          "title": {
           "x": 0.05
          },
          "xaxis": {
           "automargin": true,
           "gridcolor": "white",
           "linecolor": "white",
           "ticks": "",
           "title": {
            "standoff": 15
           },
           "zerolinecolor": "white",
           "zerolinewidth": 2
          },
          "yaxis": {
           "automargin": true,
           "gridcolor": "white",
           "linecolor": "white",
           "ticks": "",
           "title": {
            "standoff": 15
           },
           "zerolinecolor": "white",
           "zerolinewidth": 2
          }
         }
        }
       }
      }
     },
     "metadata": {},
     "output_type": "display_data"
    }
   ],
   "source": [
    "# Prepare the 'normal' data into sequences\n",
    "sequence = create_overlapping_sequences(normal['coord'].values, sequence_length)\n",
    "sequence = sequence.reshape((sequence.shape[0], sequence_length, input_dim))\n",
    "\n",
    "# Use the Autoencoder to predict on the sequences\n",
    "predictions = autoencoder.predict(sequence)\n",
    "\n",
    "# Calculate reconstruction error for each sequence\n",
    "mse = np.mean(np.power(sequence - predictions, 2), axis=(1, 2))\n",
    "\n",
    "# Scale the MSE to a percentage\n",
    "min_mse = np.min(mse)\n",
    "max_mse = np.max(mse)\n",
    "mse_percentage = ((mse - min_mse) / (max_mse - min_mse)) * 100\n",
    "\n",
    "# Detect anomalies by comparing the scaled reconstruction error to some threshold\n",
    "threshold = 60  # Define a threshold value (in percentage)\n",
    "\n",
    "# Handling the offset caused by sequence creation\n",
    "offset = len(normal) - len(mse_percentage)\n",
    "\n",
    "# Initialize columns with default values\n",
    "normal['is_anomalous'] = False\n",
    "normal['mse_percentage'] = np.nan\n",
    "normal['threshold'] = threshold\n",
    "\n",
    "# Use .loc to safely assign values\n",
    "normal.loc[normal.index[offset:], 'is_anomalous'] = mse_percentage > threshold\n",
    "normal.loc[normal.index[offset:], 'mse_percentage'] = mse_percentage\n",
    "\n",
    "\n",
    "\n",
    "\n",
    "# Create a new figure\n",
    "fig = go.Figure()\n",
    "\n",
    "\n",
    "# Add a line for the actual load\n",
    "fig.add_trace(go.Scatter(\n",
    "    x=normal.index,\n",
    "    y=normal[\"coord\"],\n",
    "    mode='lines',\n",
    "    name='coord',\n",
    "    line=dict(color='green'),  # specify line color here\n",
    "))\n",
    "\n",
    "# Add a line for the anomalous load\n",
    "fig.add_trace(go.Scatter(\n",
    "    x=normal[normal['is_anomalous']].index,\n",
    "    y=normal[normal['is_anomalous']][\"coord\"],\n",
    "    mode='markers',\n",
    "    name='Anomalous coord',\n",
    "    marker=dict(color='red', size=5),  # specify marker color and size here\n",
    "))\n",
    "\n",
    "# Show the plot\n",
    "fig.show()\n",
    "normal.to_csv('normal_data_result.csv')"
   ]
  },
  {
   "cell_type": "code",
   "execution_count": 48,
   "metadata": {},
   "outputs": [
    {
     "name": "stdout",
     "output_type": "stream",
     "text": [
      "2/2 [==============================] - 0s 35ms/step\n"
     ]
    },
    {
     "data": {
      "application/vnd.plotly.v1+json": {
       "config": {
        "plotlyServerURL": "https://plot.ly"
       },
       "data": [
        {
         "line": {
          "color": "green"
         },
         "mode": "lines",
         "name": "coord",
         "type": "scatter",
         "x": [
          "2023-10-11T13:24:30",
          "2023-10-11T13:24:33",
          "2023-10-11T13:24:36",
          "2023-10-11T13:24:39",
          "2023-10-11T13:24:42",
          "2023-10-11T13:24:45",
          "2023-10-11T13:24:48",
          "2023-10-11T13:24:51",
          "2023-10-11T13:24:54",
          "2023-10-11T13:24:57",
          "2023-10-11T13:25:00",
          "2023-10-11T13:25:03",
          "2023-10-11T13:25:06",
          "2023-10-11T13:25:09",
          "2023-10-11T13:25:12",
          "2023-10-11T13:25:15",
          "2023-10-11T13:25:18",
          "2023-10-11T13:25:21",
          "2023-10-11T13:25:24",
          "2023-10-11T13:25:27",
          "2023-10-11T13:25:30",
          "2023-10-11T13:25:33",
          "2023-10-11T13:25:36",
          "2023-10-11T13:25:39",
          "2023-10-11T13:25:42",
          "2023-10-11T13:25:45",
          "2023-10-11T13:25:48",
          "2023-10-11T13:25:51",
          "2023-10-11T13:25:54",
          "2023-10-11T13:25:57",
          "2023-10-11T13:26:00",
          "2023-10-11T13:26:03",
          "2023-10-11T13:26:06",
          "2023-10-11T13:26:09",
          "2023-10-11T13:26:12",
          "2023-10-11T13:26:15",
          "2023-10-11T13:26:18",
          "2023-10-11T13:26:21",
          "2023-10-11T13:26:24",
          "2023-10-11T13:26:27",
          "2023-10-11T13:26:30",
          "2023-10-11T13:26:33",
          "2023-10-11T13:26:36",
          "2023-10-11T13:26:39",
          "2023-10-11T13:26:42",
          "2023-10-11T13:26:45",
          "2023-10-11T13:26:48",
          "2023-10-11T13:26:51",
          "2023-10-11T13:26:54",
          "2023-10-11T13:26:57",
          "2023-10-11T13:27:00",
          "2023-10-11T13:27:03",
          "2023-10-11T13:27:06",
          "2023-10-11T13:27:09",
          "2023-10-11T13:27:12",
          "2023-10-11T13:27:15",
          "2023-10-11T13:27:18",
          "2023-10-11T13:27:21",
          "2023-10-11T13:27:24",
          "2023-10-11T13:27:27",
          "2023-10-11T13:27:30",
          "2023-10-11T13:27:33",
          "2023-10-11T13:27:36",
          "2023-10-11T13:27:39",
          "2023-10-11T13:27:42",
          "2023-10-11T13:27:45"
         ],
         "y": [
          -87.036,
          -39.629999999999995,
          -4.999999999999995,
          -4.625999999999996,
          1.7320000000000022,
          11.719999999999992,
          -45.61,
          -32.85000000000001,
          17.678000000000004,
          20.99,
          20.639999999999997,
          27.107999999999993,
          -30.182,
          -87.47200000000001,
          -39.84599999999999,
          -57.38399999999999,
          -57.028,
          -50.681999999999995,
          -41.4,
          -98.65,
          -33.492000000000004,
          16.976000000000006,
          20.262,
          20.618000000000002,
          26.98799999999999,
          -30.3,
          -87.53,
          -39.92600000000001,
          -57.516,
          -57.108000000000004,
          -50.784,
          -39.824,
          -97.006,
          -31.778000000000002,
          18.690000000000005,
          21.988000000000003,
          20.662,
          29.534000000000002,
          -27.758000000000003,
          -84.98800000000001,
          -37.38200000000001,
          -54.302,
          -56.434000000000005,
          -50.118,
          -40.8,
          -97.99799999999999,
          -33.43599999999999,
          17.012,
          19.906000000000006,
          20.248000000000005,
          26.620000000000005,
          -30.69599999999999,
          -87.90799999999999,
          -39.895999999999994,
          -55.012,
          -54.602,
          -48.245999999999995,
          -40.65,
          -97.85,
          -35.14,
          15.278000000000002,
          18.562,
          20.602,
          28.079999999999995,
          -29.198,
          -86.404
         ]
        },
        {
         "marker": {
          "color": "red",
          "size": 5
         },
         "mode": "markers",
         "name": "Anomalous coord",
         "type": "scatter",
         "x": [
          "2023-10-11T13:26:24",
          "2023-10-11T13:26:27",
          "2023-10-11T13:26:30",
          "2023-10-11T13:26:33",
          "2023-10-11T13:26:36",
          "2023-10-11T13:26:39",
          "2023-10-11T13:27:03",
          "2023-10-11T13:27:06",
          "2023-10-11T13:27:09",
          "2023-10-11T13:27:12",
          "2023-10-11T13:27:15",
          "2023-10-11T13:27:18",
          "2023-10-11T13:27:42",
          "2023-10-11T13:27:45"
         ],
         "y": [
          -27.758000000000003,
          -84.98800000000001,
          -37.38200000000001,
          -54.302,
          -56.434000000000005,
          -50.118,
          -30.69599999999999,
          -87.90799999999999,
          -39.895999999999994,
          -55.012,
          -54.602,
          -48.245999999999995,
          -29.198,
          -86.404
         ]
        }
       ],
       "layout": {
        "template": {
         "data": {
          "bar": [
           {
            "error_x": {
             "color": "#2a3f5f"
            },
            "error_y": {
             "color": "#2a3f5f"
            },
            "marker": {
             "line": {
              "color": "#E5ECF6",
              "width": 0.5
             },
             "pattern": {
              "fillmode": "overlay",
              "size": 10,
              "solidity": 0.2
             }
            },
            "type": "bar"
           }
          ],
          "barpolar": [
           {
            "marker": {
             "line": {
              "color": "#E5ECF6",
              "width": 0.5
             },
             "pattern": {
              "fillmode": "overlay",
              "size": 10,
              "solidity": 0.2
             }
            },
            "type": "barpolar"
           }
          ],
          "carpet": [
           {
            "aaxis": {
             "endlinecolor": "#2a3f5f",
             "gridcolor": "white",
             "linecolor": "white",
             "minorgridcolor": "white",
             "startlinecolor": "#2a3f5f"
            },
            "baxis": {
             "endlinecolor": "#2a3f5f",
             "gridcolor": "white",
             "linecolor": "white",
             "minorgridcolor": "white",
             "startlinecolor": "#2a3f5f"
            },
            "type": "carpet"
           }
          ],
          "choropleth": [
           {
            "colorbar": {
             "outlinewidth": 0,
             "ticks": ""
            },
            "type": "choropleth"
           }
          ],
          "contour": [
           {
            "colorbar": {
             "outlinewidth": 0,
             "ticks": ""
            },
            "colorscale": [
             [
              0,
              "#0d0887"
             ],
             [
              0.1111111111111111,
              "#46039f"
             ],
             [
              0.2222222222222222,
              "#7201a8"
             ],
             [
              0.3333333333333333,
              "#9c179e"
             ],
             [
              0.4444444444444444,
              "#bd3786"
             ],
             [
              0.5555555555555556,
              "#d8576b"
             ],
             [
              0.6666666666666666,
              "#ed7953"
             ],
             [
              0.7777777777777778,
              "#fb9f3a"
             ],
             [
              0.8888888888888888,
              "#fdca26"
             ],
             [
              1,
              "#f0f921"
             ]
            ],
            "type": "contour"
           }
          ],
          "contourcarpet": [
           {
            "colorbar": {
             "outlinewidth": 0,
             "ticks": ""
            },
            "type": "contourcarpet"
           }
          ],
          "heatmap": [
           {
            "colorbar": {
             "outlinewidth": 0,
             "ticks": ""
            },
            "colorscale": [
             [
              0,
              "#0d0887"
             ],
             [
              0.1111111111111111,
              "#46039f"
             ],
             [
              0.2222222222222222,
              "#7201a8"
             ],
             [
              0.3333333333333333,
              "#9c179e"
             ],
             [
              0.4444444444444444,
              "#bd3786"
             ],
             [
              0.5555555555555556,
              "#d8576b"
             ],
             [
              0.6666666666666666,
              "#ed7953"
             ],
             [
              0.7777777777777778,
              "#fb9f3a"
             ],
             [
              0.8888888888888888,
              "#fdca26"
             ],
             [
              1,
              "#f0f921"
             ]
            ],
            "type": "heatmap"
           }
          ],
          "heatmapgl": [
           {
            "colorbar": {
             "outlinewidth": 0,
             "ticks": ""
            },
            "colorscale": [
             [
              0,
              "#0d0887"
             ],
             [
              0.1111111111111111,
              "#46039f"
             ],
             [
              0.2222222222222222,
              "#7201a8"
             ],
             [
              0.3333333333333333,
              "#9c179e"
             ],
             [
              0.4444444444444444,
              "#bd3786"
             ],
             [
              0.5555555555555556,
              "#d8576b"
             ],
             [
              0.6666666666666666,
              "#ed7953"
             ],
             [
              0.7777777777777778,
              "#fb9f3a"
             ],
             [
              0.8888888888888888,
              "#fdca26"
             ],
             [
              1,
              "#f0f921"
             ]
            ],
            "type": "heatmapgl"
           }
          ],
          "histogram": [
           {
            "marker": {
             "pattern": {
              "fillmode": "overlay",
              "size": 10,
              "solidity": 0.2
             }
            },
            "type": "histogram"
           }
          ],
          "histogram2d": [
           {
            "colorbar": {
             "outlinewidth": 0,
             "ticks": ""
            },
            "colorscale": [
             [
              0,
              "#0d0887"
             ],
             [
              0.1111111111111111,
              "#46039f"
             ],
             [
              0.2222222222222222,
              "#7201a8"
             ],
             [
              0.3333333333333333,
              "#9c179e"
             ],
             [
              0.4444444444444444,
              "#bd3786"
             ],
             [
              0.5555555555555556,
              "#d8576b"
             ],
             [
              0.6666666666666666,
              "#ed7953"
             ],
             [
              0.7777777777777778,
              "#fb9f3a"
             ],
             [
              0.8888888888888888,
              "#fdca26"
             ],
             [
              1,
              "#f0f921"
             ]
            ],
            "type": "histogram2d"
           }
          ],
          "histogram2dcontour": [
           {
            "colorbar": {
             "outlinewidth": 0,
             "ticks": ""
            },
            "colorscale": [
             [
              0,
              "#0d0887"
             ],
             [
              0.1111111111111111,
              "#46039f"
             ],
             [
              0.2222222222222222,
              "#7201a8"
             ],
             [
              0.3333333333333333,
              "#9c179e"
             ],
             [
              0.4444444444444444,
              "#bd3786"
             ],
             [
              0.5555555555555556,
              "#d8576b"
             ],
             [
              0.6666666666666666,
              "#ed7953"
             ],
             [
              0.7777777777777778,
              "#fb9f3a"
             ],
             [
              0.8888888888888888,
              "#fdca26"
             ],
             [
              1,
              "#f0f921"
             ]
            ],
            "type": "histogram2dcontour"
           }
          ],
          "mesh3d": [
           {
            "colorbar": {
             "outlinewidth": 0,
             "ticks": ""
            },
            "type": "mesh3d"
           }
          ],
          "parcoords": [
           {
            "line": {
             "colorbar": {
              "outlinewidth": 0,
              "ticks": ""
             }
            },
            "type": "parcoords"
           }
          ],
          "pie": [
           {
            "automargin": true,
            "type": "pie"
           }
          ],
          "scatter": [
           {
            "fillpattern": {
             "fillmode": "overlay",
             "size": 10,
             "solidity": 0.2
            },
            "type": "scatter"
           }
          ],
          "scatter3d": [
           {
            "line": {
             "colorbar": {
              "outlinewidth": 0,
              "ticks": ""
             }
            },
            "marker": {
             "colorbar": {
              "outlinewidth": 0,
              "ticks": ""
             }
            },
            "type": "scatter3d"
           }
          ],
          "scattercarpet": [
           {
            "marker": {
             "colorbar": {
              "outlinewidth": 0,
              "ticks": ""
             }
            },
            "type": "scattercarpet"
           }
          ],
          "scattergeo": [
           {
            "marker": {
             "colorbar": {
              "outlinewidth": 0,
              "ticks": ""
             }
            },
            "type": "scattergeo"
           }
          ],
          "scattergl": [
           {
            "marker": {
             "colorbar": {
              "outlinewidth": 0,
              "ticks": ""
             }
            },
            "type": "scattergl"
           }
          ],
          "scattermapbox": [
           {
            "marker": {
             "colorbar": {
              "outlinewidth": 0,
              "ticks": ""
             }
            },
            "type": "scattermapbox"
           }
          ],
          "scatterpolar": [
           {
            "marker": {
             "colorbar": {
              "outlinewidth": 0,
              "ticks": ""
             }
            },
            "type": "scatterpolar"
           }
          ],
          "scatterpolargl": [
           {
            "marker": {
             "colorbar": {
              "outlinewidth": 0,
              "ticks": ""
             }
            },
            "type": "scatterpolargl"
           }
          ],
          "scatterternary": [
           {
            "marker": {
             "colorbar": {
              "outlinewidth": 0,
              "ticks": ""
             }
            },
            "type": "scatterternary"
           }
          ],
          "surface": [
           {
            "colorbar": {
             "outlinewidth": 0,
             "ticks": ""
            },
            "colorscale": [
             [
              0,
              "#0d0887"
             ],
             [
              0.1111111111111111,
              "#46039f"
             ],
             [
              0.2222222222222222,
              "#7201a8"
             ],
             [
              0.3333333333333333,
              "#9c179e"
             ],
             [
              0.4444444444444444,
              "#bd3786"
             ],
             [
              0.5555555555555556,
              "#d8576b"
             ],
             [
              0.6666666666666666,
              "#ed7953"
             ],
             [
              0.7777777777777778,
              "#fb9f3a"
             ],
             [
              0.8888888888888888,
              "#fdca26"
             ],
             [
              1,
              "#f0f921"
             ]
            ],
            "type": "surface"
           }
          ],
          "table": [
           {
            "cells": {
             "fill": {
              "color": "#EBF0F8"
             },
             "line": {
              "color": "white"
             }
            },
            "header": {
             "fill": {
              "color": "#C8D4E3"
             },
             "line": {
              "color": "white"
             }
            },
            "type": "table"
           }
          ]
         },
         "layout": {
          "annotationdefaults": {
           "arrowcolor": "#2a3f5f",
           "arrowhead": 0,
           "arrowwidth": 1
          },
          "autotypenumbers": "strict",
          "coloraxis": {
           "colorbar": {
            "outlinewidth": 0,
            "ticks": ""
           }
          },
          "colorscale": {
           "diverging": [
            [
             0,
             "#8e0152"
            ],
            [
             0.1,
             "#c51b7d"
            ],
            [
             0.2,
             "#de77ae"
            ],
            [
             0.3,
             "#f1b6da"
            ],
            [
             0.4,
             "#fde0ef"
            ],
            [
             0.5,
             "#f7f7f7"
            ],
            [
             0.6,
             "#e6f5d0"
            ],
            [
             0.7,
             "#b8e186"
            ],
            [
             0.8,
             "#7fbc41"
            ],
            [
             0.9,
             "#4d9221"
            ],
            [
             1,
             "#276419"
            ]
           ],
           "sequential": [
            [
             0,
             "#0d0887"
            ],
            [
             0.1111111111111111,
             "#46039f"
            ],
            [
             0.2222222222222222,
             "#7201a8"
            ],
            [
             0.3333333333333333,
             "#9c179e"
            ],
            [
             0.4444444444444444,
             "#bd3786"
            ],
            [
             0.5555555555555556,
             "#d8576b"
            ],
            [
             0.6666666666666666,
             "#ed7953"
            ],
            [
             0.7777777777777778,
             "#fb9f3a"
            ],
            [
             0.8888888888888888,
             "#fdca26"
            ],
            [
             1,
             "#f0f921"
            ]
           ],
           "sequentialminus": [
            [
             0,
             "#0d0887"
            ],
            [
             0.1111111111111111,
             "#46039f"
            ],
            [
             0.2222222222222222,
             "#7201a8"
            ],
            [
             0.3333333333333333,
             "#9c179e"
            ],
            [
             0.4444444444444444,
             "#bd3786"
            ],
            [
             0.5555555555555556,
             "#d8576b"
            ],
            [
             0.6666666666666666,
             "#ed7953"
            ],
            [
             0.7777777777777778,
             "#fb9f3a"
            ],
            [
             0.8888888888888888,
             "#fdca26"
            ],
            [
             1,
             "#f0f921"
            ]
           ]
          },
          "colorway": [
           "#636efa",
           "#EF553B",
           "#00cc96",
           "#ab63fa",
           "#FFA15A",
           "#19d3f3",
           "#FF6692",
           "#B6E880",
           "#FF97FF",
           "#FECB52"
          ],
          "font": {
           "color": "#2a3f5f"
          },
          "geo": {
           "bgcolor": "white",
           "lakecolor": "white",
           "landcolor": "#E5ECF6",
           "showlakes": true,
           "showland": true,
           "subunitcolor": "white"
          },
          "hoverlabel": {
           "align": "left"
          },
          "hovermode": "closest",
          "mapbox": {
           "style": "light"
          },
          "paper_bgcolor": "white",
          "plot_bgcolor": "#E5ECF6",
          "polar": {
           "angularaxis": {
            "gridcolor": "white",
            "linecolor": "white",
            "ticks": ""
           },
           "bgcolor": "#E5ECF6",
           "radialaxis": {
            "gridcolor": "white",
            "linecolor": "white",
            "ticks": ""
           }
          },
          "scene": {
           "xaxis": {
            "backgroundcolor": "#E5ECF6",
            "gridcolor": "white",
            "gridwidth": 2,
            "linecolor": "white",
            "showbackground": true,
            "ticks": "",
            "zerolinecolor": "white"
           },
           "yaxis": {
            "backgroundcolor": "#E5ECF6",
            "gridcolor": "white",
            "gridwidth": 2,
            "linecolor": "white",
            "showbackground": true,
            "ticks": "",
            "zerolinecolor": "white"
           },
           "zaxis": {
            "backgroundcolor": "#E5ECF6",
            "gridcolor": "white",
            "gridwidth": 2,
            "linecolor": "white",
            "showbackground": true,
            "ticks": "",
            "zerolinecolor": "white"
           }
          },
          "shapedefaults": {
           "line": {
            "color": "#2a3f5f"
           }
          },
          "ternary": {
           "aaxis": {
            "gridcolor": "white",
            "linecolor": "white",
            "ticks": ""
           },
           "baxis": {
            "gridcolor": "white",
            "linecolor": "white",
            "ticks": ""
           },
           "bgcolor": "#E5ECF6",
           "caxis": {
            "gridcolor": "white",
            "linecolor": "white",
            "ticks": ""
           }
          },
          "title": {
           "x": 0.05
          },
          "xaxis": {
           "automargin": true,
           "gridcolor": "white",
           "linecolor": "white",
           "ticks": "",
           "title": {
            "standoff": 15
           },
           "zerolinecolor": "white",
           "zerolinewidth": 2
          },
          "yaxis": {
           "automargin": true,
           "gridcolor": "white",
           "linecolor": "white",
           "ticks": "",
           "title": {
            "standoff": 15
           },
           "zerolinecolor": "white",
           "zerolinewidth": 2
          }
         }
        }
       }
      }
     },
     "metadata": {},
     "output_type": "display_data"
    }
   ],
   "source": [
    "# Prepare the 'normal' data into sequences\n",
    "sequences = create_overlapping_sequences(death_loop['coord'].values, sequence_length)\n",
    "sequences = sequences.reshape((sequences.shape[0], sequence_length, input_dim))\n",
    "\n",
    "# Use the Autoencoder to predict on the sequences\n",
    "predictions = autoencoder.predict(sequences)\n",
    "\n",
    "# Calculate reconstruction error for each sequence\n",
    "mse = np.mean(np.power(sequences - predictions, 2), axis=(1, 2))\n",
    "\n",
    "# Scale the MSE to a percentage\n",
    "min_mse = np.min(mse)\n",
    "max_mse = np.max(mse)\n",
    "mse_percentage = ((mse - min_mse) / (max_mse - min_mse)) * 100\n",
    "\n",
    "# Detect anomalies by comparing the scaled reconstruction error to some threshold\n",
    "threshold = 60  # Define a threshold value (in percentage)\n",
    "\n",
    "# Handling the offset caused by sequence creation\n",
    "offset = len(death_loop) - len(mse_percentage)\n",
    "\n",
    "# Initialize columns with default values\n",
    "death_loop['is_anomalous'] = False\n",
    "death_loop['mse_percentage'] = np.nan\n",
    "death_loop['threshold'] = threshold\n",
    "\n",
    "# Use .loc to safely assign values\n",
    "death_loop.loc[death_loop.index[offset:], 'is_anomalous'] = mse_percentage > threshold\n",
    "death_loop.loc[death_loop.index[offset:], 'mse_percentage'] = mse_percentage\n",
    "\n",
    "\n",
    "\n",
    "# Create a new figure\n",
    "fig = go.Figure()\n",
    "\n",
    "\n",
    "# Add a line for the actual load\n",
    "fig.add_trace(go.Scatter(\n",
    "    x=death_loop.index,\n",
    "    y=death_loop[\"coord\"],\n",
    "    mode='lines',\n",
    "    name='coord',\n",
    "    line=dict(color='green'),  # specify line color here\n",
    "))\n",
    "\n",
    "# Add a line for the anomalous load\n",
    "fig.add_trace(go.Scatter(\n",
    "    x=death_loop[death_loop['is_anomalous']].index,\n",
    "    y=death_loop[death_loop['is_anomalous']][\"coord\"],\n",
    "    mode='markers',\n",
    "    name='Anomalous coord',\n",
    "    marker=dict(color='red', size=5),  # specify marker color and size here\n",
    "))\n",
    "\n",
    "# Show the plot\n",
    "fig.show()\n",
    "death_loop.to_csv('death_loop_result.csv')"
   ]
  },
  {
   "cell_type": "code",
   "execution_count": 49,
   "metadata": {},
   "outputs": [
    {
     "name": "stdout",
     "output_type": "stream",
     "text": [
      "1/1 [==============================] - 0s 30ms/step\n"
     ]
    },
    {
     "data": {
      "application/vnd.plotly.v1+json": {
       "config": {
        "plotlyServerURL": "https://plot.ly"
       },
       "data": [
        {
         "line": {
          "color": "green"
         },
         "mode": "lines",
         "name": "coord",
         "type": "scatter",
         "x": [
          "2023-10-11T13:44:42",
          "2023-10-11T13:44:45",
          "2023-10-11T13:44:48",
          "2023-10-11T13:44:51",
          "2023-10-11T13:44:54",
          "2023-10-11T13:44:57",
          "2023-10-11T13:45:00",
          "2023-10-11T13:45:03",
          "2023-10-11T13:45:06",
          "2023-10-11T13:45:09",
          "2023-10-11T13:45:12",
          "2023-10-11T13:45:15",
          "2023-10-11T13:45:18",
          "2023-10-11T13:45:21",
          "2023-10-11T13:45:24",
          "2023-10-11T13:45:27",
          "2023-10-11T13:45:30",
          "2023-10-11T13:45:33",
          "2023-10-11T13:45:36",
          "2023-10-11T13:45:39",
          "2023-10-11T13:45:42",
          "2023-10-11T13:45:45",
          "2023-10-11T13:45:48",
          "2023-10-11T13:45:51",
          "2023-10-11T13:45:54",
          "2023-10-11T13:45:57",
          "2023-10-11T13:46:00",
          "2023-10-11T13:46:03",
          "2023-10-11T13:46:06",
          "2023-10-11T13:46:09",
          "2023-10-11T13:46:12",
          "2023-10-11T13:46:15",
          "2023-10-11T13:46:18",
          "2023-10-11T13:46:21",
          "2023-10-11T13:46:24",
          "2023-10-11T13:46:27",
          "2023-10-11T13:46:30",
          "2023-10-11T13:46:33",
          "2023-10-11T13:46:36",
          "2023-10-11T13:46:39",
          "2023-10-11T13:46:42",
          "2023-10-11T13:46:45",
          "2023-10-11T13:46:48",
          "2023-10-11T13:46:51",
          "2023-10-11T13:46:54",
          "2023-10-11T13:46:57",
          "2023-10-11T13:47:00",
          "2023-10-11T13:47:03",
          "2023-10-11T13:47:06",
          "2023-10-11T13:47:09",
          "2023-10-11T13:47:12",
          "2023-10-11T13:47:15",
          "2023-10-11T13:47:18"
         ],
         "y": [
          -88.176,
          -40.676,
          -12.398000000000005,
          -21.364,
          -23.735999999999997,
          -25.313999999999997,
          -44.315999999999995,
          -91.574,
          -50.75,
          -50.846,
          -50.848,
          -91.72200000000001,
          -44.378,
          -91.888,
          -92.056,
          -92.11800000000001,
          -92.048,
          -91.90599999999999,
          -44.489999999999995,
          -51.048,
          -51.016000000000005,
          -50.874,
          -91.532,
          -91.468,
          -44.082000000000015,
          -3.3160000000000025,
          -3.397999999999999,
          -3.399999999999994,
          -43.989999999999995,
          -43.932,
          -91.42,
          -50.68,
          -50.70399999999999,
          -50.748000000000005,
          -91.434,
          -44.022000000000006,
          -91.526,
          -86.966,
          -77.564,
          -68.80999999999999,
          -106.97999999999999,
          -97.852,
          -42.7,
          -10.557999999999996,
          -19.426000000000002,
          -21.964,
          -24.321999999999996,
          -42.134,
          -90.418,
          -86.276,
          -74.032,
          -65.204,
          -98.89999999999999
         ]
        },
        {
         "marker": {
          "color": "red",
          "size": 5
         },
         "mode": "markers",
         "name": "Anomalous coord",
         "type": "scatter",
         "x": [
          "2023-10-11T13:46:27",
          "2023-10-11T13:46:30",
          "2023-10-11T13:46:33",
          "2023-10-11T13:46:36",
          "2023-10-11T13:46:39",
          "2023-10-11T13:46:42",
          "2023-10-11T13:46:45",
          "2023-10-11T13:46:48",
          "2023-10-11T13:46:51",
          "2023-10-11T13:46:54",
          "2023-10-11T13:46:57",
          "2023-10-11T13:47:00",
          "2023-10-11T13:47:03"
         ],
         "y": [
          -44.022000000000006,
          -91.526,
          -86.966,
          -77.564,
          -68.80999999999999,
          -106.97999999999999,
          -97.852,
          -42.7,
          -10.557999999999996,
          -19.426000000000002,
          -21.964,
          -24.321999999999996,
          -42.134
         ]
        }
       ],
       "layout": {
        "template": {
         "data": {
          "bar": [
           {
            "error_x": {
             "color": "#2a3f5f"
            },
            "error_y": {
             "color": "#2a3f5f"
            },
            "marker": {
             "line": {
              "color": "#E5ECF6",
              "width": 0.5
             },
             "pattern": {
              "fillmode": "overlay",
              "size": 10,
              "solidity": 0.2
             }
            },
            "type": "bar"
           }
          ],
          "barpolar": [
           {
            "marker": {
             "line": {
              "color": "#E5ECF6",
              "width": 0.5
             },
             "pattern": {
              "fillmode": "overlay",
              "size": 10,
              "solidity": 0.2
             }
            },
            "type": "barpolar"
           }
          ],
          "carpet": [
           {
            "aaxis": {
             "endlinecolor": "#2a3f5f",
             "gridcolor": "white",
             "linecolor": "white",
             "minorgridcolor": "white",
             "startlinecolor": "#2a3f5f"
            },
            "baxis": {
             "endlinecolor": "#2a3f5f",
             "gridcolor": "white",
             "linecolor": "white",
             "minorgridcolor": "white",
             "startlinecolor": "#2a3f5f"
            },
            "type": "carpet"
           }
          ],
          "choropleth": [
           {
            "colorbar": {
             "outlinewidth": 0,
             "ticks": ""
            },
            "type": "choropleth"
           }
          ],
          "contour": [
           {
            "colorbar": {
             "outlinewidth": 0,
             "ticks": ""
            },
            "colorscale": [
             [
              0,
              "#0d0887"
             ],
             [
              0.1111111111111111,
              "#46039f"
             ],
             [
              0.2222222222222222,
              "#7201a8"
             ],
             [
              0.3333333333333333,
              "#9c179e"
             ],
             [
              0.4444444444444444,
              "#bd3786"
             ],
             [
              0.5555555555555556,
              "#d8576b"
             ],
             [
              0.6666666666666666,
              "#ed7953"
             ],
             [
              0.7777777777777778,
              "#fb9f3a"
             ],
             [
              0.8888888888888888,
              "#fdca26"
             ],
             [
              1,
              "#f0f921"
             ]
            ],
            "type": "contour"
           }
          ],
          "contourcarpet": [
           {
            "colorbar": {
             "outlinewidth": 0,
             "ticks": ""
            },
            "type": "contourcarpet"
           }
          ],
          "heatmap": [
           {
            "colorbar": {
             "outlinewidth": 0,
             "ticks": ""
            },
            "colorscale": [
             [
              0,
              "#0d0887"
             ],
             [
              0.1111111111111111,
              "#46039f"
             ],
             [
              0.2222222222222222,
              "#7201a8"
             ],
             [
              0.3333333333333333,
              "#9c179e"
             ],
             [
              0.4444444444444444,
              "#bd3786"
             ],
             [
              0.5555555555555556,
              "#d8576b"
             ],
             [
              0.6666666666666666,
              "#ed7953"
             ],
             [
              0.7777777777777778,
              "#fb9f3a"
             ],
             [
              0.8888888888888888,
              "#fdca26"
             ],
             [
              1,
              "#f0f921"
             ]
            ],
            "type": "heatmap"
           }
          ],
          "heatmapgl": [
           {
            "colorbar": {
             "outlinewidth": 0,
             "ticks": ""
            },
            "colorscale": [
             [
              0,
              "#0d0887"
             ],
             [
              0.1111111111111111,
              "#46039f"
             ],
             [
              0.2222222222222222,
              "#7201a8"
             ],
             [
              0.3333333333333333,
              "#9c179e"
             ],
             [
              0.4444444444444444,
              "#bd3786"
             ],
             [
              0.5555555555555556,
              "#d8576b"
             ],
             [
              0.6666666666666666,
              "#ed7953"
             ],
             [
              0.7777777777777778,
              "#fb9f3a"
             ],
             [
              0.8888888888888888,
              "#fdca26"
             ],
             [
              1,
              "#f0f921"
             ]
            ],
            "type": "heatmapgl"
           }
          ],
          "histogram": [
           {
            "marker": {
             "pattern": {
              "fillmode": "overlay",
              "size": 10,
              "solidity": 0.2
             }
            },
            "type": "histogram"
           }
          ],
          "histogram2d": [
           {
            "colorbar": {
             "outlinewidth": 0,
             "ticks": ""
            },
            "colorscale": [
             [
              0,
              "#0d0887"
             ],
             [
              0.1111111111111111,
              "#46039f"
             ],
             [
              0.2222222222222222,
              "#7201a8"
             ],
             [
              0.3333333333333333,
              "#9c179e"
             ],
             [
              0.4444444444444444,
              "#bd3786"
             ],
             [
              0.5555555555555556,
              "#d8576b"
             ],
             [
              0.6666666666666666,
              "#ed7953"
             ],
             [
              0.7777777777777778,
              "#fb9f3a"
             ],
             [
              0.8888888888888888,
              "#fdca26"
             ],
             [
              1,
              "#f0f921"
             ]
            ],
            "type": "histogram2d"
           }
          ],
          "histogram2dcontour": [
           {
            "colorbar": {
             "outlinewidth": 0,
             "ticks": ""
            },
            "colorscale": [
             [
              0,
              "#0d0887"
             ],
             [
              0.1111111111111111,
              "#46039f"
             ],
             [
              0.2222222222222222,
              "#7201a8"
             ],
             [
              0.3333333333333333,
              "#9c179e"
             ],
             [
              0.4444444444444444,
              "#bd3786"
             ],
             [
              0.5555555555555556,
              "#d8576b"
             ],
             [
              0.6666666666666666,
              "#ed7953"
             ],
             [
              0.7777777777777778,
              "#fb9f3a"
             ],
             [
              0.8888888888888888,
              "#fdca26"
             ],
             [
              1,
              "#f0f921"
             ]
            ],
            "type": "histogram2dcontour"
           }
          ],
          "mesh3d": [
           {
            "colorbar": {
             "outlinewidth": 0,
             "ticks": ""
            },
            "type": "mesh3d"
           }
          ],
          "parcoords": [
           {
            "line": {
             "colorbar": {
              "outlinewidth": 0,
              "ticks": ""
             }
            },
            "type": "parcoords"
           }
          ],
          "pie": [
           {
            "automargin": true,
            "type": "pie"
           }
          ],
          "scatter": [
           {
            "fillpattern": {
             "fillmode": "overlay",
             "size": 10,
             "solidity": 0.2
            },
            "type": "scatter"
           }
          ],
          "scatter3d": [
           {
            "line": {
             "colorbar": {
              "outlinewidth": 0,
              "ticks": ""
             }
            },
            "marker": {
             "colorbar": {
              "outlinewidth": 0,
              "ticks": ""
             }
            },
            "type": "scatter3d"
           }
          ],
          "scattercarpet": [
           {
            "marker": {
             "colorbar": {
              "outlinewidth": 0,
              "ticks": ""
             }
            },
            "type": "scattercarpet"
           }
          ],
          "scattergeo": [
           {
            "marker": {
             "colorbar": {
              "outlinewidth": 0,
              "ticks": ""
             }
            },
            "type": "scattergeo"
           }
          ],
          "scattergl": [
           {
            "marker": {
             "colorbar": {
              "outlinewidth": 0,
              "ticks": ""
             }
            },
            "type": "scattergl"
           }
          ],
          "scattermapbox": [
           {
            "marker": {
             "colorbar": {
              "outlinewidth": 0,
              "ticks": ""
             }
            },
            "type": "scattermapbox"
           }
          ],
          "scatterpolar": [
           {
            "marker": {
             "colorbar": {
              "outlinewidth": 0,
              "ticks": ""
             }
            },
            "type": "scatterpolar"
           }
          ],
          "scatterpolargl": [
           {
            "marker": {
             "colorbar": {
              "outlinewidth": 0,
              "ticks": ""
             }
            },
            "type": "scatterpolargl"
           }
          ],
          "scatterternary": [
           {
            "marker": {
             "colorbar": {
              "outlinewidth": 0,
              "ticks": ""
             }
            },
            "type": "scatterternary"
           }
          ],
          "surface": [
           {
            "colorbar": {
             "outlinewidth": 0,
             "ticks": ""
            },
            "colorscale": [
             [
              0,
              "#0d0887"
             ],
             [
              0.1111111111111111,
              "#46039f"
             ],
             [
              0.2222222222222222,
              "#7201a8"
             ],
             [
              0.3333333333333333,
              "#9c179e"
             ],
             [
              0.4444444444444444,
              "#bd3786"
             ],
             [
              0.5555555555555556,
              "#d8576b"
             ],
             [
              0.6666666666666666,
              "#ed7953"
             ],
             [
              0.7777777777777778,
              "#fb9f3a"
             ],
             [
              0.8888888888888888,
              "#fdca26"
             ],
             [
              1,
              "#f0f921"
             ]
            ],
            "type": "surface"
           }
          ],
          "table": [
           {
            "cells": {
             "fill": {
              "color": "#EBF0F8"
             },
             "line": {
              "color": "white"
             }
            },
            "header": {
             "fill": {
              "color": "#C8D4E3"
             },
             "line": {
              "color": "white"
             }
            },
            "type": "table"
           }
          ]
         },
         "layout": {
          "annotationdefaults": {
           "arrowcolor": "#2a3f5f",
           "arrowhead": 0,
           "arrowwidth": 1
          },
          "autotypenumbers": "strict",
          "coloraxis": {
           "colorbar": {
            "outlinewidth": 0,
            "ticks": ""
           }
          },
          "colorscale": {
           "diverging": [
            [
             0,
             "#8e0152"
            ],
            [
             0.1,
             "#c51b7d"
            ],
            [
             0.2,
             "#de77ae"
            ],
            [
             0.3,
             "#f1b6da"
            ],
            [
             0.4,
             "#fde0ef"
            ],
            [
             0.5,
             "#f7f7f7"
            ],
            [
             0.6,
             "#e6f5d0"
            ],
            [
             0.7,
             "#b8e186"
            ],
            [
             0.8,
             "#7fbc41"
            ],
            [
             0.9,
             "#4d9221"
            ],
            [
             1,
             "#276419"
            ]
           ],
           "sequential": [
            [
             0,
             "#0d0887"
            ],
            [
             0.1111111111111111,
             "#46039f"
            ],
            [
             0.2222222222222222,
             "#7201a8"
            ],
            [
             0.3333333333333333,
             "#9c179e"
            ],
            [
             0.4444444444444444,
             "#bd3786"
            ],
            [
             0.5555555555555556,
             "#d8576b"
            ],
            [
             0.6666666666666666,
             "#ed7953"
            ],
            [
             0.7777777777777778,
             "#fb9f3a"
            ],
            [
             0.8888888888888888,
             "#fdca26"
            ],
            [
             1,
             "#f0f921"
            ]
           ],
           "sequentialminus": [
            [
             0,
             "#0d0887"
            ],
            [
             0.1111111111111111,
             "#46039f"
            ],
            [
             0.2222222222222222,
             "#7201a8"
            ],
            [
             0.3333333333333333,
             "#9c179e"
            ],
            [
             0.4444444444444444,
             "#bd3786"
            ],
            [
             0.5555555555555556,
             "#d8576b"
            ],
            [
             0.6666666666666666,
             "#ed7953"
            ],
            [
             0.7777777777777778,
             "#fb9f3a"
            ],
            [
             0.8888888888888888,
             "#fdca26"
            ],
            [
             1,
             "#f0f921"
            ]
           ]
          },
          "colorway": [
           "#636efa",
           "#EF553B",
           "#00cc96",
           "#ab63fa",
           "#FFA15A",
           "#19d3f3",
           "#FF6692",
           "#B6E880",
           "#FF97FF",
           "#FECB52"
          ],
          "font": {
           "color": "#2a3f5f"
          },
          "geo": {
           "bgcolor": "white",
           "lakecolor": "white",
           "landcolor": "#E5ECF6",
           "showlakes": true,
           "showland": true,
           "subunitcolor": "white"
          },
          "hoverlabel": {
           "align": "left"
          },
          "hovermode": "closest",
          "mapbox": {
           "style": "light"
          },
          "paper_bgcolor": "white",
          "plot_bgcolor": "#E5ECF6",
          "polar": {
           "angularaxis": {
            "gridcolor": "white",
            "linecolor": "white",
            "ticks": ""
           },
           "bgcolor": "#E5ECF6",
           "radialaxis": {
            "gridcolor": "white",
            "linecolor": "white",
            "ticks": ""
           }
          },
          "scene": {
           "xaxis": {
            "backgroundcolor": "#E5ECF6",
            "gridcolor": "white",
            "gridwidth": 2,
            "linecolor": "white",
            "showbackground": true,
            "ticks": "",
            "zerolinecolor": "white"
           },
           "yaxis": {
            "backgroundcolor": "#E5ECF6",
            "gridcolor": "white",
            "gridwidth": 2,
            "linecolor": "white",
            "showbackground": true,
            "ticks": "",
            "zerolinecolor": "white"
           },
           "zaxis": {
            "backgroundcolor": "#E5ECF6",
            "gridcolor": "white",
            "gridwidth": 2,
            "linecolor": "white",
            "showbackground": true,
            "ticks": "",
            "zerolinecolor": "white"
           }
          },
          "shapedefaults": {
           "line": {
            "color": "#2a3f5f"
           }
          },
          "ternary": {
           "aaxis": {
            "gridcolor": "white",
            "linecolor": "white",
            "ticks": ""
           },
           "baxis": {
            "gridcolor": "white",
            "linecolor": "white",
            "ticks": ""
           },
           "bgcolor": "#E5ECF6",
           "caxis": {
            "gridcolor": "white",
            "linecolor": "white",
            "ticks": ""
           }
          },
          "title": {
           "x": 0.05
          },
          "xaxis": {
           "automargin": true,
           "gridcolor": "white",
           "linecolor": "white",
           "ticks": "",
           "title": {
            "standoff": 15
           },
           "zerolinecolor": "white",
           "zerolinewidth": 2
          },
          "yaxis": {
           "automargin": true,
           "gridcolor": "white",
           "linecolor": "white",
           "ticks": "",
           "title": {
            "standoff": 15
           },
           "zerolinecolor": "white",
           "zerolinewidth": 2
          }
         }
        }
       }
      }
     },
     "metadata": {},
     "output_type": "display_data"
    }
   ],
   "source": [
    "# Prepare the 'normal' data into sequences\n",
    "sequences = create_overlapping_sequences(dropped['coord'].values, sequence_length)\n",
    "sequences = sequences.reshape((sequences.shape[0], sequence_length, input_dim))\n",
    "\n",
    "# Use the Autoencoder to predict on the sequences\n",
    "predictions = autoencoder.predict(sequences)\n",
    "\n",
    "# Calculate reconstruction error for each sequence\n",
    "mse = np.mean(np.power(sequences - predictions, 2), axis=(1, 2))\n",
    "\n",
    "# Scale the MSE to a percentage\n",
    "min_mse = np.min(mse)\n",
    "max_mse = np.max(mse)\n",
    "mse_percentage = ((mse - min_mse) / (max_mse - min_mse)) * 100\n",
    "\n",
    "# Detect anomalies by comparing the scaled reconstruction error to some threshold\n",
    "threshold = 60  # Define a threshold value (in percentage)\n",
    "\n",
    "# Handling the offset caused by sequence creation\n",
    "offset = len(dropped) - len(mse_percentage)\n",
    "\n",
    "# Initialize columns with default values\n",
    "dropped['is_anomalous'] = False\n",
    "dropped['mse_percentage'] = np.nan\n",
    "dropped['threshold'] = threshold\n",
    "\n",
    "# Use .loc to safely assign values\n",
    "dropped.loc[dropped.index[offset:], 'is_anomalous'] = mse_percentage > threshold\n",
    "dropped.loc[dropped.index[offset:], 'mse_percentage'] = mse_percentage\n",
    "\n",
    "\n",
    "\n",
    "# Create a new figure\n",
    "fig = go.Figure()\n",
    "\n",
    "\n",
    "# Add a line for the actual load\n",
    "fig.add_trace(go.Scatter(\n",
    "    x=dropped.index,\n",
    "    y=dropped[\"coord\"],\n",
    "    mode='lines',\n",
    "    name='coord',\n",
    "    line=dict(color='green'),  # specify line color here\n",
    "))\n",
    "\n",
    "# Add a line for the anomalous load\n",
    "fig.add_trace(go.Scatter(\n",
    "    x=dropped[dropped['is_anomalous']].index,\n",
    "    y=dropped[dropped['is_anomalous']][\"coord\"],\n",
    "    mode='markers',\n",
    "    name='Anomalous coord',\n",
    "    marker=dict(color='red', size=5),  # specify marker color and size here\n",
    "))\n",
    "\n",
    "# Show the plot\n",
    "fig.show()\n",
    "dropped.to_csv('dropped_result.csv')"
   ]
  }
 ],
 "metadata": {
  "kernelspec": {
   "display_name": ".venv",
   "language": "python",
   "name": "python3"
  },
  "language_info": {
   "codemirror_mode": {
    "name": "ipython",
    "version": 3
   },
   "file_extension": ".py",
   "mimetype": "text/x-python",
   "name": "python",
   "nbconvert_exporter": "python",
   "pygments_lexer": "ipython3",
   "version": "3.11.5"
  },
  "orig_nbformat": 4
 },
 "nbformat": 4,
 "nbformat_minor": 2
}
